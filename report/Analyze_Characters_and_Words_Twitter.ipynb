{
  "nbformat": 4,
  "nbformat_minor": 0,
  "metadata": {
    "colab": {
      "provenance": [],
      "mount_file_id": "1q3kCuXL0pGXWGf3-8iuO027XiDMfR7VA",
      "authorship_tag": "ABX9TyOd5TuGHPcryUh1H9mSVNVx",
      "include_colab_link": true
    },
    "kernelspec": {
      "name": "python3",
      "display_name": "Python 3"
    },
    "language_info": {
      "name": "python"
    }
  },
  "cells": [
    {
      "cell_type": "markdown",
      "metadata": {
        "id": "view-in-github",
        "colab_type": "text"
      },
      "source": [
        "<a href=\"https://colab.research.google.com/github/fajrinovi/datacleansing-using-API/blob/main/Analyze_Characters_and_Words_Twitter.ipynb\" target=\"_parent\"><img src=\"https://colab.research.google.com/assets/colab-badge.svg\" alt=\"Open In Colab\"/></a>"
      ]
    },
    {
      "cell_type": "markdown",
      "source": [
        "## **Import Library**"
      ],
      "metadata": {
        "id": "dl55fHpPivsn"
      }
    },
    {
      "cell_type": "code",
      "execution_count": 3,
      "metadata": {
        "id": "RpXdz3Vyjlk8",
        "colab": {
          "base_uri": "https://localhost:8080/"
        },
        "outputId": "974b5eb7-225f-4cc5-c04e-0c0652f18c87"
      },
      "outputs": [
        {
          "output_type": "stream",
          "name": "stderr",
          "text": [
            "/usr/local/lib/python3.8/dist-packages/torch/cuda/__init__.py:497: UserWarning: Can't initialize NVML\n",
            "  warnings.warn(\"Can't initialize NVML\")\n"
          ]
        }
      ],
      "source": [
        "import numpy as np\n",
        "import pandas as pd \n",
        "import os\n",
        "import re\n",
        "# from Sastrawi.Stemmer.StemmerFactory import StemmerFactory\n",
        "import string\n",
        "import random\n",
        "import matplotlib.pyplot as plt\n",
        "import seaborn as sns\n",
        "%matplotlib inline\n",
        "from plotly import graph_objs as go\n",
        "import plotly.express as px\n",
        "import plotly.figure_factory as ff\n",
        "from collections import Counter\n",
        "from PIL import Image\n",
        "from wordcloud import WordCloud, STOPWORDS, ImageColorGenerator\n",
        "import nltk\n",
        "from nltk.corpus import stopwords\n",
        "from tqdm import tqdm\n",
        "import os\n",
        "import nltk\n",
        "import spacy\n",
        "from spacy.util import compounding\n",
        "from spacy.util import minibatch\n",
        "from sklearn.model_selection import train_test_split\n",
        "import sqlite3"
      ]
    },
    {
      "cell_type": "markdown",
      "source": [
        "## **Data Preparation**"
      ],
      "metadata": {
        "id": "1kqzcYBei1Sa"
      }
    },
    {
      "cell_type": "code",
      "source": [
        "conn = sqlite3.connect('datacleansing.db')"
      ],
      "metadata": {
        "id": "BUse6VlrkUCJ"
      },
      "execution_count": 4,
      "outputs": []
    },
    {
      "cell_type": "code",
      "source": [
        "alay_dict = pd.read_csv('/content/drive/MyDrive/Colab Notebooks/Cleansing_data/new_kamusalay.csv', names = ['original', 'replacement'], encoding='latin-1')\n",
        "abusive_dict = pd.read_csv('/content/drive/MyDrive/Colab Notebooks/Cleansing_data/abusive.csv', encoding='latin-1')\n",
        "stopword_dict = pd.read_csv('/content/drive/MyDrive/Colab Notebooks/Cleansing_data/stopwordbahasa.csv', names = ['stopword'], encoding='latin-1')"
      ],
      "metadata": {
        "id": "PR8cRE_3kzw0"
      },
      "execution_count": 5,
      "outputs": []
    },
    {
      "cell_type": "code",
      "source": [
        "df = pd.read_csv('/content/drive/MyDrive/Colab Notebooks/Cleansing_data/data.csv',encoding='latin-1')"
      ],
      "metadata": {
        "id": "C4eTxa1LlBcg"
      },
      "execution_count": 6,
      "outputs": []
    },
    {
      "cell_type": "code",
      "source": [
        "df.head()"
      ],
      "metadata": {
        "colab": {
          "base_uri": "https://localhost:8080/",
          "height": 722
        },
        "id": "aULT-dnAlFyu",
        "outputId": "9c3ce2d1-96ed-4cbb-db1a-ebb6fb6a02ea"
      },
      "execution_count": 7,
      "outputs": [
        {
          "output_type": "execute_result",
          "data": {
            "text/plain": [
              "                                               Tweet  HS  Abusive  \\\n",
              "0  - disaat semua cowok berusaha melacak perhatia...   1        1   \n",
              "1  RT USER: USER siapa yang telat ngasih tau elu?...   0        1   \n",
              "2  41. Kadang aku berfikir, kenapa aku tetap perc...   0        0   \n",
              "3  USER USER AKU ITU AKU\\n\\nKU TAU MATAMU SIPIT T...   0        0   \n",
              "4  USER USER Kaum cebong kapir udah keliatan dong...   1        1   \n",
              "\n",
              "   HS_Individual  HS_Group  HS_Religion  HS_Race  HS_Physical  HS_Gender  \\\n",
              "0              1         0            0        0            0          0   \n",
              "1              0         0            0        0            0          0   \n",
              "2              0         0            0        0            0          0   \n",
              "3              0         0            0        0            0          0   \n",
              "4              0         1            1        0            0          0   \n",
              "\n",
              "   HS_Other  HS_Weak  HS_Moderate  HS_Strong  \n",
              "0         1        1            0          0  \n",
              "1         0        0            0          0  \n",
              "2         0        0            0          0  \n",
              "3         0        0            0          0  \n",
              "4         0        0            1          0  "
            ],
            "text/html": [
              "\n",
              "  <div id=\"df-51342b9c-4bb3-4ccd-b2ea-da52fb41259e\">\n",
              "    <div class=\"colab-df-container\">\n",
              "      <div>\n",
              "<style scoped>\n",
              "    .dataframe tbody tr th:only-of-type {\n",
              "        vertical-align: middle;\n",
              "    }\n",
              "\n",
              "    .dataframe tbody tr th {\n",
              "        vertical-align: top;\n",
              "    }\n",
              "\n",
              "    .dataframe thead th {\n",
              "        text-align: right;\n",
              "    }\n",
              "</style>\n",
              "<table border=\"1\" class=\"dataframe\">\n",
              "  <thead>\n",
              "    <tr style=\"text-align: right;\">\n",
              "      <th></th>\n",
              "      <th>Tweet</th>\n",
              "      <th>HS</th>\n",
              "      <th>Abusive</th>\n",
              "      <th>HS_Individual</th>\n",
              "      <th>HS_Group</th>\n",
              "      <th>HS_Religion</th>\n",
              "      <th>HS_Race</th>\n",
              "      <th>HS_Physical</th>\n",
              "      <th>HS_Gender</th>\n",
              "      <th>HS_Other</th>\n",
              "      <th>HS_Weak</th>\n",
              "      <th>HS_Moderate</th>\n",
              "      <th>HS_Strong</th>\n",
              "    </tr>\n",
              "  </thead>\n",
              "  <tbody>\n",
              "    <tr>\n",
              "      <th>0</th>\n",
              "      <td>- disaat semua cowok berusaha melacak perhatia...</td>\n",
              "      <td>1</td>\n",
              "      <td>1</td>\n",
              "      <td>1</td>\n",
              "      <td>0</td>\n",
              "      <td>0</td>\n",
              "      <td>0</td>\n",
              "      <td>0</td>\n",
              "      <td>0</td>\n",
              "      <td>1</td>\n",
              "      <td>1</td>\n",
              "      <td>0</td>\n",
              "      <td>0</td>\n",
              "    </tr>\n",
              "    <tr>\n",
              "      <th>1</th>\n",
              "      <td>RT USER: USER siapa yang telat ngasih tau elu?...</td>\n",
              "      <td>0</td>\n",
              "      <td>1</td>\n",
              "      <td>0</td>\n",
              "      <td>0</td>\n",
              "      <td>0</td>\n",
              "      <td>0</td>\n",
              "      <td>0</td>\n",
              "      <td>0</td>\n",
              "      <td>0</td>\n",
              "      <td>0</td>\n",
              "      <td>0</td>\n",
              "      <td>0</td>\n",
              "    </tr>\n",
              "    <tr>\n",
              "      <th>2</th>\n",
              "      <td>41. Kadang aku berfikir, kenapa aku tetap perc...</td>\n",
              "      <td>0</td>\n",
              "      <td>0</td>\n",
              "      <td>0</td>\n",
              "      <td>0</td>\n",
              "      <td>0</td>\n",
              "      <td>0</td>\n",
              "      <td>0</td>\n",
              "      <td>0</td>\n",
              "      <td>0</td>\n",
              "      <td>0</td>\n",
              "      <td>0</td>\n",
              "      <td>0</td>\n",
              "    </tr>\n",
              "    <tr>\n",
              "      <th>3</th>\n",
              "      <td>USER USER AKU ITU AKU\\n\\nKU TAU MATAMU SIPIT T...</td>\n",
              "      <td>0</td>\n",
              "      <td>0</td>\n",
              "      <td>0</td>\n",
              "      <td>0</td>\n",
              "      <td>0</td>\n",
              "      <td>0</td>\n",
              "      <td>0</td>\n",
              "      <td>0</td>\n",
              "      <td>0</td>\n",
              "      <td>0</td>\n",
              "      <td>0</td>\n",
              "      <td>0</td>\n",
              "    </tr>\n",
              "    <tr>\n",
              "      <th>4</th>\n",
              "      <td>USER USER Kaum cebong kapir udah keliatan dong...</td>\n",
              "      <td>1</td>\n",
              "      <td>1</td>\n",
              "      <td>0</td>\n",
              "      <td>1</td>\n",
              "      <td>1</td>\n",
              "      <td>0</td>\n",
              "      <td>0</td>\n",
              "      <td>0</td>\n",
              "      <td>0</td>\n",
              "      <td>0</td>\n",
              "      <td>1</td>\n",
              "      <td>0</td>\n",
              "    </tr>\n",
              "  </tbody>\n",
              "</table>\n",
              "</div>\n",
              "      <button class=\"colab-df-convert\" onclick=\"convertToInteractive('df-51342b9c-4bb3-4ccd-b2ea-da52fb41259e')\"\n",
              "              title=\"Convert this dataframe to an interactive table.\"\n",
              "              style=\"display:none;\">\n",
              "        \n",
              "  <svg xmlns=\"http://www.w3.org/2000/svg\" height=\"24px\"viewBox=\"0 0 24 24\"\n",
              "       width=\"24px\">\n",
              "    <path d=\"M0 0h24v24H0V0z\" fill=\"none\"/>\n",
              "    <path d=\"M18.56 5.44l.94 2.06.94-2.06 2.06-.94-2.06-.94-.94-2.06-.94 2.06-2.06.94zm-11 1L8.5 8.5l.94-2.06 2.06-.94-2.06-.94L8.5 2.5l-.94 2.06-2.06.94zm10 10l.94 2.06.94-2.06 2.06-.94-2.06-.94-.94-2.06-.94 2.06-2.06.94z\"/><path d=\"M17.41 7.96l-1.37-1.37c-.4-.4-.92-.59-1.43-.59-.52 0-1.04.2-1.43.59L10.3 9.45l-7.72 7.72c-.78.78-.78 2.05 0 2.83L4 21.41c.39.39.9.59 1.41.59.51 0 1.02-.2 1.41-.59l7.78-7.78 2.81-2.81c.8-.78.8-2.07 0-2.86zM5.41 20L4 18.59l7.72-7.72 1.47 1.35L5.41 20z\"/>\n",
              "  </svg>\n",
              "      </button>\n",
              "      \n",
              "  <style>\n",
              "    .colab-df-container {\n",
              "      display:flex;\n",
              "      flex-wrap:wrap;\n",
              "      gap: 12px;\n",
              "    }\n",
              "\n",
              "    .colab-df-convert {\n",
              "      background-color: #E8F0FE;\n",
              "      border: none;\n",
              "      border-radius: 50%;\n",
              "      cursor: pointer;\n",
              "      display: none;\n",
              "      fill: #1967D2;\n",
              "      height: 32px;\n",
              "      padding: 0 0 0 0;\n",
              "      width: 32px;\n",
              "    }\n",
              "\n",
              "    .colab-df-convert:hover {\n",
              "      background-color: #E2EBFA;\n",
              "      box-shadow: 0px 1px 2px rgba(60, 64, 67, 0.3), 0px 1px 3px 1px rgba(60, 64, 67, 0.15);\n",
              "      fill: #174EA6;\n",
              "    }\n",
              "\n",
              "    [theme=dark] .colab-df-convert {\n",
              "      background-color: #3B4455;\n",
              "      fill: #D2E3FC;\n",
              "    }\n",
              "\n",
              "    [theme=dark] .colab-df-convert:hover {\n",
              "      background-color: #434B5C;\n",
              "      box-shadow: 0px 1px 3px 1px rgba(0, 0, 0, 0.15);\n",
              "      filter: drop-shadow(0px 1px 2px rgba(0, 0, 0, 0.3));\n",
              "      fill: #FFFFFF;\n",
              "    }\n",
              "  </style>\n",
              "\n",
              "      <script>\n",
              "        const buttonEl =\n",
              "          document.querySelector('#df-51342b9c-4bb3-4ccd-b2ea-da52fb41259e button.colab-df-convert');\n",
              "        buttonEl.style.display =\n",
              "          google.colab.kernel.accessAllowed ? 'block' : 'none';\n",
              "\n",
              "        async function convertToInteractive(key) {\n",
              "          const element = document.querySelector('#df-51342b9c-4bb3-4ccd-b2ea-da52fb41259e');\n",
              "          const dataTable =\n",
              "            await google.colab.kernel.invokeFunction('convertToInteractive',\n",
              "                                                     [key], {});\n",
              "          if (!dataTable) return;\n",
              "\n",
              "          const docLinkHtml = 'Like what you see? Visit the ' +\n",
              "            '<a target=\"_blank\" href=https://colab.research.google.com/notebooks/data_table.ipynb>data table notebook</a>'\n",
              "            + ' to learn more about interactive tables.';\n",
              "          element.innerHTML = '';\n",
              "          dataTable['output_type'] = 'display_data';\n",
              "          await google.colab.output.renderOutput(dataTable, element);\n",
              "          const docLink = document.createElement('div');\n",
              "          docLink.innerHTML = docLinkHtml;\n",
              "          element.appendChild(docLink);\n",
              "        }\n",
              "      </script>\n",
              "    </div>\n",
              "  </div>\n",
              "  "
            ]
          },
          "metadata": {},
          "execution_count": 7
        }
      ]
    },
    {
      "cell_type": "markdown",
      "source": [
        "**Mengecek total data dan jumlah kolom**"
      ],
      "metadata": {
        "id": "RbEMtHU6hj4P"
      }
    },
    {
      "cell_type": "code",
      "source": [
        "df.shape"
      ],
      "metadata": {
        "colab": {
          "base_uri": "https://localhost:8080/"
        },
        "id": "vsoPKTn0KPBn",
        "outputId": "f58d76a9-3428-4fe0-ac7b-bd78f9e8c7f0"
      },
      "execution_count": 8,
      "outputs": [
        {
          "output_type": "execute_result",
          "data": {
            "text/plain": [
              "(13169, 13)"
            ]
          },
          "metadata": {},
          "execution_count": 8
        }
      ]
    },
    {
      "cell_type": "markdown",
      "source": [
        "**Mengecek total duplikat data**"
      ],
      "metadata": {
        "id": "SKdsFdnuhci5"
      }
    },
    {
      "cell_type": "code",
      "source": [
        "df.duplicated().sum()"
      ],
      "metadata": {
        "colab": {
          "base_uri": "https://localhost:8080/"
        },
        "id": "xwWMFhcGlHH7",
        "outputId": "09f2a4f3-2f74-455e-99ca-0ad09893893c"
      },
      "execution_count": 9,
      "outputs": [
        {
          "output_type": "execute_result",
          "data": {
            "text/plain": [
              "125"
            ]
          },
          "metadata": {},
          "execution_count": 9
        }
      ]
    },
    {
      "cell_type": "code",
      "source": [
        "df = df.drop_duplicates()"
      ],
      "metadata": {
        "id": "yG4QIYDelJlP"
      },
      "execution_count": 10,
      "outputs": []
    },
    {
      "cell_type": "markdown",
      "source": [
        "**Mengecek missing values**"
      ],
      "metadata": {
        "id": "a0U3aB-ehoCn"
      }
    },
    {
      "cell_type": "code",
      "source": [
        "df.isna().sum()"
      ],
      "metadata": {
        "colab": {
          "base_uri": "https://localhost:8080/"
        },
        "id": "2Vt2HAa7lgVI",
        "outputId": "3278b0a6-a05c-45fb-bd6e-f05ead0c493f"
      },
      "execution_count": 11,
      "outputs": [
        {
          "output_type": "execute_result",
          "data": {
            "text/plain": [
              "Tweet            0\n",
              "HS               0\n",
              "Abusive          0\n",
              "HS_Individual    0\n",
              "HS_Group         0\n",
              "HS_Religion      0\n",
              "HS_Race          0\n",
              "HS_Physical      0\n",
              "HS_Gender        0\n",
              "HS_Other         0\n",
              "HS_Weak          0\n",
              "HS_Moderate      0\n",
              "HS_Strong        0\n",
              "dtype: int64"
            ]
          },
          "metadata": {},
          "execution_count": 11
        }
      ]
    },
    {
      "cell_type": "markdown",
      "source": [
        "**Data Cleaning**"
      ],
      "metadata": {
        "id": "zLObYeSxfZrR"
      }
    },
    {
      "cell_type": "code",
      "source": [
        "def lowercase(text):\n",
        "    return text.lower()\n",
        "\n",
        "def remove_unnecessary_char(text):\n",
        "    text = re.sub('\\\\+n', ' ', text)\n",
        "    text = re.sub('\\n',\" \",text) # Remove every '\\n'\n",
        "    \n",
        "    text = re.sub('rt',' ',text) # Remove every retweet symbol\n",
        "    text = re.sub('RT',' ',text) # Remove every retweet symbol\n",
        "    text = re.sub('user',' ',text) # Remove every username\n",
        "    text = re.sub('USER', ' ', text)\n",
        "    text = re.sub('((www\\.[^\\s]+)|(https?://[^\\s]+)|(http?://[^\\s]+))',' ',text) # Remove every URL\n",
        "    text = re.sub(':', ' ', text)\n",
        "    text = re.sub(';', ' ', text)\n",
        "    text = re.sub(\"'\", \" \", text)\n",
        "    text = re.sub('\\\\+n', ' ', text)\n",
        "    text = re.sub('\\n',\" \",text) # Remove every '\\n'\n",
        "    text = re.sub('\\\\+', ' ', text)\n",
        "    text = re.sub('  +', ' ', text) # Remove extra spaces)\n",
        "    return text\n",
        "    \n",
        "alay_dict_map = dict(zip(alay_dict['original'], alay_dict['replacement']))\n",
        "def normalize_alay(text):\n",
        "    return ' '.join([alay_dict_map[word] if word in alay_dict_map else word for word in str(text).split(' ')])\n",
        "\n",
        "def remove_stopword(text):\n",
        "    text = ' '.join(['' if word in stopword_dict.stopword.values else word for word in text.split(' ')])\n",
        "    text = re.sub('  +', ' ', text) # Remove extra spaces\n",
        "    text = text.strip()\n",
        "    return text\n",
        "\n",
        "def remove_emoticon_byte(text):\n",
        "    text = str(text).replace(\"\\\\\", \" \")\n",
        "    text = re.sub('x..', ' ', text)\n",
        "    text = re.sub(' n ', ' ', text)\n",
        "    text = re.sub('\\\\+', ' ', text)\n",
        "    text = re.sub('  +', ' ', text)\n",
        "    return text\n",
        "\n",
        "def remove_early_space(text):\n",
        "    if text[0] == ' ':\n",
        "        return text[1:]\n",
        "    else:\n",
        "        return text"
      ],
      "metadata": {
        "id": "QCZ49YM7li7d"
      },
      "execution_count": 58,
      "outputs": []
    },
    {
      "cell_type": "code",
      "source": [
        "def preprocess(text):\n",
        "    text = lowercase(text)\n",
        "    text = remove_unnecessary_char(text) # 2\n",
        "    text = normalize_alay(text) # 3\n",
        "    text = remove_unnecessary_char(text)\n",
        "    text = remove_emoticon_byte(text)\n",
        "    text = remove_early_space(text)\n",
        "    text = remove_stopword(text)\n",
        "    return text\n",
        "\n",
        "def classify(hs):\n",
        "    retval = \"\"\n",
        "    if int(hs) == 1:\n",
        "        retval = 'positive'\n",
        "    else:\n",
        "        retval = 'negative'\n",
        "    return retval"
      ],
      "metadata": {
        "id": "5nMUWaL2lqH1"
      },
      "execution_count": 59,
      "outputs": []
    },
    {
      "cell_type": "markdown",
      "source": [
        "**Membuat kolom total_char yang berisi panjang karakter tiap text dan total_word yang berisi banyak kata tiap text**"
      ],
      "metadata": {
        "id": "r31NjglsgfpT"
      }
    },
    {
      "cell_type": "code",
      "source": [
        "df['total_char'] = df['Tweet'].apply(len)"
      ],
      "metadata": {
        "id": "TjYiRyBSKyUO"
      },
      "execution_count": 60,
      "outputs": []
    },
    {
      "cell_type": "code",
      "source": [
        "df['total_word'] = df['Tweet'].apply(lambda sent: len(sent.split()))"
      ],
      "metadata": {
        "id": "vGCxsR2ZLR4e"
      },
      "execution_count": 61,
      "outputs": []
    },
    {
      "cell_type": "code",
      "source": [
        "df.head()"
      ],
      "metadata": {
        "colab": {
          "base_uri": "https://localhost:8080/",
          "height": 739
        },
        "id": "j_a2vDdnLqn-",
        "outputId": "1cf4c21f-b1d2-4081-fe09-22dea4801cd2"
      },
      "execution_count": 62,
      "outputs": [
        {
          "output_type": "execute_result",
          "data": {
            "text/plain": [
              "                                               Tweet  HS  Abusive  \\\n",
              "0  - disaat semua cowok berusaha melacak perhatia...   1        1   \n",
              "1  RT USER: USER siapa yang telat ngasih tau elu?...   0        1   \n",
              "2  41. Kadang aku berfikir, kenapa aku tetap perc...   0        0   \n",
              "3  USER USER AKU ITU AKU\\n\\nKU TAU MATAMU SIPIT T...   0        0   \n",
              "4  USER USER Kaum cebong kapir udah keliatan dong...   1        1   \n",
              "\n",
              "   HS_Individual  HS_Group  HS_Religion  HS_Race  HS_Physical  HS_Gender  \\\n",
              "0              1         0            0        0            0          0   \n",
              "1              0         0            0        0            0          0   \n",
              "2              0         0            0        0            0          0   \n",
              "3              0         0            0        0            0          0   \n",
              "4              0         1            1        0            0          0   \n",
              "\n",
              "   HS_Other  HS_Weak  HS_Moderate  HS_Strong  total_char  total_word  \\\n",
              "0         1        1            0          0         138          25   \n",
              "1         0        0            0          0         120          21   \n",
              "2         0        0            0          0         254          37   \n",
              "3         0        0            0          0          75          14   \n",
              "4         0        0            1          0          89          14   \n",
              "\n",
              "                                                text  hs_class  \n",
              "0  - cowok berusaha melacak perhatian gue. lantas...  positive  \n",
              "1  telat tau elu?edan sarap gue bergaul ciga ifla...  negative  \n",
              "2  41. kadang berfikir, percaya tuhan jatuh berka...  negative  \n",
              "3                          nku tau matamu sipit aku'  negative  \n",
              "4         kaum cebong kafir dongoknya dungu hahahah'  positive  "
            ],
            "text/html": [
              "\n",
              "  <div id=\"df-86b3e7f9-adb3-4240-811e-db231bd66a83\">\n",
              "    <div class=\"colab-df-container\">\n",
              "      <div>\n",
              "<style scoped>\n",
              "    .dataframe tbody tr th:only-of-type {\n",
              "        vertical-align: middle;\n",
              "    }\n",
              "\n",
              "    .dataframe tbody tr th {\n",
              "        vertical-align: top;\n",
              "    }\n",
              "\n",
              "    .dataframe thead th {\n",
              "        text-align: right;\n",
              "    }\n",
              "</style>\n",
              "<table border=\"1\" class=\"dataframe\">\n",
              "  <thead>\n",
              "    <tr style=\"text-align: right;\">\n",
              "      <th></th>\n",
              "      <th>Tweet</th>\n",
              "      <th>HS</th>\n",
              "      <th>Abusive</th>\n",
              "      <th>HS_Individual</th>\n",
              "      <th>HS_Group</th>\n",
              "      <th>HS_Religion</th>\n",
              "      <th>HS_Race</th>\n",
              "      <th>HS_Physical</th>\n",
              "      <th>HS_Gender</th>\n",
              "      <th>HS_Other</th>\n",
              "      <th>HS_Weak</th>\n",
              "      <th>HS_Moderate</th>\n",
              "      <th>HS_Strong</th>\n",
              "      <th>total_char</th>\n",
              "      <th>total_word</th>\n",
              "      <th>text</th>\n",
              "      <th>hs_class</th>\n",
              "    </tr>\n",
              "  </thead>\n",
              "  <tbody>\n",
              "    <tr>\n",
              "      <th>0</th>\n",
              "      <td>- disaat semua cowok berusaha melacak perhatia...</td>\n",
              "      <td>1</td>\n",
              "      <td>1</td>\n",
              "      <td>1</td>\n",
              "      <td>0</td>\n",
              "      <td>0</td>\n",
              "      <td>0</td>\n",
              "      <td>0</td>\n",
              "      <td>0</td>\n",
              "      <td>1</td>\n",
              "      <td>1</td>\n",
              "      <td>0</td>\n",
              "      <td>0</td>\n",
              "      <td>138</td>\n",
              "      <td>25</td>\n",
              "      <td>- cowok berusaha melacak perhatian gue. lantas...</td>\n",
              "      <td>positive</td>\n",
              "    </tr>\n",
              "    <tr>\n",
              "      <th>1</th>\n",
              "      <td>RT USER: USER siapa yang telat ngasih tau elu?...</td>\n",
              "      <td>0</td>\n",
              "      <td>1</td>\n",
              "      <td>0</td>\n",
              "      <td>0</td>\n",
              "      <td>0</td>\n",
              "      <td>0</td>\n",
              "      <td>0</td>\n",
              "      <td>0</td>\n",
              "      <td>0</td>\n",
              "      <td>0</td>\n",
              "      <td>0</td>\n",
              "      <td>0</td>\n",
              "      <td>120</td>\n",
              "      <td>21</td>\n",
              "      <td>telat tau elu?edan sarap gue bergaul ciga ifla...</td>\n",
              "      <td>negative</td>\n",
              "    </tr>\n",
              "    <tr>\n",
              "      <th>2</th>\n",
              "      <td>41. Kadang aku berfikir, kenapa aku tetap perc...</td>\n",
              "      <td>0</td>\n",
              "      <td>0</td>\n",
              "      <td>0</td>\n",
              "      <td>0</td>\n",
              "      <td>0</td>\n",
              "      <td>0</td>\n",
              "      <td>0</td>\n",
              "      <td>0</td>\n",
              "      <td>0</td>\n",
              "      <td>0</td>\n",
              "      <td>0</td>\n",
              "      <td>0</td>\n",
              "      <td>254</td>\n",
              "      <td>37</td>\n",
              "      <td>41. kadang berfikir, percaya tuhan jatuh berka...</td>\n",
              "      <td>negative</td>\n",
              "    </tr>\n",
              "    <tr>\n",
              "      <th>3</th>\n",
              "      <td>USER USER AKU ITU AKU\\n\\nKU TAU MATAMU SIPIT T...</td>\n",
              "      <td>0</td>\n",
              "      <td>0</td>\n",
              "      <td>0</td>\n",
              "      <td>0</td>\n",
              "      <td>0</td>\n",
              "      <td>0</td>\n",
              "      <td>0</td>\n",
              "      <td>0</td>\n",
              "      <td>0</td>\n",
              "      <td>0</td>\n",
              "      <td>0</td>\n",
              "      <td>0</td>\n",
              "      <td>75</td>\n",
              "      <td>14</td>\n",
              "      <td>nku tau matamu sipit aku'</td>\n",
              "      <td>negative</td>\n",
              "    </tr>\n",
              "    <tr>\n",
              "      <th>4</th>\n",
              "      <td>USER USER Kaum cebong kapir udah keliatan dong...</td>\n",
              "      <td>1</td>\n",
              "      <td>1</td>\n",
              "      <td>0</td>\n",
              "      <td>1</td>\n",
              "      <td>1</td>\n",
              "      <td>0</td>\n",
              "      <td>0</td>\n",
              "      <td>0</td>\n",
              "      <td>0</td>\n",
              "      <td>0</td>\n",
              "      <td>1</td>\n",
              "      <td>0</td>\n",
              "      <td>89</td>\n",
              "      <td>14</td>\n",
              "      <td>kaum cebong kafir dongoknya dungu hahahah'</td>\n",
              "      <td>positive</td>\n",
              "    </tr>\n",
              "  </tbody>\n",
              "</table>\n",
              "</div>\n",
              "      <button class=\"colab-df-convert\" onclick=\"convertToInteractive('df-86b3e7f9-adb3-4240-811e-db231bd66a83')\"\n",
              "              title=\"Convert this dataframe to an interactive table.\"\n",
              "              style=\"display:none;\">\n",
              "        \n",
              "  <svg xmlns=\"http://www.w3.org/2000/svg\" height=\"24px\"viewBox=\"0 0 24 24\"\n",
              "       width=\"24px\">\n",
              "    <path d=\"M0 0h24v24H0V0z\" fill=\"none\"/>\n",
              "    <path d=\"M18.56 5.44l.94 2.06.94-2.06 2.06-.94-2.06-.94-.94-2.06-.94 2.06-2.06.94zm-11 1L8.5 8.5l.94-2.06 2.06-.94-2.06-.94L8.5 2.5l-.94 2.06-2.06.94zm10 10l.94 2.06.94-2.06 2.06-.94-2.06-.94-.94-2.06-.94 2.06-2.06.94z\"/><path d=\"M17.41 7.96l-1.37-1.37c-.4-.4-.92-.59-1.43-.59-.52 0-1.04.2-1.43.59L10.3 9.45l-7.72 7.72c-.78.78-.78 2.05 0 2.83L4 21.41c.39.39.9.59 1.41.59.51 0 1.02-.2 1.41-.59l7.78-7.78 2.81-2.81c.8-.78.8-2.07 0-2.86zM5.41 20L4 18.59l7.72-7.72 1.47 1.35L5.41 20z\"/>\n",
              "  </svg>\n",
              "      </button>\n",
              "      \n",
              "  <style>\n",
              "    .colab-df-container {\n",
              "      display:flex;\n",
              "      flex-wrap:wrap;\n",
              "      gap: 12px;\n",
              "    }\n",
              "\n",
              "    .colab-df-convert {\n",
              "      background-color: #E8F0FE;\n",
              "      border: none;\n",
              "      border-radius: 50%;\n",
              "      cursor: pointer;\n",
              "      display: none;\n",
              "      fill: #1967D2;\n",
              "      height: 32px;\n",
              "      padding: 0 0 0 0;\n",
              "      width: 32px;\n",
              "    }\n",
              "\n",
              "    .colab-df-convert:hover {\n",
              "      background-color: #E2EBFA;\n",
              "      box-shadow: 0px 1px 2px rgba(60, 64, 67, 0.3), 0px 1px 3px 1px rgba(60, 64, 67, 0.15);\n",
              "      fill: #174EA6;\n",
              "    }\n",
              "\n",
              "    [theme=dark] .colab-df-convert {\n",
              "      background-color: #3B4455;\n",
              "      fill: #D2E3FC;\n",
              "    }\n",
              "\n",
              "    [theme=dark] .colab-df-convert:hover {\n",
              "      background-color: #434B5C;\n",
              "      box-shadow: 0px 1px 3px 1px rgba(0, 0, 0, 0.15);\n",
              "      filter: drop-shadow(0px 1px 2px rgba(0, 0, 0, 0.3));\n",
              "      fill: #FFFFFF;\n",
              "    }\n",
              "  </style>\n",
              "\n",
              "      <script>\n",
              "        const buttonEl =\n",
              "          document.querySelector('#df-86b3e7f9-adb3-4240-811e-db231bd66a83 button.colab-df-convert');\n",
              "        buttonEl.style.display =\n",
              "          google.colab.kernel.accessAllowed ? 'block' : 'none';\n",
              "\n",
              "        async function convertToInteractive(key) {\n",
              "          const element = document.querySelector('#df-86b3e7f9-adb3-4240-811e-db231bd66a83');\n",
              "          const dataTable =\n",
              "            await google.colab.kernel.invokeFunction('convertToInteractive',\n",
              "                                                     [key], {});\n",
              "          if (!dataTable) return;\n",
              "\n",
              "          const docLinkHtml = 'Like what you see? Visit the ' +\n",
              "            '<a target=\"_blank\" href=https://colab.research.google.com/notebooks/data_table.ipynb>data table notebook</a>'\n",
              "            + ' to learn more about interactive tables.';\n",
              "          element.innerHTML = '';\n",
              "          dataTable['output_type'] = 'display_data';\n",
              "          await google.colab.output.renderOutput(dataTable, element);\n",
              "          const docLink = document.createElement('div');\n",
              "          docLink.innerHTML = docLinkHtml;\n",
              "          element.appendChild(docLink);\n",
              "        }\n",
              "      </script>\n",
              "    </div>\n",
              "  </div>\n",
              "  "
            ]
          },
          "metadata": {},
          "execution_count": 62
        }
      ]
    },
    {
      "cell_type": "code",
      "source": [
        "df['text'] = df['Tweet'].apply(preprocess)\n",
        "df['hs_class'] = df['HS'].apply(classify)\n",
        "df[['text', 'hs_class']].sample(10)"
      ],
      "metadata": {
        "colab": {
          "base_uri": "https://localhost:8080/",
          "height": 363
        },
        "id": "qFXfo3zXlsYd",
        "outputId": "19da9217-7ff8-4f15-9c02-daa5cb87a291"
      },
      "execution_count": 63,
      "outputs": [
        {
          "output_type": "execute_result",
          "data": {
            "text/plain": [
              "                                                    text  hs_class\n",
              "6301   masak eh ajak ngentot sialan uniform resource ...  negative\n",
              "7534   diganti kotak kosong baik, dilan terpilih lagi...  positive\n",
              "11471  beda paham impor garam, menteri perdagangan ek...  negative\n",
              "9630   mohon blokir tegas,akun provokatif pemecah bel...  negative\n",
              "7316   indahnya cocot pks. berbicara .ketum kayak ben...  positive\n",
              "6970                                                  am  negative\n",
              "6041   antek komunis yayasan lembaga bantuan hukum in...  positive\n",
              "2008   agama ..... ndi ka u tanda penduduk te ulis na...  negative\n",
              "6467   deh elegan sampean undang penulis istana mengu...  positive\n",
              "1005   rute pondok cina-gang sentiong keberangkatan p...  negative"
            ],
            "text/html": [
              "\n",
              "  <div id=\"df-491de101-82ec-4e79-92be-eb670e671a05\">\n",
              "    <div class=\"colab-df-container\">\n",
              "      <div>\n",
              "<style scoped>\n",
              "    .dataframe tbody tr th:only-of-type {\n",
              "        vertical-align: middle;\n",
              "    }\n",
              "\n",
              "    .dataframe tbody tr th {\n",
              "        vertical-align: top;\n",
              "    }\n",
              "\n",
              "    .dataframe thead th {\n",
              "        text-align: right;\n",
              "    }\n",
              "</style>\n",
              "<table border=\"1\" class=\"dataframe\">\n",
              "  <thead>\n",
              "    <tr style=\"text-align: right;\">\n",
              "      <th></th>\n",
              "      <th>text</th>\n",
              "      <th>hs_class</th>\n",
              "    </tr>\n",
              "  </thead>\n",
              "  <tbody>\n",
              "    <tr>\n",
              "      <th>6301</th>\n",
              "      <td>masak eh ajak ngentot sialan uniform resource ...</td>\n",
              "      <td>negative</td>\n",
              "    </tr>\n",
              "    <tr>\n",
              "      <th>7534</th>\n",
              "      <td>diganti kotak kosong baik, dilan terpilih lagi...</td>\n",
              "      <td>positive</td>\n",
              "    </tr>\n",
              "    <tr>\n",
              "      <th>11471</th>\n",
              "      <td>beda paham impor garam, menteri perdagangan ek...</td>\n",
              "      <td>negative</td>\n",
              "    </tr>\n",
              "    <tr>\n",
              "      <th>9630</th>\n",
              "      <td>mohon blokir tegas,akun provokatif pemecah bel...</td>\n",
              "      <td>negative</td>\n",
              "    </tr>\n",
              "    <tr>\n",
              "      <th>7316</th>\n",
              "      <td>indahnya cocot pks. berbicara .ketum kayak ben...</td>\n",
              "      <td>positive</td>\n",
              "    </tr>\n",
              "    <tr>\n",
              "      <th>6970</th>\n",
              "      <td>am</td>\n",
              "      <td>negative</td>\n",
              "    </tr>\n",
              "    <tr>\n",
              "      <th>6041</th>\n",
              "      <td>antek komunis yayasan lembaga bantuan hukum in...</td>\n",
              "      <td>positive</td>\n",
              "    </tr>\n",
              "    <tr>\n",
              "      <th>2008</th>\n",
              "      <td>agama ..... ndi ka u tanda penduduk te ulis na...</td>\n",
              "      <td>negative</td>\n",
              "    </tr>\n",
              "    <tr>\n",
              "      <th>6467</th>\n",
              "      <td>deh elegan sampean undang penulis istana mengu...</td>\n",
              "      <td>positive</td>\n",
              "    </tr>\n",
              "    <tr>\n",
              "      <th>1005</th>\n",
              "      <td>rute pondok cina-gang sentiong keberangkatan p...</td>\n",
              "      <td>negative</td>\n",
              "    </tr>\n",
              "  </tbody>\n",
              "</table>\n",
              "</div>\n",
              "      <button class=\"colab-df-convert\" onclick=\"convertToInteractive('df-491de101-82ec-4e79-92be-eb670e671a05')\"\n",
              "              title=\"Convert this dataframe to an interactive table.\"\n",
              "              style=\"display:none;\">\n",
              "        \n",
              "  <svg xmlns=\"http://www.w3.org/2000/svg\" height=\"24px\"viewBox=\"0 0 24 24\"\n",
              "       width=\"24px\">\n",
              "    <path d=\"M0 0h24v24H0V0z\" fill=\"none\"/>\n",
              "    <path d=\"M18.56 5.44l.94 2.06.94-2.06 2.06-.94-2.06-.94-.94-2.06-.94 2.06-2.06.94zm-11 1L8.5 8.5l.94-2.06 2.06-.94-2.06-.94L8.5 2.5l-.94 2.06-2.06.94zm10 10l.94 2.06.94-2.06 2.06-.94-2.06-.94-.94-2.06-.94 2.06-2.06.94z\"/><path d=\"M17.41 7.96l-1.37-1.37c-.4-.4-.92-.59-1.43-.59-.52 0-1.04.2-1.43.59L10.3 9.45l-7.72 7.72c-.78.78-.78 2.05 0 2.83L4 21.41c.39.39.9.59 1.41.59.51 0 1.02-.2 1.41-.59l7.78-7.78 2.81-2.81c.8-.78.8-2.07 0-2.86zM5.41 20L4 18.59l7.72-7.72 1.47 1.35L5.41 20z\"/>\n",
              "  </svg>\n",
              "      </button>\n",
              "      \n",
              "  <style>\n",
              "    .colab-df-container {\n",
              "      display:flex;\n",
              "      flex-wrap:wrap;\n",
              "      gap: 12px;\n",
              "    }\n",
              "\n",
              "    .colab-df-convert {\n",
              "      background-color: #E8F0FE;\n",
              "      border: none;\n",
              "      border-radius: 50%;\n",
              "      cursor: pointer;\n",
              "      display: none;\n",
              "      fill: #1967D2;\n",
              "      height: 32px;\n",
              "      padding: 0 0 0 0;\n",
              "      width: 32px;\n",
              "    }\n",
              "\n",
              "    .colab-df-convert:hover {\n",
              "      background-color: #E2EBFA;\n",
              "      box-shadow: 0px 1px 2px rgba(60, 64, 67, 0.3), 0px 1px 3px 1px rgba(60, 64, 67, 0.15);\n",
              "      fill: #174EA6;\n",
              "    }\n",
              "\n",
              "    [theme=dark] .colab-df-convert {\n",
              "      background-color: #3B4455;\n",
              "      fill: #D2E3FC;\n",
              "    }\n",
              "\n",
              "    [theme=dark] .colab-df-convert:hover {\n",
              "      background-color: #434B5C;\n",
              "      box-shadow: 0px 1px 3px 1px rgba(0, 0, 0, 0.15);\n",
              "      filter: drop-shadow(0px 1px 2px rgba(0, 0, 0, 0.3));\n",
              "      fill: #FFFFFF;\n",
              "    }\n",
              "  </style>\n",
              "\n",
              "      <script>\n",
              "        const buttonEl =\n",
              "          document.querySelector('#df-491de101-82ec-4e79-92be-eb670e671a05 button.colab-df-convert');\n",
              "        buttonEl.style.display =\n",
              "          google.colab.kernel.accessAllowed ? 'block' : 'none';\n",
              "\n",
              "        async function convertToInteractive(key) {\n",
              "          const element = document.querySelector('#df-491de101-82ec-4e79-92be-eb670e671a05');\n",
              "          const dataTable =\n",
              "            await google.colab.kernel.invokeFunction('convertToInteractive',\n",
              "                                                     [key], {});\n",
              "          if (!dataTable) return;\n",
              "\n",
              "          const docLinkHtml = 'Like what you see? Visit the ' +\n",
              "            '<a target=\"_blank\" href=https://colab.research.google.com/notebooks/data_table.ipynb>data table notebook</a>'\n",
              "            + ' to learn more about interactive tables.';\n",
              "          element.innerHTML = '';\n",
              "          dataTable['output_type'] = 'display_data';\n",
              "          await google.colab.output.renderOutput(dataTable, element);\n",
              "          const docLink = document.createElement('div');\n",
              "          docLink.innerHTML = docLinkHtml;\n",
              "          element.appendChild(docLink);\n",
              "        }\n",
              "      </script>\n",
              "    </div>\n",
              "  </div>\n",
              "  "
            ]
          },
          "metadata": {},
          "execution_count": 63
        }
      ]
    },
    {
      "cell_type": "code",
      "source": [
        "train = df[['hs_class', 'text']]\n",
        "base_train = train\n",
        "train.to_csv('train_preprocessed.csv', index = False)\n",
        "train.sample(5)"
      ],
      "metadata": {
        "colab": {
          "base_uri": "https://localhost:8080/",
          "height": 206
        },
        "id": "uNTuHPvglvhA",
        "outputId": "5b42e2ec-a1df-48c8-cf1c-6dc536129b73"
      },
      "execution_count": 64,
      "outputs": [
        {
          "output_type": "execute_result",
          "data": {
            "text/plain": [
              "       hs_class                                               text\n",
              "12341  positive  keren namanya gubernur indonesia. presiden kar...\n",
              "6754   positive  rakyat paham hoaks nya golongan kampret..... r...\n",
              "7114   positive  cebong dungu marah marah. ajaran nabi nya. ren...\n",
              "8158   positive         anjir paypal anjing banget mengena fee nya\n",
              "6540   negative  gus ipul-mbak puti berkomitmen meningkatkan pe..."
            ],
            "text/html": [
              "\n",
              "  <div id=\"df-66ffc2b8-5d7d-481b-a6d1-60175cdef136\">\n",
              "    <div class=\"colab-df-container\">\n",
              "      <div>\n",
              "<style scoped>\n",
              "    .dataframe tbody tr th:only-of-type {\n",
              "        vertical-align: middle;\n",
              "    }\n",
              "\n",
              "    .dataframe tbody tr th {\n",
              "        vertical-align: top;\n",
              "    }\n",
              "\n",
              "    .dataframe thead th {\n",
              "        text-align: right;\n",
              "    }\n",
              "</style>\n",
              "<table border=\"1\" class=\"dataframe\">\n",
              "  <thead>\n",
              "    <tr style=\"text-align: right;\">\n",
              "      <th></th>\n",
              "      <th>hs_class</th>\n",
              "      <th>text</th>\n",
              "    </tr>\n",
              "  </thead>\n",
              "  <tbody>\n",
              "    <tr>\n",
              "      <th>12341</th>\n",
              "      <td>positive</td>\n",
              "      <td>keren namanya gubernur indonesia. presiden kar...</td>\n",
              "    </tr>\n",
              "    <tr>\n",
              "      <th>6754</th>\n",
              "      <td>positive</td>\n",
              "      <td>rakyat paham hoaks nya golongan kampret..... r...</td>\n",
              "    </tr>\n",
              "    <tr>\n",
              "      <th>7114</th>\n",
              "      <td>positive</td>\n",
              "      <td>cebong dungu marah marah. ajaran nabi nya. ren...</td>\n",
              "    </tr>\n",
              "    <tr>\n",
              "      <th>8158</th>\n",
              "      <td>positive</td>\n",
              "      <td>anjir paypal anjing banget mengena fee nya</td>\n",
              "    </tr>\n",
              "    <tr>\n",
              "      <th>6540</th>\n",
              "      <td>negative</td>\n",
              "      <td>gus ipul-mbak puti berkomitmen meningkatkan pe...</td>\n",
              "    </tr>\n",
              "  </tbody>\n",
              "</table>\n",
              "</div>\n",
              "      <button class=\"colab-df-convert\" onclick=\"convertToInteractive('df-66ffc2b8-5d7d-481b-a6d1-60175cdef136')\"\n",
              "              title=\"Convert this dataframe to an interactive table.\"\n",
              "              style=\"display:none;\">\n",
              "        \n",
              "  <svg xmlns=\"http://www.w3.org/2000/svg\" height=\"24px\"viewBox=\"0 0 24 24\"\n",
              "       width=\"24px\">\n",
              "    <path d=\"M0 0h24v24H0V0z\" fill=\"none\"/>\n",
              "    <path d=\"M18.56 5.44l.94 2.06.94-2.06 2.06-.94-2.06-.94-.94-2.06-.94 2.06-2.06.94zm-11 1L8.5 8.5l.94-2.06 2.06-.94-2.06-.94L8.5 2.5l-.94 2.06-2.06.94zm10 10l.94 2.06.94-2.06 2.06-.94-2.06-.94-.94-2.06-.94 2.06-2.06.94z\"/><path d=\"M17.41 7.96l-1.37-1.37c-.4-.4-.92-.59-1.43-.59-.52 0-1.04.2-1.43.59L10.3 9.45l-7.72 7.72c-.78.78-.78 2.05 0 2.83L4 21.41c.39.39.9.59 1.41.59.51 0 1.02-.2 1.41-.59l7.78-7.78 2.81-2.81c.8-.78.8-2.07 0-2.86zM5.41 20L4 18.59l7.72-7.72 1.47 1.35L5.41 20z\"/>\n",
              "  </svg>\n",
              "      </button>\n",
              "      \n",
              "  <style>\n",
              "    .colab-df-container {\n",
              "      display:flex;\n",
              "      flex-wrap:wrap;\n",
              "      gap: 12px;\n",
              "    }\n",
              "\n",
              "    .colab-df-convert {\n",
              "      background-color: #E8F0FE;\n",
              "      border: none;\n",
              "      border-radius: 50%;\n",
              "      cursor: pointer;\n",
              "      display: none;\n",
              "      fill: #1967D2;\n",
              "      height: 32px;\n",
              "      padding: 0 0 0 0;\n",
              "      width: 32px;\n",
              "    }\n",
              "\n",
              "    .colab-df-convert:hover {\n",
              "      background-color: #E2EBFA;\n",
              "      box-shadow: 0px 1px 2px rgba(60, 64, 67, 0.3), 0px 1px 3px 1px rgba(60, 64, 67, 0.15);\n",
              "      fill: #174EA6;\n",
              "    }\n",
              "\n",
              "    [theme=dark] .colab-df-convert {\n",
              "      background-color: #3B4455;\n",
              "      fill: #D2E3FC;\n",
              "    }\n",
              "\n",
              "    [theme=dark] .colab-df-convert:hover {\n",
              "      background-color: #434B5C;\n",
              "      box-shadow: 0px 1px 3px 1px rgba(0, 0, 0, 0.15);\n",
              "      filter: drop-shadow(0px 1px 2px rgba(0, 0, 0, 0.3));\n",
              "      fill: #FFFFFF;\n",
              "    }\n",
              "  </style>\n",
              "\n",
              "      <script>\n",
              "        const buttonEl =\n",
              "          document.querySelector('#df-66ffc2b8-5d7d-481b-a6d1-60175cdef136 button.colab-df-convert');\n",
              "        buttonEl.style.display =\n",
              "          google.colab.kernel.accessAllowed ? 'block' : 'none';\n",
              "\n",
              "        async function convertToInteractive(key) {\n",
              "          const element = document.querySelector('#df-66ffc2b8-5d7d-481b-a6d1-60175cdef136');\n",
              "          const dataTable =\n",
              "            await google.colab.kernel.invokeFunction('convertToInteractive',\n",
              "                                                     [key], {});\n",
              "          if (!dataTable) return;\n",
              "\n",
              "          const docLinkHtml = 'Like what you see? Visit the ' +\n",
              "            '<a target=\"_blank\" href=https://colab.research.google.com/notebooks/data_table.ipynb>data table notebook</a>'\n",
              "            + ' to learn more about interactive tables.';\n",
              "          element.innerHTML = '';\n",
              "          dataTable['output_type'] = 'display_data';\n",
              "          await google.colab.output.renderOutput(dataTable, element);\n",
              "          const docLink = document.createElement('div');\n",
              "          docLink.innerHTML = docLinkHtml;\n",
              "          element.appendChild(docLink);\n",
              "        }\n",
              "      </script>\n",
              "    </div>\n",
              "  </div>\n",
              "  "
            ]
          },
          "metadata": {},
          "execution_count": 64
        }
      ]
    },
    {
      "cell_type": "markdown",
      "source": [
        "## **Analyze**"
      ],
      "metadata": {
        "id": "3qz7M0SCioxu"
      }
    },
    {
      "cell_type": "markdown",
      "source": [
        "### **Univariate Analysis**"
      ],
      "metadata": {
        "id": "nG6tRJUUib4t"
      }
    },
    {
      "cell_type": "markdown",
      "source": [
        "**Mean**\n",
        "\n",
        "Mencari rata-rata dari variabel(kolom) tang tipenya numerical"
      ],
      "metadata": {
        "id": "dUxnGApij506"
      }
    },
    {
      "cell_type": "code",
      "source": [
        "df.mean()"
      ],
      "metadata": {
        "colab": {
          "base_uri": "https://localhost:8080/"
        },
        "id": "lBJVaEtZMsIG",
        "outputId": "bf4839d9-f737-4755-9383-54c62560de5f"
      },
      "execution_count": 65,
      "outputs": [
        {
          "output_type": "stream",
          "name": "stderr",
          "text": [
            "<ipython-input-65-c61f0c8f89b5>:1: FutureWarning: Dropping of nuisance columns in DataFrame reductions (with 'numeric_only=None') is deprecated; in a future version this will raise TypeError.  Select only valid columns before calling the reduction.\n",
            "  df.mean()\n"
          ]
        },
        {
          "output_type": "execute_result",
          "data": {
            "text/plain": [
              "HS                 0.423030\n",
              "Abusive            0.383701\n",
              "HS_Individual      0.271389\n",
              "HS_Group           0.151641\n",
              "HS_Religion        0.060488\n",
              "HS_Race            0.043162\n",
              "HS_Physical        0.024686\n",
              "HS_Gender          0.023306\n",
              "HS_Other           0.284115\n",
              "HS_Weak            0.256670\n",
              "HS_Moderate        0.130175\n",
              "HS_Strong          0.036185\n",
              "total_char       114.124348\n",
              "total_word        17.264259\n",
              "dtype: float64"
            ]
          },
          "metadata": {},
          "execution_count": 65
        }
      ]
    },
    {
      "cell_type": "markdown",
      "source": [
        "**Median**\n",
        "\n",
        "Mencari nilai tengah dari data numerical yang diurutkan"
      ],
      "metadata": {
        "id": "_BsV7Pf6kJnA"
      }
    },
    {
      "cell_type": "code",
      "source": [
        "df.median()"
      ],
      "metadata": {
        "colab": {
          "base_uri": "https://localhost:8080/"
        },
        "id": "wGlFDneSM8xb",
        "outputId": "b6d609e8-56e9-4302-8247-71d5974c1441"
      },
      "execution_count": 66,
      "outputs": [
        {
          "output_type": "stream",
          "name": "stderr",
          "text": [
            "<ipython-input-66-6d467abf240d>:1: FutureWarning: Dropping of nuisance columns in DataFrame reductions (with 'numeric_only=None') is deprecated; in a future version this will raise TypeError.  Select only valid columns before calling the reduction.\n",
            "  df.median()\n"
          ]
        },
        {
          "output_type": "execute_result",
          "data": {
            "text/plain": [
              "HS                 0.0\n",
              "Abusive            0.0\n",
              "HS_Individual      0.0\n",
              "HS_Group           0.0\n",
              "HS_Religion        0.0\n",
              "HS_Race            0.0\n",
              "HS_Physical        0.0\n",
              "HS_Gender          0.0\n",
              "HS_Other           0.0\n",
              "HS_Weak            0.0\n",
              "HS_Moderate        0.0\n",
              "HS_Strong          0.0\n",
              "total_char       100.0\n",
              "total_word        15.0\n",
              "dtype: float64"
            ]
          },
          "metadata": {},
          "execution_count": 66
        }
      ]
    },
    {
      "cell_type": "markdown",
      "source": [
        "**Mode**\n",
        "\n",
        "Mencari frekuensi data yang paling sering muncul"
      ],
      "metadata": {
        "id": "yRPeIsJ2kSA-"
      }
    },
    {
      "cell_type": "code",
      "source": [
        "df['total_char'].mode()"
      ],
      "metadata": {
        "colab": {
          "base_uri": "https://localhost:8080/"
        },
        "id": "bdxpnXG1NBdI",
        "outputId": "f5c39986-01b8-4920-c701-a1743be9991c"
      },
      "execution_count": 67,
      "outputs": [
        {
          "output_type": "execute_result",
          "data": {
            "text/plain": [
              "0    254\n",
              "dtype: int64"
            ]
          },
          "metadata": {},
          "execution_count": 67
        }
      ]
    },
    {
      "cell_type": "code",
      "source": [
        "df['total_word'].mode()"
      ],
      "metadata": {
        "colab": {
          "base_uri": "https://localhost:8080/"
        },
        "id": "QxDKSlWBNHBk",
        "outputId": "3a8754e6-4304-4244-d587-3b8810cdc9ef"
      },
      "execution_count": 68,
      "outputs": [
        {
          "output_type": "execute_result",
          "data": {
            "text/plain": [
              "0    11\n",
              "dtype: int64"
            ]
          },
          "metadata": {},
          "execution_count": 68
        }
      ]
    },
    {
      "cell_type": "markdown",
      "source": [
        "**Range**"
      ],
      "metadata": {
        "id": "jmecSZhrNNyr"
      }
    },
    {
      "cell_type": "markdown",
      "source": [
        "Mencari perbedaan antara nilai terbesar dengan nilai terkecil pada data"
      ],
      "metadata": {
        "id": "DSkWPkeKNa7D"
      }
    },
    {
      "cell_type": "code",
      "source": [
        "range_total_word = df.total_word.max() - df.total_word.min()\n",
        "range_total_word"
      ],
      "metadata": {
        "colab": {
          "base_uri": "https://localhost:8080/"
        },
        "id": "pmQ_fxegNMcO",
        "outputId": "1089cdb8-5e57-4d24-a477-d3067b4c71f0"
      },
      "execution_count": 69,
      "outputs": [
        {
          "output_type": "execute_result",
          "data": {
            "text/plain": [
              "51"
            ]
          },
          "metadata": {},
          "execution_count": 69
        }
      ]
    },
    {
      "cell_type": "code",
      "source": [
        "range_total_char = df.total_char.max() - df.total_char.min()\n",
        "range_total_char"
      ],
      "metadata": {
        "colab": {
          "base_uri": "https://localhost:8080/"
        },
        "id": "1whuoSKjNl7w",
        "outputId": "fe661629-2649-4d74-c5ca-3836317889ad"
      },
      "execution_count": 70,
      "outputs": [
        {
          "output_type": "execute_result",
          "data": {
            "text/plain": [
              "557"
            ]
          },
          "metadata": {},
          "execution_count": 70
        }
      ]
    },
    {
      "cell_type": "markdown",
      "source": [
        "**Quartile dan Interquartile Range**"
      ],
      "metadata": {
        "id": "PHcdw_DkNzpv"
      }
    },
    {
      "cell_type": "code",
      "source": [
        "#mencari nilai minimum\n",
        "p0 = df.total_char.min()\n",
        "\n",
        "#mencari nilai maximum\n",
        "p100 = df.total_char.max()\n",
        "\n",
        "# cari Q1\n",
        "q1 = df.total_char.quantile(0.25)\n",
        "\n",
        "#cari Q2\n",
        "q2 = df.total_char.quantile(0.5)\n",
        "\n",
        "#cari Q3\n",
        "q3 = df.total_char.quantile(0.75)\n",
        "\n",
        "#cari IQR\n",
        "iqr = q3-q1\n",
        "\n",
        "#cari batas bawah\n",
        "lower_limit = q1-1.5*iqr\n",
        "\n",
        "#cari batas atas\n",
        "upper_limit = q3+1.5*iqr\n",
        "\n",
        "print(\"Batas Bawah 'total_char' :\", lower_limit)\n",
        "print(\"Nilai minimum\",p0)\n",
        "if lower_limit < p0:\n",
        "  print(\"Tidak ada outlier dari sisi batas bawah\")\n",
        "else:\n",
        "  print(\"Ada outlier dari sisi batas bawah\")\n",
        "\n",
        "print()\n",
        "print(\"Batas Atas 'total_char' :\", upper_limit)\n",
        "print(\"Nilai maksimum\", p100)\n",
        "if upper_limit > p100:\n",
        "  print(\"Tidak ada outlier dari sisi batas atas\")\n",
        "else:\n",
        "  print(\"Ada outlier dari sisi batas atas\")"
      ],
      "metadata": {
        "colab": {
          "base_uri": "https://localhost:8080/"
        },
        "id": "me8yakUANvI4",
        "outputId": "444ccbbc-d7ca-42b9-d34c-79216131942e"
      },
      "execution_count": 71,
      "outputs": [
        {
          "output_type": "stream",
          "name": "stdout",
          "text": [
            "Batas Bawah 'total_char' : -80.5\n",
            "Nilai minimum 4\n",
            "Tidak ada outlier dari sisi batas bawah\n",
            "\n",
            "Batas Atas 'total_char' : 291.5\n",
            "Nilai maksimum 561\n",
            "Ada outlier dari sisi batas atas\n"
          ]
        }
      ]
    },
    {
      "cell_type": "markdown",
      "source": [
        "**Variance**"
      ],
      "metadata": {
        "id": "lVllU54pP5CV"
      }
    },
    {
      "cell_type": "markdown",
      "source": [
        "Mengukur seberapa jauh jarak data tersebar dari mean-nya. Kalau nilai variance suatu variabel/kolom lebih besar atau lebih kecil dari mean, maka nilai dari variabel/kolom itu menjauhi mean"
      ],
      "metadata": {
        "id": "_IxbpuWEQf78"
      }
    },
    {
      "cell_type": "code",
      "source": [
        "df.var()"
      ],
      "metadata": {
        "colab": {
          "base_uri": "https://localhost:8080/"
        },
        "id": "-a0wYcYYQUxk",
        "outputId": "ddf4a703-8a7b-4ba2-a3f3-ba579cd5fa93"
      },
      "execution_count": 72,
      "outputs": [
        {
          "output_type": "stream",
          "name": "stderr",
          "text": [
            "<ipython-input-72-28ded241fd7c>:1: FutureWarning: Dropping of nuisance columns in DataFrame reductions (with 'numeric_only=None') is deprecated; in a future version this will raise TypeError.  Select only valid columns before calling the reduction.\n",
            "  df.var()\n"
          ]
        },
        {
          "output_type": "execute_result",
          "data": {
            "text/plain": [
              "HS                  0.244094\n",
              "Abusive             0.236493\n",
              "HS_Individual       0.197752\n",
              "HS_Group            0.128656\n",
              "HS_Religion         0.056833\n",
              "HS_Race             0.041302\n",
              "HS_Physical         0.024078\n",
              "HS_Gender           0.022764\n",
              "HS_Other            0.203409\n",
              "HS_Weak             0.190805\n",
              "HS_Moderate         0.113238\n",
              "HS_Strong           0.034879\n",
              "total_char       4775.035061\n",
              "total_word        104.910534\n",
              "dtype: float64"
            ]
          },
          "metadata": {},
          "execution_count": 72
        }
      ]
    },
    {
      "cell_type": "markdown",
      "source": [
        "\n",
        "\n",
        "*   Nilai variance dari total_char sebesar 4775.035, sedangkan nilai mean total_char yaitu 114.124, maka nilai variance lebih dari nilai mean.\n",
        "*   Nilai variance dari total_word sebesar 104.91, sedangkan nilai mean total_word yaitu 17.26, maka nilai variance lebih dari nilai mean.\n",
        "\n"
      ],
      "metadata": {
        "id": "yP3AjzUaRVRK"
      }
    },
    {
      "cell_type": "markdown",
      "source": [
        "**Standard Deviation**"
      ],
      "metadata": {
        "id": "TLMf-PdmRkPs"
      }
    },
    {
      "cell_type": "markdown",
      "source": [
        "Mengukur penyebaran observasi dalam kumpulan data relatif terhadap rata-ratanya"
      ],
      "metadata": {
        "id": "gT8RDxHPRrmN"
      }
    },
    {
      "cell_type": "code",
      "source": [
        "df.std()"
      ],
      "metadata": {
        "colab": {
          "base_uri": "https://localhost:8080/"
        },
        "id": "R5URPiI2RjpT",
        "outputId": "49d1b7ce-073e-4ce0-e12d-6eae59f0fb77"
      },
      "execution_count": 73,
      "outputs": [
        {
          "output_type": "stream",
          "name": "stderr",
          "text": [
            "<ipython-input-73-ce97bb7eaef8>:1: FutureWarning: Dropping of nuisance columns in DataFrame reductions (with 'numeric_only=None') is deprecated; in a future version this will raise TypeError.  Select only valid columns before calling the reduction.\n",
            "  df.std()\n"
          ]
        },
        {
          "output_type": "execute_result",
          "data": {
            "text/plain": [
              "HS                0.494059\n",
              "Abusive           0.486305\n",
              "HS_Individual     0.444693\n",
              "HS_Group          0.358686\n",
              "HS_Religion       0.238397\n",
              "HS_Race           0.203229\n",
              "HS_Physical       0.155171\n",
              "HS_Gender         0.150879\n",
              "HS_Other          0.451009\n",
              "HS_Weak           0.436812\n",
              "HS_Moderate       0.336509\n",
              "HS_Strong         0.186758\n",
              "total_char       69.101629\n",
              "total_word       10.242584\n",
              "dtype: float64"
            ]
          },
          "metadata": {},
          "execution_count": 73
        }
      ]
    },
    {
      "cell_type": "markdown",
      "source": [
        "\n",
        "\n",
        "*   Nilai standard deviation dari total_char sebesar 69.10, dan nilai mean total_char sebesar 114.12\n",
        "*   Nilai standard deviation dari total_word sebesar 10.24, dan nilai mean total_word sebesar 17.26\n",
        "\n"
      ],
      "metadata": {
        "id": "Mrp8KmtvR9FN"
      }
    },
    {
      "cell_type": "markdown",
      "source": [
        "**Skewness**"
      ],
      "metadata": {
        "id": "ydlkqttmTHOH"
      }
    },
    {
      "cell_type": "code",
      "source": [
        "df.skew()"
      ],
      "metadata": {
        "colab": {
          "base_uri": "https://localhost:8080/"
        },
        "id": "ErFdMlpgSvim",
        "outputId": "c1316834-5c03-42be-e591-3dc67c1ce3fe"
      },
      "execution_count": 74,
      "outputs": [
        {
          "output_type": "stream",
          "name": "stderr",
          "text": [
            "<ipython-input-74-9e0b1e29546f>:1: FutureWarning: Dropping of nuisance columns in DataFrame reductions (with 'numeric_only=None') is deprecated; in a future version this will raise TypeError.  Select only valid columns before calling the reduction.\n",
            "  df.skew()\n"
          ]
        },
        {
          "output_type": "execute_result",
          "data": {
            "text/plain": [
              "HS               0.311631\n",
              "Abusive          0.478368\n",
              "HS_Individual    1.028331\n",
              "HS_Group         1.942718\n",
              "HS_Religion      3.687795\n",
              "HS_Race          4.496498\n",
              "HS_Physical      6.127256\n",
              "HS_Gender        6.319885\n",
              "HS_Other         0.957487\n",
              "HS_Weak          1.114289\n",
              "HS_Moderate      2.198351\n",
              "HS_Strong        4.967777\n",
              "total_char       0.693647\n",
              "total_word       0.789820\n",
              "dtype: float64"
            ]
          },
          "metadata": {},
          "execution_count": 74
        }
      ]
    },
    {
      "cell_type": "markdown",
      "source": [
        "Nilai skewness di total_char yaitu 0.69 dan total_word yaitu 0.78, yang berarti nilai skewness kedua variabel/kolom lebih dari 0, sehingga bernilai positif"
      ],
      "metadata": {
        "id": "YJiTmaf5TJkH"
      }
    },
    {
      "cell_type": "markdown",
      "source": [
        "**Kurtosis**"
      ],
      "metadata": {
        "id": "GwAWdrg2Tm44"
      }
    },
    {
      "cell_type": "code",
      "source": [
        "df.kurtosis()"
      ],
      "metadata": {
        "colab": {
          "base_uri": "https://localhost:8080/"
        },
        "id": "gLh5z47cS5wx",
        "outputId": "bdec4659-207f-4258-e620-4da9f4f0b4f2"
      },
      "execution_count": 75,
      "outputs": [
        {
          "output_type": "stream",
          "name": "stderr",
          "text": [
            "<ipython-input-75-c7edf97eb14c>:1: FutureWarning: Dropping of nuisance columns in DataFrame reductions (with 'numeric_only=None') is deprecated; in a future version this will raise TypeError.  Select only valid columns before calling the reduction.\n",
            "  df.kurtosis()\n"
          ]
        },
        {
          "output_type": "execute_result",
          "data": {
            "text/plain": [
              "HS               -1.903178\n",
              "Abusive          -1.771435\n",
              "HS_Individual    -0.942681\n",
              "HS_Group          1.774426\n",
              "HS_Religion      11.601608\n",
              "HS_Race          18.221291\n",
              "HS_Physical      35.548712\n",
              "HS_Gender        37.946761\n",
              "HS_Other         -1.083385\n",
              "HS_Weak          -0.758476\n",
              "HS_Moderate       2.833181\n",
              "HS_Strong        22.682291\n",
              "total_char       -0.402291\n",
              "total_word       -0.151707\n",
              "dtype: float64"
            ]
          },
          "metadata": {},
          "execution_count": 75
        }
      ]
    },
    {
      "cell_type": "markdown",
      "source": [
        "Nilai kurtosis total_char yaitu -0.4 dan total_word yaitu -0.15 yang bernilai kurang dari 3. Sehingga bersifat playkurtik yaitu cenderung menghasilkan lebih sedikit nilai outlier"
      ],
      "metadata": {
        "id": "uoyIN7dhTqZK"
      }
    },
    {
      "cell_type": "markdown",
      "source": [
        "**Pie Chart**"
      ],
      "metadata": {
        "id": "RO14BNg2oD5V"
      }
    },
    {
      "cell_type": "code",
      "source": [
        "df.groupby('hs_class').hs_class.count().plot(kind='pie',autopct='%1.0f%%')"
      ],
      "metadata": {
        "colab": {
          "base_uri": "https://localhost:8080/",
          "height": 265
        },
        "id": "7aAMEgaClvrB",
        "outputId": "5fb7c90c-dc60-418b-a0a7-57339732001c"
      },
      "execution_count": 76,
      "outputs": [
        {
          "output_type": "execute_result",
          "data": {
            "text/plain": [
              "<matplotlib.axes._subplots.AxesSubplot at 0x7f852242faf0>"
            ]
          },
          "metadata": {},
          "execution_count": 76
        },
        {
          "output_type": "display_data",
          "data": {
            "text/plain": [
              "<Figure size 432x288 with 1 Axes>"
            ],
            "image/png": "[encoded data removed]"
          },
          "metadata": {}
        }
      ]
    },
    {
      "cell_type": "markdown",
      "source": [
        "Dari pie chart bisa disimpulkan lebih banyak sentimen negatif"
      ],
      "metadata": {
        "id": "hycuxll_n5z-"
      }
    },
    {
      "cell_type": "markdown",
      "source": [
        "**Histogram**"
      ],
      "metadata": {
        "id": "Gmd-t5_4oHTG"
      }
    },
    {
      "cell_type": "code",
      "source": [
        "df.total_char.hist()"
      ],
      "metadata": {
        "colab": {
          "base_uri": "https://localhost:8080/",
          "height": 282
        },
        "id": "RQrmU6gAV4wF",
        "outputId": "1ab08751-ac4d-4515-c9ce-031d2f483b2b"
      },
      "execution_count": 77,
      "outputs": [
        {
          "output_type": "execute_result",
          "data": {
            "text/plain": [
              "<matplotlib.axes._subplots.AxesSubplot at 0x7f852179d940>"
            ]
          },
          "metadata": {},
          "execution_count": 77
        },
        {
          "output_type": "display_data",
          "data": {
            "text/plain": [
              "<Figure size 432x288 with 1 Axes>"
            ],
            "image/png": "[encoded data removed]"
          },
          "metadata": {
            "needs_background": "light"
          }
        }
      ]
    },
    {
      "cell_type": "markdown",
      "source": [
        "Rata-rata panjang karakter dari text adalah sekitar 60-110 karakter"
      ],
      "metadata": {
        "id": "-_RmtNaEoNLX"
      }
    },
    {
      "cell_type": "code",
      "source": [
        "df.total_word.hist()"
      ],
      "metadata": {
        "colab": {
          "base_uri": "https://localhost:8080/",
          "height": 282
        },
        "id": "3kIcTUzKV9IK",
        "outputId": "a0dfebac-3b74-48a3-d796-624df43bb924"
      },
      "execution_count": 78,
      "outputs": [
        {
          "output_type": "execute_result",
          "data": {
            "text/plain": [
              "<matplotlib.axes._subplots.AxesSubplot at 0x7f851ff57640>"
            ]
          },
          "metadata": {},
          "execution_count": 78
        },
        {
          "output_type": "display_data",
          "data": {
            "text/plain": [
              "<Figure size 432x288 with 1 Axes>"
            ],
            "image/png": "[encoded data removed]"
          },
          "metadata": {
            "needs_background": "light"
          }
        }
      ]
    },
    {
      "cell_type": "markdown",
      "source": [
        "Rata-rata panjang kata dari text adalah sekitar 8-17 kata"
      ],
      "metadata": {
        "id": "B9x_lvmtov92"
      }
    },
    {
      "cell_type": "code",
      "source": [
        "df_negative = df.loc[df['hs_class'] == 'negative']\n",
        "df_negative.total_char.hist()"
      ],
      "metadata": {
        "colab": {
          "base_uri": "https://localhost:8080/",
          "height": 282
        },
        "id": "ZINzlz7Ko9m1",
        "outputId": "7cf1b8fd-e8e0-42c5-8df7-05e564f552d7"
      },
      "execution_count": 79,
      "outputs": [
        {
          "output_type": "execute_result",
          "data": {
            "text/plain": [
              "<matplotlib.axes._subplots.AxesSubplot at 0x7f8521ab9fa0>"
            ]
          },
          "metadata": {},
          "execution_count": 79
        },
        {
          "output_type": "display_data",
          "data": {
            "text/plain": [
              "<Figure size 432x288 with 1 Axes>"
            ],
            "image/png": "[encoded data removed]"
          },
          "metadata": {
            "needs_background": "light"
          }
        }
      ]
    },
    {
      "cell_type": "markdown",
      "source": [
        "Pada sentimen negatif, panjang karakternya sekitar 10-110 karakter"
      ],
      "metadata": {
        "id": "A2tj17A-pY5a"
      }
    },
    {
      "cell_type": "code",
      "source": [
        "df_negative = df.loc[df['hs_class'] == 'negative']\n",
        "df_negative.total_word.hist()"
      ],
      "metadata": {
        "colab": {
          "base_uri": "https://localhost:8080/",
          "height": 282
        },
        "id": "DSPkbUcbpZgi",
        "outputId": "5d2f11b5-7fa0-45d1-dc7a-3ee2e28da3d4"
      },
      "execution_count": 80,
      "outputs": [
        {
          "output_type": "execute_result",
          "data": {
            "text/plain": [
              "<matplotlib.axes._subplots.AxesSubplot at 0x7f852194c430>"
            ]
          },
          "metadata": {},
          "execution_count": 80
        },
        {
          "output_type": "display_data",
          "data": {
            "text/plain": [
              "<Figure size 432x288 with 1 Axes>"
            ],
            "image/png": "[encoded data removed]"
          },
          "metadata": {
            "needs_background": "light"
          }
        }
      ]
    },
    {
      "cell_type": "markdown",
      "source": [
        "Pada sentimen negatif, panjang katanya sekitar 6-20 kata"
      ],
      "metadata": {
        "id": "qFx00TA-phb6"
      }
    },
    {
      "cell_type": "code",
      "source": [
        "df_positive = df.loc[df['hs_class'] == 'positive']\n",
        "df_positive.total_char.hist()"
      ],
      "metadata": {
        "colab": {
          "base_uri": "https://localhost:8080/",
          "height": 282
        },
        "id": "qK-ksiHcphtu",
        "outputId": "00641fa8-1d43-4acf-e8b1-b4e823802933"
      },
      "execution_count": 81,
      "outputs": [
        {
          "output_type": "execute_result",
          "data": {
            "text/plain": [
              "<matplotlib.axes._subplots.AxesSubplot at 0x7f85219e5ee0>"
            ]
          },
          "metadata": {},
          "execution_count": 81
        },
        {
          "output_type": "display_data",
          "data": {
            "text/plain": [
              "<Figure size 432x288 with 1 Axes>"
            ],
            "image/png": "[encoded data removed]"
          },
          "metadata": {
            "needs_background": "light"
          }
        }
      ]
    },
    {
      "cell_type": "markdown",
      "source": [
        "Panjang karakter pada sentimen positif sekitar 30-120 karakter"
      ],
      "metadata": {
        "id": "VdxqYcdWpmdU"
      }
    },
    {
      "cell_type": "code",
      "source": [
        "df_positive = df.loc[df['hs_class'] == 'positive']\n",
        "df_positive.total_word.hist()"
      ],
      "metadata": {
        "colab": {
          "base_uri": "https://localhost:8080/",
          "height": 282
        },
        "id": "gUlkWYeZpmp5",
        "outputId": "538f7fc1-84e1-4807-8415-07c2b77ce2ac"
      },
      "execution_count": 82,
      "outputs": [
        {
          "output_type": "execute_result",
          "data": {
            "text/plain": [
              "<matplotlib.axes._subplots.AxesSubplot at 0x7f85218ad5e0>"
            ]
          },
          "metadata": {},
          "execution_count": 82
        },
        {
          "output_type": "display_data",
          "data": {
            "text/plain": [
              "<Figure size 432x288 with 1 Axes>"
            ],
            "image/png": "[encoded data removed]"
          },
          "metadata": {
            "needs_background": "light"
          }
        }
      ]
    },
    {
      "cell_type": "markdown",
      "source": [
        "Panjang kata pada sentimen positif sekitar 6-21 kata"
      ],
      "metadata": {
        "id": "2nZ0GLgxquls"
      }
    },
    {
      "cell_type": "markdown",
      "source": [
        "**Wordcloud**"
      ],
      "metadata": {
        "id": "23_tLZQXq4Sx"
      }
    },
    {
      "cell_type": "code",
      "source": [
        "train = df[['hs_class', 'text']]\n",
        "train_pos = train[train['hs_class']=='positive']\n",
        "train_neg = train[train['hs_class']=='negative']\n",
        "train = pd.concat([train_pos, train_neg])\n",
        "temp = train.groupby('hs_class').count()['text'].reset_index().sort_values(by='text',ascending=False)\n",
        "temp.style.background_gradient(cmap='Oranges')"
      ],
      "metadata": {
        "colab": {
          "base_uri": "https://localhost:8080/",
          "height": 112
        },
        "id": "LsuSe6cf3Qv6",
        "outputId": "2e2ae719-3c83-46f6-fe66-2a6a50980602"
      },
      "execution_count": 83,
      "outputs": [
        {
          "output_type": "execute_result",
          "data": {
            "text/plain": [
              "<pandas.io.formats.style.Styler at 0x7f851fc2f1f0>"
            ],
            "text/html": [
              "<style type=\"text/css\">\n",
              "#T_41289_row0_col1 {\n",
              "  background-color: #7f2704;\n",
              "  color: #f1f1f1;\n",
              "}\n",
              "#T_41289_row1_col1 {\n",
              "  background-color: #fff5eb;\n",
              "  color: #000000;\n",
              "}\n",
              "</style>\n",
              "<table id=\"T_41289_\" class=\"dataframe\">\n",
              "  <thead>\n",
              "    <tr>\n",
              "      <th class=\"blank level0\" >&nbsp;</th>\n",
              "      <th class=\"col_heading level0 col0\" >hs_class</th>\n",
              "      <th class=\"col_heading level0 col1\" >text</th>\n",
              "    </tr>\n",
              "  </thead>\n",
              "  <tbody>\n",
              "    <tr>\n",
              "      <th id=\"T_41289_level0_row0\" class=\"row_heading level0 row0\" >0</th>\n",
              "      <td id=\"T_41289_row0_col0\" class=\"data row0 col0\" >negative</td>\n",
              "      <td id=\"T_41289_row0_col1\" class=\"data row0 col1\" >7526</td>\n",
              "    </tr>\n",
              "    <tr>\n",
              "      <th id=\"T_41289_level0_row1\" class=\"row_heading level0 row1\" >1</th>\n",
              "      <td id=\"T_41289_row1_col0\" class=\"data row1 col0\" >positive</td>\n",
              "      <td id=\"T_41289_row1_col1\" class=\"data row1 col1\" >5518</td>\n",
              "    </tr>\n",
              "  </tbody>\n",
              "</table>\n"
            ]
          },
          "metadata": {},
          "execution_count": 83
        }
      ]
    },
    {
      "cell_type": "code",
      "source": [
        "train['temp_list'] = train['text'].apply(lambda x:str(x).split())\n",
        "top = Counter([item for sublist in train['temp_list'] for item in sublist])\n",
        "temp = pd.DataFrame(top.most_common(20))"
      ],
      "metadata": {
        "id": "dNzUNUAp3eRt"
      },
      "execution_count": 84,
      "outputs": []
    },
    {
      "cell_type": "code",
      "source": [
        "positive_text = train[train['hs_class']=='positive']\n",
        "negative_text = train[train['hs_class']=='negative']"
      ],
      "metadata": {
        "id": "8dqpxITn3-bF"
      },
      "execution_count": 85,
      "outputs": []
    },
    {
      "cell_type": "code",
      "source": [
        "top = Counter([item for sublist in positive_text['temp_list'] for item in sublist])\n",
        "temp_positive = pd.DataFrame(top.most_common(20))\n",
        "temp_positive.columns = ['Common_words','count']\n",
        "temp_positive.style.background_gradient(cmap='YlOrBr')"
      ],
      "metadata": {
        "colab": {
          "base_uri": "https://localhost:8080/",
          "height": 677
        },
        "id": "IKSgotqP4AyF",
        "outputId": "05632c4a-af0a-4ba4-d68e-fe64d63d2e01"
      },
      "execution_count": 86,
      "outputs": [
        {
          "output_type": "execute_result",
          "data": {
            "text/plain": [
              "<pandas.io.formats.style.Styler at 0x7f85201f4700>"
            ],
            "text/html": [
              "<style type=\"text/css\">\n",
              "#T_309b8_row0_col1 {\n",
              "  background-color: #662506;\n",
              "  color: #f1f1f1;\n",
              "}\n",
              "#T_309b8_row1_col1 {\n",
              "  background-color: #983404;\n",
              "  color: #f1f1f1;\n",
              "}\n",
              "#T_309b8_row2_col1, #T_309b8_row3_col1 {\n",
              "  background-color: #e3660f;\n",
              "  color: #f1f1f1;\n",
              "}\n",
              "#T_309b8_row4_col1 {\n",
              "  background-color: #e46710;\n",
              "  color: #f1f1f1;\n",
              "}\n",
              "#T_309b8_row5_col1 {\n",
              "  background-color: #fea231;\n",
              "  color: #000000;\n",
              "}\n",
              "#T_309b8_row6_col1 {\n",
              "  background-color: #feaf3d;\n",
              "  color: #000000;\n",
              "}\n",
              "#T_309b8_row7_col1 {\n",
              "  background-color: #fec652;\n",
              "  color: #000000;\n",
              "}\n",
              "#T_309b8_row8_col1 {\n",
              "  background-color: #fede86;\n",
              "  color: #000000;\n",
              "}\n",
              "#T_309b8_row9_col1 {\n",
              "  background-color: #fee89b;\n",
              "  color: #000000;\n",
              "}\n",
              "#T_309b8_row10_col1 {\n",
              "  background-color: #fee89d;\n",
              "  color: #000000;\n",
              "}\n",
              "#T_309b8_row11_col1 {\n",
              "  background-color: #feeca4;\n",
              "  color: #000000;\n",
              "}\n",
              "#T_309b8_row12_col1 {\n",
              "  background-color: #fff0ad;\n",
              "  color: #000000;\n",
              "}\n",
              "#T_309b8_row13_col1, #T_309b8_row14_col1 {\n",
              "  background-color: #fff5b8;\n",
              "  color: #000000;\n",
              "}\n",
              "#T_309b8_row15_col1 {\n",
              "  background-color: #fff9c5;\n",
              "  color: #000000;\n",
              "}\n",
              "#T_309b8_row16_col1 {\n",
              "  background-color: #fffbd3;\n",
              "  color: #000000;\n",
              "}\n",
              "#T_309b8_row17_col1 {\n",
              "  background-color: #fffedf;\n",
              "  color: #000000;\n",
              "}\n",
              "#T_309b8_row18_col1 {\n",
              "  background-color: #fffee1;\n",
              "  color: #000000;\n",
              "}\n",
              "#T_309b8_row19_col1 {\n",
              "  background-color: #ffffe5;\n",
              "  color: #000000;\n",
              "}\n",
              "</style>\n",
              "<table id=\"T_309b8_\" class=\"dataframe\">\n",
              "  <thead>\n",
              "    <tr>\n",
              "      <th class=\"blank level0\" >&nbsp;</th>\n",
              "      <th class=\"col_heading level0 col0\" >Common_words</th>\n",
              "      <th class=\"col_heading level0 col1\" >count</th>\n",
              "    </tr>\n",
              "  </thead>\n",
              "  <tbody>\n",
              "    <tr>\n",
              "      <th id=\"T_309b8_level0_row0\" class=\"row_heading level0 row0\" >0</th>\n",
              "      <td id=\"T_309b8_row0_col0\" class=\"data row0 col0\" >indonesia</td>\n",
              "      <td id=\"T_309b8_row0_col1\" class=\"data row0 col1\" >621</td>\n",
              "    </tr>\n",
              "    <tr>\n",
              "      <th id=\"T_309b8_level0_row1\" class=\"row_heading level0 row1\" >1</th>\n",
              "      <td id=\"T_309b8_row1_col0\" class=\"data row1 col0\" >jokowi</td>\n",
              "      <td id=\"T_309b8_row1_col1\" class=\"data row1 col1\" >577</td>\n",
              "    </tr>\n",
              "    <tr>\n",
              "      <th id=\"T_309b8_level0_row2\" class=\"row_heading level0 row2\" >2</th>\n",
              "      <td id=\"T_309b8_row2_col0\" class=\"data row2 col0\" >resource</td>\n",
              "      <td id=\"T_309b8_row2_col1\" class=\"data row2 col1\" >500</td>\n",
              "    </tr>\n",
              "    <tr>\n",
              "      <th id=\"T_309b8_level0_row3\" class=\"row_heading level0 row3\" >3</th>\n",
              "      <td id=\"T_309b8_row3_col0\" class=\"data row3 col0\" >locator</td>\n",
              "      <td id=\"T_309b8_row3_col1\" class=\"data row3 col1\" >500</td>\n",
              "    </tr>\n",
              "    <tr>\n",
              "      <th id=\"T_309b8_level0_row4\" class=\"row_heading level0 row4\" >4</th>\n",
              "      <td id=\"T_309b8_row4_col0\" class=\"data row4 col0\" >uniform</td>\n",
              "      <td id=\"T_309b8_row4_col1\" class=\"data row4 col1\" >499</td>\n",
              "    </tr>\n",
              "    <tr>\n",
              "      <th id=\"T_309b8_level0_row5\" class=\"row_heading level0 row5\" >5</th>\n",
              "      <td id=\"T_309b8_row5_col0\" class=\"data row5 col0\" >orang</td>\n",
              "      <td id=\"T_309b8_row5_col1\" class=\"data row5 col1\" >436</td>\n",
              "    </tr>\n",
              "    <tr>\n",
              "      <th id=\"T_309b8_level0_row6\" class=\"row_heading level0 row6\" >6</th>\n",
              "      <td id=\"T_309b8_row6_col0\" class=\"data row6 col0\" >cebong</td>\n",
              "      <td id=\"T_309b8_row6_col1\" class=\"data row6 col1\" >422</td>\n",
              "    </tr>\n",
              "    <tr>\n",
              "      <th id=\"T_309b8_level0_row7\" class=\"row_heading level0 row7\" >7</th>\n",
              "      <td id=\"T_309b8_row7_col0\" class=\"data row7 col0\" >sih</td>\n",
              "      <td id=\"T_309b8_row7_col1\" class=\"data row7 col1\" >398</td>\n",
              "    </tr>\n",
              "    <tr>\n",
              "      <th id=\"T_309b8_level0_row8\" class=\"row_heading level0 row8\" >8</th>\n",
              "      <td id=\"T_309b8_row8_col0\" class=\"data row8 col0\" >ai</td>\n",
              "      <td id=\"T_309b8_row8_col1\" class=\"data row8 col1\" >364</td>\n",
              "    </tr>\n",
              "    <tr>\n",
              "      <th id=\"T_309b8_level0_row9\" class=\"row_heading level0 row9\" >9</th>\n",
              "      <td id=\"T_309b8_row9_col0\" class=\"data row9 col0\" >gue</td>\n",
              "      <td id=\"T_309b8_row9_col1\" class=\"data row9 col1\" >346</td>\n",
              "    </tr>\n",
              "    <tr>\n",
              "      <th id=\"T_309b8_level0_row10\" class=\"row_heading level0 row10\" >10</th>\n",
              "      <td id=\"T_309b8_row10_col0\" class=\"data row10 col0\" >komunis</td>\n",
              "      <td id=\"T_309b8_row10_col1\" class=\"data row10 col1\" >345</td>\n",
              "    </tr>\n",
              "    <tr>\n",
              "      <th id=\"T_309b8_level0_row11\" class=\"row_heading level0 row11\" >11</th>\n",
              "      <td id=\"T_309b8_row11_col0\" class=\"data row11 col0\" >ya</td>\n",
              "      <td id=\"T_309b8_row11_col1\" class=\"data row11 col1\" >338</td>\n",
              "    </tr>\n",
              "    <tr>\n",
              "      <th id=\"T_309b8_level0_row12\" class=\"row_heading level0 row12\" >12</th>\n",
              "      <td id=\"T_309b8_row12_col0\" class=\"data row12 col0\" >cina</td>\n",
              "      <td id=\"T_309b8_row12_col1\" class=\"data row12 col1\" >328</td>\n",
              "    </tr>\n",
              "    <tr>\n",
              "      <th id=\"T_309b8_level0_row13\" class=\"row_heading level0 row13\" >13</th>\n",
              "      <td id=\"T_309b8_row13_col0\" class=\"data row13 col0\" >presiden</td>\n",
              "      <td id=\"T_309b8_row13_col1\" class=\"data row13 col1\" >317</td>\n",
              "    </tr>\n",
              "    <tr>\n",
              "      <th id=\"T_309b8_level0_row14\" class=\"row_heading level0 row14\" >14</th>\n",
              "      <td id=\"T_309b8_row14_col0\" class=\"data row14 col0\" >rakyat</td>\n",
              "      <td id=\"T_309b8_row14_col1\" class=\"data row14 col1\" >317</td>\n",
              "    </tr>\n",
              "    <tr>\n",
              "      <th id=\"T_309b8_level0_row15\" class=\"row_heading level0 row15\" >15</th>\n",
              "      <td id=\"T_309b8_row15_col0\" class=\"data row15 col0\" >islam</td>\n",
              "      <td id=\"T_309b8_row15_col1\" class=\"data row15 col1\" >303</td>\n",
              "    </tr>\n",
              "    <tr>\n",
              "      <th id=\"T_309b8_level0_row16\" class=\"row_heading level0 row16\" >16</th>\n",
              "      <td id=\"T_309b8_row16_col0\" class=\"data row16 col0\" >#2019gantipresiden</td>\n",
              "      <td id=\"T_309b8_row16_col1\" class=\"data row16 col1\" >288</td>\n",
              "    </tr>\n",
              "    <tr>\n",
              "      <th id=\"T_309b8_level0_row17\" class=\"row_heading level0 row17\" >17</th>\n",
              "      <td id=\"T_309b8_row17_col0\" class=\"data row17 col0\" >nya</td>\n",
              "      <td id=\"T_309b8_row17_col1\" class=\"data row17 col1\" >276</td>\n",
              "    </tr>\n",
              "    <tr>\n",
              "      <th id=\"T_309b8_level0_row18\" class=\"row_heading level0 row18\" >18</th>\n",
              "      <td id=\"T_309b8_row18_col0\" class=\"data row18 col0\" >pa</td>\n",
              "      <td id=\"T_309b8_row18_col1\" class=\"data row18 col1\" >273</td>\n",
              "    </tr>\n",
              "    <tr>\n",
              "      <th id=\"T_309b8_level0_row19\" class=\"row_heading level0 row19\" >19</th>\n",
              "      <td id=\"T_309b8_row19_col0\" class=\"data row19 col0\" >ahok</td>\n",
              "      <td id=\"T_309b8_row19_col1\" class=\"data row19 col1\" >268</td>\n",
              "    </tr>\n",
              "  </tbody>\n",
              "</table>\n"
            ]
          },
          "metadata": {},
          "execution_count": 86
        }
      ]
    },
    {
      "cell_type": "code",
      "source": [
        "top = Counter([item for sublist in negative_text['temp_list'] for item in sublist])\n",
        "temp_negative = pd.DataFrame(top.most_common(20))\n",
        "temp_negative = temp_negative.iloc[1:,:]\n",
        "temp_negative.columns = ['Common_words','count']\n",
        "temp_negative.style.background_gradient(cmap='Blues')"
      ],
      "metadata": {
        "colab": {
          "base_uri": "https://localhost:8080/",
          "height": 645
        },
        "id": "F9L_aSfA4FGN",
        "outputId": "19d18f80-f454-4924-b36c-1f9f48f8db44"
      },
      "execution_count": 89,
      "outputs": [
        {
          "output_type": "execute_result",
          "data": {
            "text/plain": [
              "<pandas.io.formats.style.Styler at 0x7f8521609520>"
            ],
            "text/html": [
              "<style type=\"text/css\">\n",
              "#T_99935_row0_col1 {\n",
              "  background-color: #08306b;\n",
              "  color: #f1f1f1;\n",
              "}\n",
              "#T_99935_row1_col1 {\n",
              "  background-color: #2373b6;\n",
              "  color: #f1f1f1;\n",
              "}\n",
              "#T_99935_row2_col1 {\n",
              "  background-color: #56a0ce;\n",
              "  color: #f1f1f1;\n",
              "}\n",
              "#T_99935_row3_col1 {\n",
              "  background-color: #79b5d9;\n",
              "  color: #000000;\n",
              "}\n",
              "#T_99935_row4_col1 {\n",
              "  background-color: #c6dbef;\n",
              "  color: #000000;\n",
              "}\n",
              "#T_99935_row5_col1 {\n",
              "  background-color: #c7dcef;\n",
              "  color: #000000;\n",
              "}\n",
              "#T_99935_row6_col1 {\n",
              "  background-color: #caddf0;\n",
              "  color: #000000;\n",
              "}\n",
              "#T_99935_row7_col1 {\n",
              "  background-color: #d6e6f4;\n",
              "  color: #000000;\n",
              "}\n",
              "#T_99935_row8_col1, #T_99935_row9_col1 {\n",
              "  background-color: #ddeaf7;\n",
              "  color: #000000;\n",
              "}\n",
              "#T_99935_row10_col1, #T_99935_row11_col1, #T_99935_row12_col1 {\n",
              "  background-color: #dfebf7;\n",
              "  color: #000000;\n",
              "}\n",
              "#T_99935_row13_col1 {\n",
              "  background-color: #e0ecf8;\n",
              "  color: #000000;\n",
              "}\n",
              "#T_99935_row14_col1 {\n",
              "  background-color: #e2edf8;\n",
              "  color: #000000;\n",
              "}\n",
              "#T_99935_row15_col1 {\n",
              "  background-color: #e3eef8;\n",
              "  color: #000000;\n",
              "}\n",
              "#T_99935_row16_col1 {\n",
              "  background-color: #f0f6fd;\n",
              "  color: #000000;\n",
              "}\n",
              "#T_99935_row17_col1, #T_99935_row18_col1 {\n",
              "  background-color: #f7fbff;\n",
              "  color: #000000;\n",
              "}\n",
              "</style>\n",
              "<table id=\"T_99935_\" class=\"dataframe\">\n",
              "  <thead>\n",
              "    <tr>\n",
              "      <th class=\"blank level0\" >&nbsp;</th>\n",
              "      <th class=\"col_heading level0 col0\" >Common_words</th>\n",
              "      <th class=\"col_heading level0 col1\" >count</th>\n",
              "    </tr>\n",
              "  </thead>\n",
              "  <tbody>\n",
              "    <tr>\n",
              "      <th id=\"T_99935_level0_row0\" class=\"row_heading level0 row0\" >1</th>\n",
              "      <td id=\"T_99935_row0_col0\" class=\"data row0 col0\" >orang</td>\n",
              "      <td id=\"T_99935_row0_col1\" class=\"data row0 col1\" >718</td>\n",
              "    </tr>\n",
              "    <tr>\n",
              "      <th id=\"T_99935_level0_row1\" class=\"row_heading level0 row1\" >2</th>\n",
              "      <td id=\"T_99935_row1_col0\" class=\"data row1 col0\" >presiden</td>\n",
              "      <td id=\"T_99935_row1_col1\" class=\"data row1 col1\" >595</td>\n",
              "    </tr>\n",
              "    <tr>\n",
              "      <th id=\"T_99935_level0_row2\" class=\"row_heading level0 row2\" >3</th>\n",
              "      <td id=\"T_99935_row2_col0\" class=\"data row2 col0\" >indonesia</td>\n",
              "      <td id=\"T_99935_row2_col1\" class=\"data row2 col1\" >512</td>\n",
              "    </tr>\n",
              "    <tr>\n",
              "      <th id=\"T_99935_level0_row3\" class=\"row_heading level0 row3\" >4</th>\n",
              "      <td id=\"T_99935_row3_col0\" class=\"data row3 col0\" >ya</td>\n",
              "      <td id=\"T_99935_row3_col1\" class=\"data row3 col1\" >466</td>\n",
              "    </tr>\n",
              "    <tr>\n",
              "      <th id=\"T_99935_level0_row4\" class=\"row_heading level0 row4\" >5</th>\n",
              "      <td id=\"T_99935_row4_col0\" class=\"data row4 col0\" >daerah</td>\n",
              "      <td id=\"T_99935_row4_col1\" class=\"data row4 col1\" >364</td>\n",
              "    </tr>\n",
              "    <tr>\n",
              "      <th id=\"T_99935_level0_row5\" class=\"row_heading level0 row5\" >6</th>\n",
              "      <td id=\"T_99935_row5_col0\" class=\"data row5 col0\" >agama</td>\n",
              "      <td id=\"T_99935_row5_col1\" class=\"data row5 col1\" >361</td>\n",
              "    </tr>\n",
              "    <tr>\n",
              "      <th id=\"T_99935_level0_row6\" class=\"row_heading level0 row6\" >7</th>\n",
              "      <td id=\"T_99935_row6_col0\" class=\"data row6 col0\" >asing</td>\n",
              "      <td id=\"T_99935_row6_col1\" class=\"data row6 col1\" >355</td>\n",
              "    </tr>\n",
              "    <tr>\n",
              "      <th id=\"T_99935_level0_row7\" class=\"row_heading level0 row7\" >8</th>\n",
              "      <td id=\"T_99935_row7_col0\" class=\"data row7 col0\" >i</td>\n",
              "      <td id=\"T_99935_row7_col1\" class=\"data row7 col1\" >324</td>\n",
              "    </tr>\n",
              "    <tr>\n",
              "      <th id=\"T_99935_level0_row8\" class=\"row_heading level0 row8\" >9</th>\n",
              "      <td id=\"T_99935_row8_col0\" class=\"data row8 col0\" >sih</td>\n",
              "      <td id=\"T_99935_row8_col1\" class=\"data row8 col1\" >308</td>\n",
              "    </tr>\n",
              "    <tr>\n",
              "      <th id=\"T_99935_level0_row9\" class=\"row_heading level0 row9\" >10</th>\n",
              "      <td id=\"T_99935_row9_col0\" class=\"data row9 col0\" >gubernur</td>\n",
              "      <td id=\"T_99935_row9_col1\" class=\"data row9 col1\" >307</td>\n",
              "    </tr>\n",
              "    <tr>\n",
              "      <th id=\"T_99935_level0_row10\" class=\"row_heading level0 row10\" >11</th>\n",
              "      <td id=\"T_99935_row10_col0\" class=\"data row10 col0\" >uniform</td>\n",
              "      <td id=\"T_99935_row10_col1\" class=\"data row10 col1\" >304</td>\n",
              "    </tr>\n",
              "    <tr>\n",
              "      <th id=\"T_99935_level0_row11\" class=\"row_heading level0 row11\" >12</th>\n",
              "      <td id=\"T_99935_row11_col0\" class=\"data row11 col0\" >resource</td>\n",
              "      <td id=\"T_99935_row11_col1\" class=\"data row11 col1\" >304</td>\n",
              "    </tr>\n",
              "    <tr>\n",
              "      <th id=\"T_99935_level0_row12\" class=\"row_heading level0 row12\" >13</th>\n",
              "      <td id=\"T_99935_row12_col0\" class=\"data row12 col0\" >locator</td>\n",
              "      <td id=\"T_99935_row12_col1\" class=\"data row12 col1\" >304</td>\n",
              "    </tr>\n",
              "    <tr>\n",
              "      <th id=\"T_99935_level0_row13\" class=\"row_heading level0 row13\" >14</th>\n",
              "      <td id=\"T_99935_row13_col0\" class=\"data row13 col0\" >islam</td>\n",
              "      <td id=\"T_99935_row13_col1\" class=\"data row13 col1\" >301</td>\n",
              "    </tr>\n",
              "    <tr>\n",
              "      <th id=\"T_99935_level0_row14\" class=\"row_heading level0 row14\" >15</th>\n",
              "      <td id=\"T_99935_row14_col0\" class=\"data row14 col0\" >a</td>\n",
              "      <td id=\"T_99935_row14_col1\" class=\"data row14 col1\" >296</td>\n",
              "    </tr>\n",
              "    <tr>\n",
              "      <th id=\"T_99935_level0_row15\" class=\"row_heading level0 row15\" >16</th>\n",
              "      <td id=\"T_99935_row15_col0\" class=\"data row15 col0\" >kepala</td>\n",
              "      <td id=\"T_99935_row15_col1\" class=\"data row15 col1\" >295</td>\n",
              "    </tr>\n",
              "    <tr>\n",
              "      <th id=\"T_99935_level0_row16\" class=\"row_heading level0 row16\" >17</th>\n",
              "      <td id=\"T_99935_row16_col0\" class=\"data row16 col0\" >pilihan</td>\n",
              "      <td id=\"T_99935_row16_col1\" class=\"data row16 col1\" >263</td>\n",
              "    </tr>\n",
              "    <tr>\n",
              "      <th id=\"T_99935_level0_row17\" class=\"row_heading level0 row17\" >18</th>\n",
              "      <td id=\"T_99935_row17_col0\" class=\"data row17 col0\" >kayak</td>\n",
              "      <td id=\"T_99935_row17_col1\" class=\"data row17 col1\" >247</td>\n",
              "    </tr>\n",
              "    <tr>\n",
              "      <th id=\"T_99935_level0_row18\" class=\"row_heading level0 row18\" >19</th>\n",
              "      <td id=\"T_99935_row18_col0\" class=\"data row18 col0\" >jokowi</td>\n",
              "      <td id=\"T_99935_row18_col1\" class=\"data row18 col1\" >246</td>\n",
              "    </tr>\n",
              "  </tbody>\n",
              "</table>\n"
            ]
          },
          "metadata": {},
          "execution_count": 89
        }
      ]
    },
    {
      "cell_type": "code",
      "source": [
        "text = ' '.join(df['text'])\n",
        "wordcloud = WordCloud().generate(text)\n",
        "\n",
        "#Generate plot\n",
        "plt.imshow(wordcloud)\n",
        "plt.axis(\"off\")\n",
        "plt.show"
      ],
      "metadata": {
        "colab": {
          "base_uri": "https://localhost:8080/",
          "height": 215
        },
        "id": "TqmgzC07YRg1",
        "outputId": "5e9125dc-eeb0-479e-811d-bf2a866026d7"
      },
      "execution_count": 88,
      "outputs": [
        {
          "output_type": "execute_result",
          "data": {
            "text/plain": [
              "<function matplotlib.pyplot.show(*args, **kw)>"
            ]
          },
          "metadata": {},
          "execution_count": 88
        },
        {
          "output_type": "display_data",
          "data": {
            "text/plain": [
              "<Figure size 432x288 with 1 Axes>"
            ],
            "image/png": "[encoded data removed]"
          },
          "metadata": {
            "needs_background": "light"
          }
        }
      ]
    },
    {
      "cell_type": "markdown",
      "source": [
        "### **Bivariate Analysis**"
      ],
      "metadata": {
        "id": "8Dv1XVinrB9d"
      }
    },
    {
      "cell_type": "markdown",
      "source": [
        "**Pearson Correlation**"
      ],
      "metadata": {
        "id": "1OqtmIThaln9"
      }
    },
    {
      "cell_type": "code",
      "source": [
        "df.corr()"
      ],
      "metadata": {
        "colab": {
          "base_uri": "https://localhost:8080/",
          "height": 552
        },
        "id": "R5371cL7Z6j4",
        "outputId": "a765a21e-d4da-472f-a938-8c7491e25be0"
      },
      "execution_count": null,
      "outputs": [
        {
          "output_type": "execute_result",
          "data": {
            "text/plain": [
              "                     HS   Abusive  HS_Individual  HS_Group  HS_Religion  \\\n",
              "HS             1.000000  0.365292       0.712754  0.493752     0.296328   \n",
              "Abusive        0.365292  1.000000       0.286353  0.148142     0.069610   \n",
              "HS_Individual  0.712754  0.286353       1.000000 -0.258028     0.033899   \n",
              "HS_Group       0.493752  0.148142      -0.258028  1.000000     0.366139   \n",
              "HS_Religion    0.296328  0.069610       0.033899  0.366139     1.000000   \n",
              "HS_Race        0.248039 -0.028722      -0.000672  0.342486     0.094862   \n",
              "HS_Physical    0.185798  0.196547       0.214011 -0.009406    -0.003061   \n",
              "HS_Gender      0.180403  0.187413       0.183402  0.021111     0.024751   \n",
              "HS_Other       0.735728  0.261476       0.636195  0.224657    -0.159848   \n",
              "HS_Weak        0.686258  0.310169       0.962826 -0.248436     0.033490   \n",
              "HS_Moderate    0.451792  0.188095      -0.236100  0.915018     0.345290   \n",
              "HS_Strong      0.226287 -0.098015       0.058995  0.238550     0.083432   \n",
              "total_char    -0.148112 -0.211936      -0.140442 -0.029893    -0.004901   \n",
              "total_word    -0.128527 -0.193352      -0.119116 -0.029356     0.004380   \n",
              "\n",
              "                HS_Race  HS_Physical  HS_Gender  HS_Other   HS_Weak  \\\n",
              "HS             0.248039     0.185798   0.180403  0.735728  0.686258   \n",
              "Abusive       -0.028722     0.196547   0.187413  0.261476  0.310169   \n",
              "HS_Individual -0.000672     0.214011   0.183402  0.636195  0.962826   \n",
              "HS_Group       0.342486    -0.009406   0.021111  0.224657 -0.248436   \n",
              "HS_Religion    0.094862    -0.003061   0.024751 -0.159848  0.033490   \n",
              "HS_Race        1.000000    -0.028927  -0.020306 -0.133800 -0.007345   \n",
              "HS_Physical   -0.028927     1.000000   0.054019 -0.100225  0.220971   \n",
              "HS_Gender     -0.020306     0.054019   1.000000 -0.097315  0.190753   \n",
              "HS_Other      -0.133800    -0.100225  -0.097315  1.000000  0.605078   \n",
              "HS_Weak       -0.007345     0.220971   0.190753  0.605078  1.000000   \n",
              "HS_Moderate    0.238469     0.000123   0.027826  0.225597 -0.227323   \n",
              "HS_Strong      0.243672    -0.025535  -0.019047  0.124610 -0.113858   \n",
              "total_char    -0.056811    -0.043631  -0.025737 -0.109286 -0.131338   \n",
              "total_word    -0.048205    -0.035267  -0.018621 -0.101147 -0.108383   \n",
              "\n",
              "               HS_Moderate  HS_Strong  total_char  total_word  \n",
              "HS                0.451792   0.226287   -0.148112   -0.128527  \n",
              "Abusive           0.188095  -0.098015   -0.211936   -0.193352  \n",
              "HS_Individual    -0.236100   0.058995   -0.140442   -0.119116  \n",
              "HS_Group          0.915018   0.238550   -0.029893   -0.029356  \n",
              "HS_Religion       0.345290   0.083432   -0.004901    0.004380  \n",
              "HS_Race           0.238469   0.243672   -0.056811   -0.048205  \n",
              "HS_Physical       0.000123  -0.025535   -0.043631   -0.035267  \n",
              "HS_Gender         0.027826  -0.019047   -0.025737   -0.018621  \n",
              "HS_Other          0.225597   0.124610   -0.109286   -0.101147  \n",
              "HS_Weak          -0.227323  -0.113858   -0.131338   -0.108383  \n",
              "HS_Moderate       1.000000  -0.074958   -0.004277   -0.006556  \n",
              "HS_Strong        -0.074958   1.000000   -0.076927   -0.074699  \n",
              "total_char       -0.004277  -0.076927    1.000000    0.955358  \n",
              "total_word       -0.006556  -0.074699    0.955358    1.000000  "
            ],
            "text/html": [
              "\n",
              "  <div id=\"df-65a01282-9488-4442-a5e5-80a0d2e2d188\">\n",
              "    <div class=\"colab-df-container\">\n",
              "      <div>\n",
              "<style scoped>\n",
              "    .dataframe tbody tr th:only-of-type {\n",
              "        vertical-align: middle;\n",
              "    }\n",
              "\n",
              "    .dataframe tbody tr th {\n",
              "        vertical-align: top;\n",
              "    }\n",
              "\n",
              "    .dataframe thead th {\n",
              "        text-align: right;\n",
              "    }\n",
              "</style>\n",
              "<table border=\"1\" class=\"dataframe\">\n",
              "  <thead>\n",
              "    <tr style=\"text-align: right;\">\n",
              "      <th></th>\n",
              "      <th>HS</th>\n",
              "      <th>Abusive</th>\n",
              "      <th>HS_Individual</th>\n",
              "      <th>HS_Group</th>\n",
              "      <th>HS_Religion</th>\n",
              "      <th>HS_Race</th>\n",
              "      <th>HS_Physical</th>\n",
              "      <th>HS_Gender</th>\n",
              "      <th>HS_Other</th>\n",
              "      <th>HS_Weak</th>\n",
              "      <th>HS_Moderate</th>\n",
              "      <th>HS_Strong</th>\n",
              "      <th>total_char</th>\n",
              "      <th>total_word</th>\n",
              "    </tr>\n",
              "  </thead>\n",
              "  <tbody>\n",
              "    <tr>\n",
              "      <th>HS</th>\n",
              "      <td>1.000000</td>\n",
              "      <td>0.365292</td>\n",
              "      <td>0.712754</td>\n",
              "      <td>0.493752</td>\n",
              "      <td>0.296328</td>\n",
              "      <td>0.248039</td>\n",
              "      <td>0.185798</td>\n",
              "      <td>0.180403</td>\n",
              "      <td>0.735728</td>\n",
              "      <td>0.686258</td>\n",
              "      <td>0.451792</td>\n",
              "      <td>0.226287</td>\n",
              "      <td>-0.148112</td>\n",
              "      <td>-0.128527</td>\n",
              "    </tr>\n",
              "    <tr>\n",
              "      <th>Abusive</th>\n",
              "      <td>0.365292</td>\n",
              "      <td>1.000000</td>\n",
              "      <td>0.286353</td>\n",
              "      <td>0.148142</td>\n",
              "      <td>0.069610</td>\n",
              "      <td>-0.028722</td>\n",
              "      <td>0.196547</td>\n",
              "      <td>0.187413</td>\n",
              "      <td>0.261476</td>\n",
              "      <td>0.310169</td>\n",
              "      <td>0.188095</td>\n",
              "      <td>-0.098015</td>\n",
              "      <td>-0.211936</td>\n",
              "      <td>-0.193352</td>\n",
              "    </tr>\n",
              "    <tr>\n",
              "      <th>HS_Individual</th>\n",
              "      <td>0.712754</td>\n",
              "      <td>0.286353</td>\n",
              "      <td>1.000000</td>\n",
              "      <td>-0.258028</td>\n",
              "      <td>0.033899</td>\n",
              "      <td>-0.000672</td>\n",
              "      <td>0.214011</td>\n",
              "      <td>0.183402</td>\n",
              "      <td>0.636195</td>\n",
              "      <td>0.962826</td>\n",
              "      <td>-0.236100</td>\n",
              "      <td>0.058995</td>\n",
              "      <td>-0.140442</td>\n",
              "      <td>-0.119116</td>\n",
              "    </tr>\n",
              "    <tr>\n",
              "      <th>HS_Group</th>\n",
              "      <td>0.493752</td>\n",
              "      <td>0.148142</td>\n",
              "      <td>-0.258028</td>\n",
              "      <td>1.000000</td>\n",
              "      <td>0.366139</td>\n",
              "      <td>0.342486</td>\n",
              "      <td>-0.009406</td>\n",
              "      <td>0.021111</td>\n",
              "      <td>0.224657</td>\n",
              "      <td>-0.248436</td>\n",
              "      <td>0.915018</td>\n",
              "      <td>0.238550</td>\n",
              "      <td>-0.029893</td>\n",
              "      <td>-0.029356</td>\n",
              "    </tr>\n",
              "    <tr>\n",
              "      <th>HS_Religion</th>\n",
              "      <td>0.296328</td>\n",
              "      <td>0.069610</td>\n",
              "      <td>0.033899</td>\n",
              "      <td>0.366139</td>\n",
              "      <td>1.000000</td>\n",
              "      <td>0.094862</td>\n",
              "      <td>-0.003061</td>\n",
              "      <td>0.024751</td>\n",
              "      <td>-0.159848</td>\n",
              "      <td>0.033490</td>\n",
              "      <td>0.345290</td>\n",
              "      <td>0.083432</td>\n",
              "      <td>-0.004901</td>\n",
              "      <td>0.004380</td>\n",
              "    </tr>\n",
              "    <tr>\n",
              "      <th>HS_Race</th>\n",
              "      <td>0.248039</td>\n",
              "      <td>-0.028722</td>\n",
              "      <td>-0.000672</td>\n",
              "      <td>0.342486</td>\n",
              "      <td>0.094862</td>\n",
              "      <td>1.000000</td>\n",
              "      <td>-0.028927</td>\n",
              "      <td>-0.020306</td>\n",
              "      <td>-0.133800</td>\n",
              "      <td>-0.007345</td>\n",
              "      <td>0.238469</td>\n",
              "      <td>0.243672</td>\n",
              "      <td>-0.056811</td>\n",
              "      <td>-0.048205</td>\n",
              "    </tr>\n",
              "    <tr>\n",
              "      <th>HS_Physical</th>\n",
              "      <td>0.185798</td>\n",
              "      <td>0.196547</td>\n",
              "      <td>0.214011</td>\n",
              "      <td>-0.009406</td>\n",
              "      <td>-0.003061</td>\n",
              "      <td>-0.028927</td>\n",
              "      <td>1.000000</td>\n",
              "      <td>0.054019</td>\n",
              "      <td>-0.100225</td>\n",
              "      <td>0.220971</td>\n",
              "      <td>0.000123</td>\n",
              "      <td>-0.025535</td>\n",
              "      <td>-0.043631</td>\n",
              "      <td>-0.035267</td>\n",
              "    </tr>\n",
              "    <tr>\n",
              "      <th>HS_Gender</th>\n",
              "      <td>0.180403</td>\n",
              "      <td>0.187413</td>\n",
              "      <td>0.183402</td>\n",
              "      <td>0.021111</td>\n",
              "      <td>0.024751</td>\n",
              "      <td>-0.020306</td>\n",
              "      <td>0.054019</td>\n",
              "      <td>1.000000</td>\n",
              "      <td>-0.097315</td>\n",
              "      <td>0.190753</td>\n",
              "      <td>0.027826</td>\n",
              "      <td>-0.019047</td>\n",
              "      <td>-0.025737</td>\n",
              "      <td>-0.018621</td>\n",
              "    </tr>\n",
              "    <tr>\n",
              "      <th>HS_Other</th>\n",
              "      <td>0.735728</td>\n",
              "      <td>0.261476</td>\n",
              "      <td>0.636195</td>\n",
              "      <td>0.224657</td>\n",
              "      <td>-0.159848</td>\n",
              "      <td>-0.133800</td>\n",
              "      <td>-0.100225</td>\n",
              "      <td>-0.097315</td>\n",
              "      <td>1.000000</td>\n",
              "      <td>0.605078</td>\n",
              "      <td>0.225597</td>\n",
              "      <td>0.124610</td>\n",
              "      <td>-0.109286</td>\n",
              "      <td>-0.101147</td>\n",
              "    </tr>\n",
              "    <tr>\n",
              "      <th>HS_Weak</th>\n",
              "      <td>0.686258</td>\n",
              "      <td>0.310169</td>\n",
              "      <td>0.962826</td>\n",
              "      <td>-0.248436</td>\n",
              "      <td>0.033490</td>\n",
              "      <td>-0.007345</td>\n",
              "      <td>0.220971</td>\n",
              "      <td>0.190753</td>\n",
              "      <td>0.605078</td>\n",
              "      <td>1.000000</td>\n",
              "      <td>-0.227323</td>\n",
              "      <td>-0.113858</td>\n",
              "      <td>-0.131338</td>\n",
              "      <td>-0.108383</td>\n",
              "    </tr>\n",
              "    <tr>\n",
              "      <th>HS_Moderate</th>\n",
              "      <td>0.451792</td>\n",
              "      <td>0.188095</td>\n",
              "      <td>-0.236100</td>\n",
              "      <td>0.915018</td>\n",
              "      <td>0.345290</td>\n",
              "      <td>0.238469</td>\n",
              "      <td>0.000123</td>\n",
              "      <td>0.027826</td>\n",
              "      <td>0.225597</td>\n",
              "      <td>-0.227323</td>\n",
              "      <td>1.000000</td>\n",
              "      <td>-0.074958</td>\n",
              "      <td>-0.004277</td>\n",
              "      <td>-0.006556</td>\n",
              "    </tr>\n",
              "    <tr>\n",
              "      <th>HS_Strong</th>\n",
              "      <td>0.226287</td>\n",
              "      <td>-0.098015</td>\n",
              "      <td>0.058995</td>\n",
              "      <td>0.238550</td>\n",
              "      <td>0.083432</td>\n",
              "      <td>0.243672</td>\n",
              "      <td>-0.025535</td>\n",
              "      <td>-0.019047</td>\n",
              "      <td>0.124610</td>\n",
              "      <td>-0.113858</td>\n",
              "      <td>-0.074958</td>\n",
              "      <td>1.000000</td>\n",
              "      <td>-0.076927</td>\n",
              "      <td>-0.074699</td>\n",
              "    </tr>\n",
              "    <tr>\n",
              "      <th>total_char</th>\n",
              "      <td>-0.148112</td>\n",
              "      <td>-0.211936</td>\n",
              "      <td>-0.140442</td>\n",
              "      <td>-0.029893</td>\n",
              "      <td>-0.004901</td>\n",
              "      <td>-0.056811</td>\n",
              "      <td>-0.043631</td>\n",
              "      <td>-0.025737</td>\n",
              "      <td>-0.109286</td>\n",
              "      <td>-0.131338</td>\n",
              "      <td>-0.004277</td>\n",
              "      <td>-0.076927</td>\n",
              "      <td>1.000000</td>\n",
              "      <td>0.955358</td>\n",
              "    </tr>\n",
              "    <tr>\n",
              "      <th>total_word</th>\n",
              "      <td>-0.128527</td>\n",
              "      <td>-0.193352</td>\n",
              "      <td>-0.119116</td>\n",
              "      <td>-0.029356</td>\n",
              "      <td>0.004380</td>\n",
              "      <td>-0.048205</td>\n",
              "      <td>-0.035267</td>\n",
              "      <td>-0.018621</td>\n",
              "      <td>-0.101147</td>\n",
              "      <td>-0.108383</td>\n",
              "      <td>-0.006556</td>\n",
              "      <td>-0.074699</td>\n",
              "      <td>0.955358</td>\n",
              "      <td>1.000000</td>\n",
              "    </tr>\n",
              "  </tbody>\n",
              "</table>\n",
              "</div>\n",
              "      <button class=\"colab-df-convert\" onclick=\"convertToInteractive('df-65a01282-9488-4442-a5e5-80a0d2e2d188')\"\n",
              "              title=\"Convert this dataframe to an interactive table.\"\n",
              "              style=\"display:none;\">\n",
              "        \n",
              "  <svg xmlns=\"http://www.w3.org/2000/svg\" height=\"24px\"viewBox=\"0 0 24 24\"\n",
              "       width=\"24px\">\n",
              "    <path d=\"M0 0h24v24H0V0z\" fill=\"none\"/>\n",
              "    <path d=\"M18.56 5.44l.94 2.06.94-2.06 2.06-.94-2.06-.94-.94-2.06-.94 2.06-2.06.94zm-11 1L8.5 8.5l.94-2.06 2.06-.94-2.06-.94L8.5 2.5l-.94 2.06-2.06.94zm10 10l.94 2.06.94-2.06 2.06-.94-2.06-.94-.94-2.06-.94 2.06-2.06.94z\"/><path d=\"M17.41 7.96l-1.37-1.37c-.4-.4-.92-.59-1.43-.59-.52 0-1.04.2-1.43.59L10.3 9.45l-7.72 7.72c-.78.78-.78 2.05 0 2.83L4 21.41c.39.39.9.59 1.41.59.51 0 1.02-.2 1.41-.59l7.78-7.78 2.81-2.81c.8-.78.8-2.07 0-2.86zM5.41 20L4 18.59l7.72-7.72 1.47 1.35L5.41 20z\"/>\n",
              "  </svg>\n",
              "      </button>\n",
              "      \n",
              "  <style>\n",
              "    .colab-df-container {\n",
              "      display:flex;\n",
              "      flex-wrap:wrap;\n",
              "      gap: 12px;\n",
              "    }\n",
              "\n",
              "    .colab-df-convert {\n",
              "      background-color: #E8F0FE;\n",
              "      border: none;\n",
              "      border-radius: 50%;\n",
              "      cursor: pointer;\n",
              "      display: none;\n",
              "      fill: #1967D2;\n",
              "      height: 32px;\n",
              "      padding: 0 0 0 0;\n",
              "      width: 32px;\n",
              "    }\n",
              "\n",
              "    .colab-df-convert:hover {\n",
              "      background-color: #E2EBFA;\n",
              "      box-shadow: 0px 1px 2px rgba(60, 64, 67, 0.3), 0px 1px 3px 1px rgba(60, 64, 67, 0.15);\n",
              "      fill: #174EA6;\n",
              "    }\n",
              "\n",
              "    [theme=dark] .colab-df-convert {\n",
              "      background-color: #3B4455;\n",
              "      fill: #D2E3FC;\n",
              "    }\n",
              "\n",
              "    [theme=dark] .colab-df-convert:hover {\n",
              "      background-color: #434B5C;\n",
              "      box-shadow: 0px 1px 3px 1px rgba(0, 0, 0, 0.15);\n",
              "      filter: drop-shadow(0px 1px 2px rgba(0, 0, 0, 0.3));\n",
              "      fill: #FFFFFF;\n",
              "    }\n",
              "  </style>\n",
              "\n",
              "      <script>\n",
              "        const buttonEl =\n",
              "          document.querySelector('#df-65a01282-9488-4442-a5e5-80a0d2e2d188 button.colab-df-convert');\n",
              "        buttonEl.style.display =\n",
              "          google.colab.kernel.accessAllowed ? 'block' : 'none';\n",
              "\n",
              "        async function convertToInteractive(key) {\n",
              "          const element = document.querySelector('#df-65a01282-9488-4442-a5e5-80a0d2e2d188');\n",
              "          const dataTable =\n",
              "            await google.colab.kernel.invokeFunction('convertToInteractive',\n",
              "                                                     [key], {});\n",
              "          if (!dataTable) return;\n",
              "\n",
              "          const docLinkHtml = 'Like what you see? Visit the ' +\n",
              "            '<a target=\"_blank\" href=https://colab.research.google.com/notebooks/data_table.ipynb>data table notebook</a>'\n",
              "            + ' to learn more about interactive tables.';\n",
              "          element.innerHTML = '';\n",
              "          dataTable['output_type'] = 'display_data';\n",
              "          await google.colab.output.renderOutput(dataTable, element);\n",
              "          const docLink = document.createElement('div');\n",
              "          docLink.innerHTML = docLinkHtml;\n",
              "          element.appendChild(docLink);\n",
              "        }\n",
              "      </script>\n",
              "    </div>\n",
              "  </div>\n",
              "  "
            ]
          },
          "metadata": {},
          "execution_count": 44
        }
      ]
    },
    {
      "cell_type": "markdown",
      "source": [
        "total_char memiliki nilai 1 dan total_word yaitu 0.95, yang berarti memiliki korelasi positif karena mendekati nilai 1"
      ],
      "metadata": {
        "id": "fgK4P_SfaUhN"
      }
    },
    {
      "cell_type": "markdown",
      "source": [
        "**Scatter**"
      ],
      "metadata": {
        "id": "REz1K6ooa_Nj"
      }
    },
    {
      "cell_type": "code",
      "source": [
        "df.plot(x='total_word', y='total_char', kind='scatter')"
      ],
      "metadata": {
        "colab": {
          "base_uri": "https://localhost:8080/",
          "height": 297
        },
        "id": "KYiGLVTvaj7Q",
        "outputId": "5dfb8e5c-5270-495d-9846-899abd5c726f"
      },
      "execution_count": null,
      "outputs": [
        {
          "output_type": "execute_result",
          "data": {
            "text/plain": [
              "<matplotlib.axes._subplots.AxesSubplot at 0x7f377f5099d0>"
            ]
          },
          "metadata": {},
          "execution_count": 45
        },
        {
          "output_type": "display_data",
          "data": {
            "text/plain": [
              "<Figure size 432x288 with 1 Axes>"
            ],
            "image/png": "[encoded data removed]"
          },
          "metadata": {
            "needs_background": "light"
          }
        }
      ]
    },
    {
      "cell_type": "markdown",
      "source": [
        "**Bar**"
      ],
      "metadata": {
        "id": "dSZbhhLSbCSr"
      }
    },
    {
      "cell_type": "code",
      "source": [
        "df.groupby('hs_class').total_word.sum().plot(kind='bar')"
      ],
      "metadata": {
        "colab": {
          "base_uri": "https://localhost:8080/",
          "height": 331
        },
        "id": "GFtpfR-QbEb6",
        "outputId": "73883157-f9fe-4cd8-9420-c8c1e4be7c7b"
      },
      "execution_count": null,
      "outputs": [
        {
          "output_type": "execute_result",
          "data": {
            "text/plain": [
              "<matplotlib.axes._subplots.AxesSubplot at 0x7f377dc0f5e0>"
            ]
          },
          "metadata": {},
          "execution_count": 46
        },
        {
          "output_type": "display_data",
          "data": {
            "text/plain": [
              "<Figure size 432x288 with 1 Axes>"
            ],
            "image/png": "[encoded data removed]"
          },
          "metadata": {
            "needs_background": "light"
          }
        }
      ]
    },
    {
      "cell_type": "code",
      "source": [
        "df.groupby('hs_class').total_char.sum().plot(kind='bar')"
      ],
      "metadata": {
        "colab": {
          "base_uri": "https://localhost:8080/",
          "height": 331
        },
        "id": "UozurfVz1nVy",
        "outputId": "206bcf61-53b2-4a01-fd79-38fc56fc47a6"
      },
      "execution_count": null,
      "outputs": [
        {
          "output_type": "execute_result",
          "data": {
            "text/plain": [
              "<matplotlib.axes._subplots.AxesSubplot at 0x7f377dc219a0>"
            ]
          },
          "metadata": {},
          "execution_count": 50
        },
        {
          "output_type": "display_data",
          "data": {
            "text/plain": [
              "<Figure size 432x288 with 1 Axes>"
            ],
            "image/png": "[encoded data removed]"
          },
          "metadata": {
            "needs_background": "light"
          }
        }
      ]
    }
  ]
}
