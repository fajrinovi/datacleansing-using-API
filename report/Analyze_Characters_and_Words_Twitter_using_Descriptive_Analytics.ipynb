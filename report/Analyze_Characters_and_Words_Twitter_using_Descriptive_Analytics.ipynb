{
  "nbformat": 4,
  "nbformat_minor": 0,
  "metadata": {
    "colab": {
      "provenance": [],
      "mount_file_id": "1q3kCuXL0pGXWGf3-8iuO027XiDMfR7VA",
      "authorship_tag": "ABX9TyNqQ3wI1HnfVz+GJKu6hCQG"
    },
    "kernelspec": {
      "name": "python3",
      "display_name": "Python 3"
    },
    "language_info": {
      "name": "python"
    }
  },
  "cells": [
    {
      "cell_type": "markdown",
      "source": [
        "## **Import Library**"
      ],
      "metadata": {
        "id": "dl55fHpPivsn"
      }
    },
    {
      "cell_type": "code",
      "execution_count": null,
      "metadata": {
        "id": "RpXdz3Vyjlk8",
        "colab": {
          "base_uri": "https://localhost:8080/"
        },
        "outputId": "c7e00913-4548-400a-a846-35877f1d32dc"
      },
      "outputs": [
        {
          "output_type": "stream",
          "name": "stderr",
          "text": [
            "/usr/local/lib/python3.8/dist-packages/torch/cuda/__init__.py:497: UserWarning: Can't initialize NVML\n",
            "  warnings.warn(\"Can't initialize NVML\")\n"
          ]
        }
      ],
      "source": [
        "import numpy as np\n",
        "import pandas as pd \n",
        "import os\n",
        "import re\n",
        "# from Sastrawi.Stemmer.StemmerFactory import StemmerFactory\n",
        "import string\n",
        "import random\n",
        "import matplotlib.pyplot as plt\n",
        "import seaborn as sns\n",
        "%matplotlib inline\n",
        "from plotly import graph_objs as go\n",
        "import plotly.express as px\n",
        "import plotly.figure_factory as ff\n",
        "from collections import Counter\n",
        "from PIL import Image\n",
        "from wordcloud import WordCloud, STOPWORDS, ImageColorGenerator\n",
        "import nltk\n",
        "from nltk.corpus import stopwords\n",
        "from tqdm import tqdm\n",
        "import os\n",
        "import nltk\n",
        "import spacy\n",
        "from spacy.util import compounding\n",
        "from spacy.util import minibatch\n",
        "from sklearn.model_selection import train_test_split\n",
        "import sqlite3"
      ]
    },
    {
      "cell_type": "markdown",
      "source": [
        "## **Data Preparation**"
      ],
      "metadata": {
        "id": "1kqzcYBei1Sa"
      }
    },
    {
      "cell_type": "code",
      "source": [
        "conn = sqlite3.connect('datacleansing.db')"
      ],
      "metadata": {
        "id": "BUse6VlrkUCJ"
      },
      "execution_count": null,
      "outputs": []
    },
    {
      "cell_type": "code",
      "source": [
        "alay_dict = pd.read_csv('/content/drive/MyDrive/Colab Notebooks/Cleansing_data/new_kamusalay.csv', names = ['original', 'replacement'], encoding='latin-1')\n",
        "abusive_dict = pd.read_csv('/content/drive/MyDrive/Colab Notebooks/Cleansing_data/abusive.csv', encoding='latin-1')\n",
        "stopword_dict = pd.read_csv('/content/drive/MyDrive/Colab Notebooks/Cleansing_data/stopwordbahasa.csv', names = ['stopword'], encoding='latin-1')"
      ],
      "metadata": {
        "id": "PR8cRE_3kzw0"
      },
      "execution_count": null,
      "outputs": []
    },
    {
      "cell_type": "code",
      "source": [
        "df = pd.read_csv('/content/drive/MyDrive/Colab Notebooks/Cleansing_data/data.csv',encoding='latin-1')"
      ],
      "metadata": {
        "id": "C4eTxa1LlBcg"
      },
      "execution_count": null,
      "outputs": []
    },
    {
      "cell_type": "code",
      "source": [
        "df.head()"
      ],
      "metadata": {
        "colab": {
          "base_uri": "https://localhost:8080/",
          "height": 722
        },
        "id": "aULT-dnAlFyu",
        "outputId": "c57d2874-dc69-4394-8fc5-d15c589a9b41"
      },
      "execution_count": null,
      "outputs": [
        {
          "output_type": "execute_result",
          "data": {
            "text/plain": [
              "                                               Tweet  HS  Abusive  \\\n",
              "0  - disaat semua cowok berusaha melacak perhatia...   1        1   \n",
              "1  RT USER: USER siapa yang telat ngasih tau elu?...   0        1   \n",
              "2  41. Kadang aku berfikir, kenapa aku tetap perc...   0        0   \n",
              "3  USER USER AKU ITU AKU\\n\\nKU TAU MATAMU SIPIT T...   0        0   \n",
              "4  USER USER Kaum cebong kapir udah keliatan dong...   1        1   \n",
              "\n",
              "   HS_Individual  HS_Group  HS_Religion  HS_Race  HS_Physical  HS_Gender  \\\n",
              "0              1         0            0        0            0          0   \n",
              "1              0         0            0        0            0          0   \n",
              "2              0         0            0        0            0          0   \n",
              "3              0         0            0        0            0          0   \n",
              "4              0         1            1        0            0          0   \n",
              "\n",
              "   HS_Other  HS_Weak  HS_Moderate  HS_Strong  \n",
              "0         1        1            0          0  \n",
              "1         0        0            0          0  \n",
              "2         0        0            0          0  \n",
              "3         0        0            0          0  \n",
              "4         0        0            1          0  "
            ],
            "text/html": [
              "\n",
              "  <div id=\"df-97126db9-6c73-46a9-88f2-4d7548bb3925\">\n",
              "    <div class=\"colab-df-container\">\n",
              "      <div>\n",
              "<style scoped>\n",
              "    .dataframe tbody tr th:only-of-type {\n",
              "        vertical-align: middle;\n",
              "    }\n",
              "\n",
              "    .dataframe tbody tr th {\n",
              "        vertical-align: top;\n",
              "    }\n",
              "\n",
              "    .dataframe thead th {\n",
              "        text-align: right;\n",
              "    }\n",
              "</style>\n",
              "<table border=\"1\" class=\"dataframe\">\n",
              "  <thead>\n",
              "    <tr style=\"text-align: right;\">\n",
              "      <th></th>\n",
              "      <th>Tweet</th>\n",
              "      <th>HS</th>\n",
              "      <th>Abusive</th>\n",
              "      <th>HS_Individual</th>\n",
              "      <th>HS_Group</th>\n",
              "      <th>HS_Religion</th>\n",
              "      <th>HS_Race</th>\n",
              "      <th>HS_Physical</th>\n",
              "      <th>HS_Gender</th>\n",
              "      <th>HS_Other</th>\n",
              "      <th>HS_Weak</th>\n",
              "      <th>HS_Moderate</th>\n",
              "      <th>HS_Strong</th>\n",
              "    </tr>\n",
              "  </thead>\n",
              "  <tbody>\n",
              "    <tr>\n",
              "      <th>0</th>\n",
              "      <td>- disaat semua cowok berusaha melacak perhatia...</td>\n",
              "      <td>1</td>\n",
              "      <td>1</td>\n",
              "      <td>1</td>\n",
              "      <td>0</td>\n",
              "      <td>0</td>\n",
              "      <td>0</td>\n",
              "      <td>0</td>\n",
              "      <td>0</td>\n",
              "      <td>1</td>\n",
              "      <td>1</td>\n",
              "      <td>0</td>\n",
              "      <td>0</td>\n",
              "    </tr>\n",
              "    <tr>\n",
              "      <th>1</th>\n",
              "      <td>RT USER: USER siapa yang telat ngasih tau elu?...</td>\n",
              "      <td>0</td>\n",
              "      <td>1</td>\n",
              "      <td>0</td>\n",
              "      <td>0</td>\n",
              "      <td>0</td>\n",
              "      <td>0</td>\n",
              "      <td>0</td>\n",
              "      <td>0</td>\n",
              "      <td>0</td>\n",
              "      <td>0</td>\n",
              "      <td>0</td>\n",
              "      <td>0</td>\n",
              "    </tr>\n",
              "    <tr>\n",
              "      <th>2</th>\n",
              "      <td>41. Kadang aku berfikir, kenapa aku tetap perc...</td>\n",
              "      <td>0</td>\n",
              "      <td>0</td>\n",
              "      <td>0</td>\n",
              "      <td>0</td>\n",
              "      <td>0</td>\n",
              "      <td>0</td>\n",
              "      <td>0</td>\n",
              "      <td>0</td>\n",
              "      <td>0</td>\n",
              "      <td>0</td>\n",
              "      <td>0</td>\n",
              "      <td>0</td>\n",
              "    </tr>\n",
              "    <tr>\n",
              "      <th>3</th>\n",
              "      <td>USER USER AKU ITU AKU\\n\\nKU TAU MATAMU SIPIT T...</td>\n",
              "      <td>0</td>\n",
              "      <td>0</td>\n",
              "      <td>0</td>\n",
              "      <td>0</td>\n",
              "      <td>0</td>\n",
              "      <td>0</td>\n",
              "      <td>0</td>\n",
              "      <td>0</td>\n",
              "      <td>0</td>\n",
              "      <td>0</td>\n",
              "      <td>0</td>\n",
              "      <td>0</td>\n",
              "    </tr>\n",
              "    <tr>\n",
              "      <th>4</th>\n",
              "      <td>USER USER Kaum cebong kapir udah keliatan dong...</td>\n",
              "      <td>1</td>\n",
              "      <td>1</td>\n",
              "      <td>0</td>\n",
              "      <td>1</td>\n",
              "      <td>1</td>\n",
              "      <td>0</td>\n",
              "      <td>0</td>\n",
              "      <td>0</td>\n",
              "      <td>0</td>\n",
              "      <td>0</td>\n",
              "      <td>1</td>\n",
              "      <td>0</td>\n",
              "    </tr>\n",
              "  </tbody>\n",
              "</table>\n",
              "</div>\n",
              "      <button class=\"colab-df-convert\" onclick=\"convertToInteractive('df-97126db9-6c73-46a9-88f2-4d7548bb3925')\"\n",
              "              title=\"Convert this dataframe to an interactive table.\"\n",
              "              style=\"display:none;\">\n",
              "        \n",
              "  <svg xmlns=\"http://www.w3.org/2000/svg\" height=\"24px\"viewBox=\"0 0 24 24\"\n",
              "       width=\"24px\">\n",
              "    <path d=\"M0 0h24v24H0V0z\" fill=\"none\"/>\n",
              "    <path d=\"M18.56 5.44l.94 2.06.94-2.06 2.06-.94-2.06-.94-.94-2.06-.94 2.06-2.06.94zm-11 1L8.5 8.5l.94-2.06 2.06-.94-2.06-.94L8.5 2.5l-.94 2.06-2.06.94zm10 10l.94 2.06.94-2.06 2.06-.94-2.06-.94-.94-2.06-.94 2.06-2.06.94z\"/><path d=\"M17.41 7.96l-1.37-1.37c-.4-.4-.92-.59-1.43-.59-.52 0-1.04.2-1.43.59L10.3 9.45l-7.72 7.72c-.78.78-.78 2.05 0 2.83L4 21.41c.39.39.9.59 1.41.59.51 0 1.02-.2 1.41-.59l7.78-7.78 2.81-2.81c.8-.78.8-2.07 0-2.86zM5.41 20L4 18.59l7.72-7.72 1.47 1.35L5.41 20z\"/>\n",
              "  </svg>\n",
              "      </button>\n",
              "      \n",
              "  <style>\n",
              "    .colab-df-container {\n",
              "      display:flex;\n",
              "      flex-wrap:wrap;\n",
              "      gap: 12px;\n",
              "    }\n",
              "\n",
              "    .colab-df-convert {\n",
              "      background-color: #E8F0FE;\n",
              "      border: none;\n",
              "      border-radius: 50%;\n",
              "      cursor: pointer;\n",
              "      display: none;\n",
              "      fill: #1967D2;\n",
              "      height: 32px;\n",
              "      padding: 0 0 0 0;\n",
              "      width: 32px;\n",
              "    }\n",
              "\n",
              "    .colab-df-convert:hover {\n",
              "      background-color: #E2EBFA;\n",
              "      box-shadow: 0px 1px 2px rgba(60, 64, 67, 0.3), 0px 1px 3px 1px rgba(60, 64, 67, 0.15);\n",
              "      fill: #174EA6;\n",
              "    }\n",
              "\n",
              "    [theme=dark] .colab-df-convert {\n",
              "      background-color: #3B4455;\n",
              "      fill: #D2E3FC;\n",
              "    }\n",
              "\n",
              "    [theme=dark] .colab-df-convert:hover {\n",
              "      background-color: #434B5C;\n",
              "      box-shadow: 0px 1px 3px 1px rgba(0, 0, 0, 0.15);\n",
              "      filter: drop-shadow(0px 1px 2px rgba(0, 0, 0, 0.3));\n",
              "      fill: #FFFFFF;\n",
              "    }\n",
              "  </style>\n",
              "\n",
              "      <script>\n",
              "        const buttonEl =\n",
              "          document.querySelector('#df-97126db9-6c73-46a9-88f2-4d7548bb3925 button.colab-df-convert');\n",
              "        buttonEl.style.display =\n",
              "          google.colab.kernel.accessAllowed ? 'block' : 'none';\n",
              "\n",
              "        async function convertToInteractive(key) {\n",
              "          const element = document.querySelector('#df-97126db9-6c73-46a9-88f2-4d7548bb3925');\n",
              "          const dataTable =\n",
              "            await google.colab.kernel.invokeFunction('convertToInteractive',\n",
              "                                                     [key], {});\n",
              "          if (!dataTable) return;\n",
              "\n",
              "          const docLinkHtml = 'Like what you see? Visit the ' +\n",
              "            '<a target=\"_blank\" href=https://colab.research.google.com/notebooks/data_table.ipynb>data table notebook</a>'\n",
              "            + ' to learn more about interactive tables.';\n",
              "          element.innerHTML = '';\n",
              "          dataTable['output_type'] = 'display_data';\n",
              "          await google.colab.output.renderOutput(dataTable, element);\n",
              "          const docLink = document.createElement('div');\n",
              "          docLink.innerHTML = docLinkHtml;\n",
              "          element.appendChild(docLink);\n",
              "        }\n",
              "      </script>\n",
              "    </div>\n",
              "  </div>\n",
              "  "
            ]
          },
          "metadata": {},
          "execution_count": 5
        }
      ]
    },
    {
      "cell_type": "markdown",
      "source": [
        "**Mengecek total data dan jumlah kolom**"
      ],
      "metadata": {
        "id": "RbEMtHU6hj4P"
      }
    },
    {
      "cell_type": "code",
      "source": [
        "df.shape"
      ],
      "metadata": {
        "colab": {
          "base_uri": "https://localhost:8080/"
        },
        "id": "vsoPKTn0KPBn",
        "outputId": "55025bf9-c9fb-4ef8-fa6e-9db9ade3f0ef"
      },
      "execution_count": null,
      "outputs": [
        {
          "output_type": "execute_result",
          "data": {
            "text/plain": [
              "(13169, 13)"
            ]
          },
          "metadata": {},
          "execution_count": 6
        }
      ]
    },
    {
      "cell_type": "markdown",
      "source": [
        "**Mengecek total duplikat data**"
      ],
      "metadata": {
        "id": "SKdsFdnuhci5"
      }
    },
    {
      "cell_type": "code",
      "source": [
        "df.duplicated().sum()"
      ],
      "metadata": {
        "colab": {
          "base_uri": "https://localhost:8080/"
        },
        "id": "xwWMFhcGlHH7",
        "outputId": "a6fdd09c-b81b-4508-9b5d-b3c5da86da2b"
      },
      "execution_count": null,
      "outputs": [
        {
          "output_type": "execute_result",
          "data": {
            "text/plain": [
              "125"
            ]
          },
          "metadata": {},
          "execution_count": 7
        }
      ]
    },
    {
      "cell_type": "code",
      "source": [
        "df = df.drop_duplicates()"
      ],
      "metadata": {
        "id": "yG4QIYDelJlP"
      },
      "execution_count": null,
      "outputs": []
    },
    {
      "cell_type": "markdown",
      "source": [
        "**Mengecek missing values**"
      ],
      "metadata": {
        "id": "a0U3aB-ehoCn"
      }
    },
    {
      "cell_type": "code",
      "source": [
        "df.isna().sum()"
      ],
      "metadata": {
        "colab": {
          "base_uri": "https://localhost:8080/"
        },
        "id": "2Vt2HAa7lgVI",
        "outputId": "ee19d250-9b32-40fb-e561-5895e2661baf"
      },
      "execution_count": null,
      "outputs": [
        {
          "output_type": "execute_result",
          "data": {
            "text/plain": [
              "Tweet            0\n",
              "HS               0\n",
              "Abusive          0\n",
              "HS_Individual    0\n",
              "HS_Group         0\n",
              "HS_Religion      0\n",
              "HS_Race          0\n",
              "HS_Physical      0\n",
              "HS_Gender        0\n",
              "HS_Other         0\n",
              "HS_Weak          0\n",
              "HS_Moderate      0\n",
              "HS_Strong        0\n",
              "dtype: int64"
            ]
          },
          "metadata": {},
          "execution_count": 9
        }
      ]
    },
    {
      "cell_type": "markdown",
      "source": [
        "**Data Cleaning**"
      ],
      "metadata": {
        "id": "zLObYeSxfZrR"
      }
    },
    {
      "cell_type": "code",
      "source": [
        "def lowercase(text):\n",
        "    return text.lower()\n",
        "\n",
        "def remove_unnecessary_char(text):\n",
        "    text = re.sub('\\\\+n', ' ', text)\n",
        "    text = re.sub('\\n',\" \",text) # Remove every '\\n'\n",
        "    \n",
        "    text = re.sub('rt',' ',text) # Remove every retweet symbol\n",
        "    text = re.sub('RT',' ',text) # Remove every retweet symbol\n",
        "    text = re.sub('user',' ',text) # Remove every username\n",
        "    text = re.sub('USER', ' ', text)\n",
        "    text = re.sub('((www\\.[^\\s]+)|(https?://[^\\s]+)|(http?://[^\\s]+))',' ',text) # Remove every URL\n",
        "    text = re.sub(':', ' ', text)\n",
        "    text = re.sub(';', ' ', text)\n",
        "    text = re.sub('\\\\+n', ' ', text)\n",
        "    text = re.sub('\\n',\" \",text) # Remove every '\\n'\n",
        "    text = re.sub('\\\\+', ' ', text)\n",
        "    text = re.sub('  +', ' ', text) # Remove extra spaces)\n",
        "    return text\n",
        "    \n",
        "alay_dict_map = dict(zip(alay_dict['original'], alay_dict['replacement']))\n",
        "def normalize_alay(text):\n",
        "    return ' '.join([alay_dict_map[word] if word in alay_dict_map else word for word in str(text).split(' ')])\n",
        "\n",
        "def remove_stopword(text):\n",
        "    text = ' '.join(['' if word in stopword_dict.stopword.values else word for word in text.split(' ')])\n",
        "    text = re.sub('  +', ' ', text) # Remove extra spaces\n",
        "    text = text.strip()\n",
        "    return text\n",
        "\n",
        "def remove_emoticon_byte(text):\n",
        "    text = str(text).replace(\"\\\\\", \" \")\n",
        "    text = re.sub('x..', ' ', text)\n",
        "    text = re.sub(' n ', ' ', text)\n",
        "    text = re.sub('\\\\+', ' ', text)\n",
        "    text = re.sub('  +', ' ', text)\n",
        "    return text\n",
        "\n",
        "def remove_early_space(text):\n",
        "    if text[0] == ' ':\n",
        "        return text[1:]\n",
        "    else:\n",
        "        return text"
      ],
      "metadata": {
        "id": "QCZ49YM7li7d"
      },
      "execution_count": null,
      "outputs": []
    },
    {
      "cell_type": "code",
      "source": [
        "def preprocess(text):\n",
        "    text = lowercase(text)\n",
        "    text = remove_unnecessary_char(text) # 2\n",
        "    text = normalize_alay(text) # 3\n",
        "    text = remove_unnecessary_char(text)\n",
        "    text = remove_emoticon_byte(text)\n",
        "    text = remove_early_space(text)\n",
        "    text = remove_stopword(text)\n",
        "    return text\n",
        "\n",
        "def classify(hs):\n",
        "    retval = \"\"\n",
        "    if int(hs) == 1:\n",
        "        retval = 'positive'\n",
        "    else:\n",
        "        retval = 'negative'\n",
        "    return retval"
      ],
      "metadata": {
        "id": "5nMUWaL2lqH1"
      },
      "execution_count": null,
      "outputs": []
    },
    {
      "cell_type": "markdown",
      "source": [
        "**Membuat kolom total_char yang berisi panjang karakter tiap text dan total_word yang berisi banyak kata tiap text**"
      ],
      "metadata": {
        "id": "r31NjglsgfpT"
      }
    },
    {
      "cell_type": "code",
      "source": [
        "df['total_char'] = df['Tweet'].apply(len)"
      ],
      "metadata": {
        "id": "TjYiRyBSKyUO"
      },
      "execution_count": null,
      "outputs": []
    },
    {
      "cell_type": "code",
      "source": [
        "df['total_word'] = df['Tweet'].apply(lambda sent: len(sent.split()))"
      ],
      "metadata": {
        "id": "vGCxsR2ZLR4e"
      },
      "execution_count": null,
      "outputs": []
    },
    {
      "cell_type": "code",
      "source": [
        "df.head()"
      ],
      "metadata": {
        "colab": {
          "base_uri": "https://localhost:8080/",
          "height": 722
        },
        "id": "j_a2vDdnLqn-",
        "outputId": "fbc31771-d5d2-4d4b-fd3d-3c1bfc351e19"
      },
      "execution_count": null,
      "outputs": [
        {
          "output_type": "execute_result",
          "data": {
            "text/plain": [
              "                                               Tweet  HS  Abusive  \\\n",
              "0  - disaat semua cowok berusaha melacak perhatia...   1        1   \n",
              "1  RT USER: USER siapa yang telat ngasih tau elu?...   0        1   \n",
              "2  41. Kadang aku berfikir, kenapa aku tetap perc...   0        0   \n",
              "3  USER USER AKU ITU AKU\\n\\nKU TAU MATAMU SIPIT T...   0        0   \n",
              "4  USER USER Kaum cebong kapir udah keliatan dong...   1        1   \n",
              "\n",
              "   HS_Individual  HS_Group  HS_Religion  HS_Race  HS_Physical  HS_Gender  \\\n",
              "0              1         0            0        0            0          0   \n",
              "1              0         0            0        0            0          0   \n",
              "2              0         0            0        0            0          0   \n",
              "3              0         0            0        0            0          0   \n",
              "4              0         1            1        0            0          0   \n",
              "\n",
              "   HS_Other  HS_Weak  HS_Moderate  HS_Strong  total_char  total_word  \n",
              "0         1        1            0          0         138          25  \n",
              "1         0        0            0          0         120          21  \n",
              "2         0        0            0          0         254          37  \n",
              "3         0        0            0          0          75          14  \n",
              "4         0        0            1          0          89          14  "
            ],
            "text/html": [
              "\n",
              "  <div id=\"df-132e45cb-6b74-474c-a553-e316eee16544\">\n",
              "    <div class=\"colab-df-container\">\n",
              "      <div>\n",
              "<style scoped>\n",
              "    .dataframe tbody tr th:only-of-type {\n",
              "        vertical-align: middle;\n",
              "    }\n",
              "\n",
              "    .dataframe tbody tr th {\n",
              "        vertical-align: top;\n",
              "    }\n",
              "\n",
              "    .dataframe thead th {\n",
              "        text-align: right;\n",
              "    }\n",
              "</style>\n",
              "<table border=\"1\" class=\"dataframe\">\n",
              "  <thead>\n",
              "    <tr style=\"text-align: right;\">\n",
              "      <th></th>\n",
              "      <th>Tweet</th>\n",
              "      <th>HS</th>\n",
              "      <th>Abusive</th>\n",
              "      <th>HS_Individual</th>\n",
              "      <th>HS_Group</th>\n",
              "      <th>HS_Religion</th>\n",
              "      <th>HS_Race</th>\n",
              "      <th>HS_Physical</th>\n",
              "      <th>HS_Gender</th>\n",
              "      <th>HS_Other</th>\n",
              "      <th>HS_Weak</th>\n",
              "      <th>HS_Moderate</th>\n",
              "      <th>HS_Strong</th>\n",
              "      <th>total_char</th>\n",
              "      <th>total_word</th>\n",
              "    </tr>\n",
              "  </thead>\n",
              "  <tbody>\n",
              "    <tr>\n",
              "      <th>0</th>\n",
              "      <td>- disaat semua cowok berusaha melacak perhatia...</td>\n",
              "      <td>1</td>\n",
              "      <td>1</td>\n",
              "      <td>1</td>\n",
              "      <td>0</td>\n",
              "      <td>0</td>\n",
              "      <td>0</td>\n",
              "      <td>0</td>\n",
              "      <td>0</td>\n",
              "      <td>1</td>\n",
              "      <td>1</td>\n",
              "      <td>0</td>\n",
              "      <td>0</td>\n",
              "      <td>138</td>\n",
              "      <td>25</td>\n",
              "    </tr>\n",
              "    <tr>\n",
              "      <th>1</th>\n",
              "      <td>RT USER: USER siapa yang telat ngasih tau elu?...</td>\n",
              "      <td>0</td>\n",
              "      <td>1</td>\n",
              "      <td>0</td>\n",
              "      <td>0</td>\n",
              "      <td>0</td>\n",
              "      <td>0</td>\n",
              "      <td>0</td>\n",
              "      <td>0</td>\n",
              "      <td>0</td>\n",
              "      <td>0</td>\n",
              "      <td>0</td>\n",
              "      <td>0</td>\n",
              "      <td>120</td>\n",
              "      <td>21</td>\n",
              "    </tr>\n",
              "    <tr>\n",
              "      <th>2</th>\n",
              "      <td>41. Kadang aku berfikir, kenapa aku tetap perc...</td>\n",
              "      <td>0</td>\n",
              "      <td>0</td>\n",
              "      <td>0</td>\n",
              "      <td>0</td>\n",
              "      <td>0</td>\n",
              "      <td>0</td>\n",
              "      <td>0</td>\n",
              "      <td>0</td>\n",
              "      <td>0</td>\n",
              "      <td>0</td>\n",
              "      <td>0</td>\n",
              "      <td>0</td>\n",
              "      <td>254</td>\n",
              "      <td>37</td>\n",
              "    </tr>\n",
              "    <tr>\n",
              "      <th>3</th>\n",
              "      <td>USER USER AKU ITU AKU\\n\\nKU TAU MATAMU SIPIT T...</td>\n",
              "      <td>0</td>\n",
              "      <td>0</td>\n",
              "      <td>0</td>\n",
              "      <td>0</td>\n",
              "      <td>0</td>\n",
              "      <td>0</td>\n",
              "      <td>0</td>\n",
              "      <td>0</td>\n",
              "      <td>0</td>\n",
              "      <td>0</td>\n",
              "      <td>0</td>\n",
              "      <td>0</td>\n",
              "      <td>75</td>\n",
              "      <td>14</td>\n",
              "    </tr>\n",
              "    <tr>\n",
              "      <th>4</th>\n",
              "      <td>USER USER Kaum cebong kapir udah keliatan dong...</td>\n",
              "      <td>1</td>\n",
              "      <td>1</td>\n",
              "      <td>0</td>\n",
              "      <td>1</td>\n",
              "      <td>1</td>\n",
              "      <td>0</td>\n",
              "      <td>0</td>\n",
              "      <td>0</td>\n",
              "      <td>0</td>\n",
              "      <td>0</td>\n",
              "      <td>1</td>\n",
              "      <td>0</td>\n",
              "      <td>89</td>\n",
              "      <td>14</td>\n",
              "    </tr>\n",
              "  </tbody>\n",
              "</table>\n",
              "</div>\n",
              "      <button class=\"colab-df-convert\" onclick=\"convertToInteractive('df-132e45cb-6b74-474c-a553-e316eee16544')\"\n",
              "              title=\"Convert this dataframe to an interactive table.\"\n",
              "              style=\"display:none;\">\n",
              "        \n",
              "  <svg xmlns=\"http://www.w3.org/2000/svg\" height=\"24px\"viewBox=\"0 0 24 24\"\n",
              "       width=\"24px\">\n",
              "    <path d=\"M0 0h24v24H0V0z\" fill=\"none\"/>\n",
              "    <path d=\"M18.56 5.44l.94 2.06.94-2.06 2.06-.94-2.06-.94-.94-2.06-.94 2.06-2.06.94zm-11 1L8.5 8.5l.94-2.06 2.06-.94-2.06-.94L8.5 2.5l-.94 2.06-2.06.94zm10 10l.94 2.06.94-2.06 2.06-.94-2.06-.94-.94-2.06-.94 2.06-2.06.94z\"/><path d=\"M17.41 7.96l-1.37-1.37c-.4-.4-.92-.59-1.43-.59-.52 0-1.04.2-1.43.59L10.3 9.45l-7.72 7.72c-.78.78-.78 2.05 0 2.83L4 21.41c.39.39.9.59 1.41.59.51 0 1.02-.2 1.41-.59l7.78-7.78 2.81-2.81c.8-.78.8-2.07 0-2.86zM5.41 20L4 18.59l7.72-7.72 1.47 1.35L5.41 20z\"/>\n",
              "  </svg>\n",
              "      </button>\n",
              "      \n",
              "  <style>\n",
              "    .colab-df-container {\n",
              "      display:flex;\n",
              "      flex-wrap:wrap;\n",
              "      gap: 12px;\n",
              "    }\n",
              "\n",
              "    .colab-df-convert {\n",
              "      background-color: #E8F0FE;\n",
              "      border: none;\n",
              "      border-radius: 50%;\n",
              "      cursor: pointer;\n",
              "      display: none;\n",
              "      fill: #1967D2;\n",
              "      height: 32px;\n",
              "      padding: 0 0 0 0;\n",
              "      width: 32px;\n",
              "    }\n",
              "\n",
              "    .colab-df-convert:hover {\n",
              "      background-color: #E2EBFA;\n",
              "      box-shadow: 0px 1px 2px rgba(60, 64, 67, 0.3), 0px 1px 3px 1px rgba(60, 64, 67, 0.15);\n",
              "      fill: #174EA6;\n",
              "    }\n",
              "\n",
              "    [theme=dark] .colab-df-convert {\n",
              "      background-color: #3B4455;\n",
              "      fill: #D2E3FC;\n",
              "    }\n",
              "\n",
              "    [theme=dark] .colab-df-convert:hover {\n",
              "      background-color: #434B5C;\n",
              "      box-shadow: 0px 1px 3px 1px rgba(0, 0, 0, 0.15);\n",
              "      filter: drop-shadow(0px 1px 2px rgba(0, 0, 0, 0.3));\n",
              "      fill: #FFFFFF;\n",
              "    }\n",
              "  </style>\n",
              "\n",
              "      <script>\n",
              "        const buttonEl =\n",
              "          document.querySelector('#df-132e45cb-6b74-474c-a553-e316eee16544 button.colab-df-convert');\n",
              "        buttonEl.style.display =\n",
              "          google.colab.kernel.accessAllowed ? 'block' : 'none';\n",
              "\n",
              "        async function convertToInteractive(key) {\n",
              "          const element = document.querySelector('#df-132e45cb-6b74-474c-a553-e316eee16544');\n",
              "          const dataTable =\n",
              "            await google.colab.kernel.invokeFunction('convertToInteractive',\n",
              "                                                     [key], {});\n",
              "          if (!dataTable) return;\n",
              "\n",
              "          const docLinkHtml = 'Like what you see? Visit the ' +\n",
              "            '<a target=\"_blank\" href=https://colab.research.google.com/notebooks/data_table.ipynb>data table notebook</a>'\n",
              "            + ' to learn more about interactive tables.';\n",
              "          element.innerHTML = '';\n",
              "          dataTable['output_type'] = 'display_data';\n",
              "          await google.colab.output.renderOutput(dataTable, element);\n",
              "          const docLink = document.createElement('div');\n",
              "          docLink.innerHTML = docLinkHtml;\n",
              "          element.appendChild(docLink);\n",
              "        }\n",
              "      </script>\n",
              "    </div>\n",
              "  </div>\n",
              "  "
            ]
          },
          "metadata": {},
          "execution_count": 14
        }
      ]
    },
    {
      "cell_type": "code",
      "source": [
        "df['text'] = df['Tweet'].apply(preprocess)\n",
        "df['hs_class'] = df['HS'].apply(classify)\n",
        "df[['text', 'hs_class']].sample(10)"
      ],
      "metadata": {
        "colab": {
          "base_uri": "https://localhost:8080/",
          "height": 363
        },
        "id": "qFXfo3zXlsYd",
        "outputId": "75514d67-6b5a-4ef5-adad-b374c2496745"
      },
      "execution_count": null,
      "outputs": [
        {
          "output_type": "execute_result",
          "data": {
            "text/plain": [
              "                                                   text  hs_class\n",
              "4149                        ganja narkoba kiri komunis'  negative\n",
              "9791                         azankan nih mulut jamban.'  positive\n",
              "1955  gaya beruk preman kampung, mantan supir tembak...  positive\n",
              "2644  penjarakan penista agama !!! turun !!! uniform...  positive\n",
              "2994  katolik berkiblat vatikan. wajar. digugat. isl...  negative\n",
              "528                         jokowi kasihan gorengan pbb  positive\n",
              "3540  #kom3 menteri hukum hak asasi manusia md3, hak...  negative\n",
              "7433  contoh sederhana, huria kristen batak protesta...  negative\n",
              "4856  sih jam jam malam laperrrr, tau badan apann nk...  negative\n",
              "3319  merindukan suha o..... kroni2nya, kayak rezim ...  negative"
            ],
            "text/html": [
              "\n",
              "  <div id=\"df-44485757-6b04-44ef-95ed-87e40499aa31\">\n",
              "    <div class=\"colab-df-container\">\n",
              "      <div>\n",
              "<style scoped>\n",
              "    .dataframe tbody tr th:only-of-type {\n",
              "        vertical-align: middle;\n",
              "    }\n",
              "\n",
              "    .dataframe tbody tr th {\n",
              "        vertical-align: top;\n",
              "    }\n",
              "\n",
              "    .dataframe thead th {\n",
              "        text-align: right;\n",
              "    }\n",
              "</style>\n",
              "<table border=\"1\" class=\"dataframe\">\n",
              "  <thead>\n",
              "    <tr style=\"text-align: right;\">\n",
              "      <th></th>\n",
              "      <th>text</th>\n",
              "      <th>hs_class</th>\n",
              "    </tr>\n",
              "  </thead>\n",
              "  <tbody>\n",
              "    <tr>\n",
              "      <th>4149</th>\n",
              "      <td>ganja narkoba kiri komunis'</td>\n",
              "      <td>negative</td>\n",
              "    </tr>\n",
              "    <tr>\n",
              "      <th>9791</th>\n",
              "      <td>azankan nih mulut jamban.'</td>\n",
              "      <td>positive</td>\n",
              "    </tr>\n",
              "    <tr>\n",
              "      <th>1955</th>\n",
              "      <td>gaya beruk preman kampung, mantan supir tembak...</td>\n",
              "      <td>positive</td>\n",
              "    </tr>\n",
              "    <tr>\n",
              "      <th>2644</th>\n",
              "      <td>penjarakan penista agama !!! turun !!! uniform...</td>\n",
              "      <td>positive</td>\n",
              "    </tr>\n",
              "    <tr>\n",
              "      <th>2994</th>\n",
              "      <td>katolik berkiblat vatikan. wajar. digugat. isl...</td>\n",
              "      <td>negative</td>\n",
              "    </tr>\n",
              "    <tr>\n",
              "      <th>528</th>\n",
              "      <td>jokowi kasihan gorengan pbb</td>\n",
              "      <td>positive</td>\n",
              "    </tr>\n",
              "    <tr>\n",
              "      <th>3540</th>\n",
              "      <td>#kom3 menteri hukum hak asasi manusia md3, hak...</td>\n",
              "      <td>negative</td>\n",
              "    </tr>\n",
              "    <tr>\n",
              "      <th>7433</th>\n",
              "      <td>contoh sederhana, huria kristen batak protesta...</td>\n",
              "      <td>negative</td>\n",
              "    </tr>\n",
              "    <tr>\n",
              "      <th>4856</th>\n",
              "      <td>sih jam jam malam laperrrr, tau badan apann nk...</td>\n",
              "      <td>negative</td>\n",
              "    </tr>\n",
              "    <tr>\n",
              "      <th>3319</th>\n",
              "      <td>merindukan suha o..... kroni2nya, kayak rezim ...</td>\n",
              "      <td>negative</td>\n",
              "    </tr>\n",
              "  </tbody>\n",
              "</table>\n",
              "</div>\n",
              "      <button class=\"colab-df-convert\" onclick=\"convertToInteractive('df-44485757-6b04-44ef-95ed-87e40499aa31')\"\n",
              "              title=\"Convert this dataframe to an interactive table.\"\n",
              "              style=\"display:none;\">\n",
              "        \n",
              "  <svg xmlns=\"http://www.w3.org/2000/svg\" height=\"24px\"viewBox=\"0 0 24 24\"\n",
              "       width=\"24px\">\n",
              "    <path d=\"M0 0h24v24H0V0z\" fill=\"none\"/>\n",
              "    <path d=\"M18.56 5.44l.94 2.06.94-2.06 2.06-.94-2.06-.94-.94-2.06-.94 2.06-2.06.94zm-11 1L8.5 8.5l.94-2.06 2.06-.94-2.06-.94L8.5 2.5l-.94 2.06-2.06.94zm10 10l.94 2.06.94-2.06 2.06-.94-2.06-.94-.94-2.06-.94 2.06-2.06.94z\"/><path d=\"M17.41 7.96l-1.37-1.37c-.4-.4-.92-.59-1.43-.59-.52 0-1.04.2-1.43.59L10.3 9.45l-7.72 7.72c-.78.78-.78 2.05 0 2.83L4 21.41c.39.39.9.59 1.41.59.51 0 1.02-.2 1.41-.59l7.78-7.78 2.81-2.81c.8-.78.8-2.07 0-2.86zM5.41 20L4 18.59l7.72-7.72 1.47 1.35L5.41 20z\"/>\n",
              "  </svg>\n",
              "      </button>\n",
              "      \n",
              "  <style>\n",
              "    .colab-df-container {\n",
              "      display:flex;\n",
              "      flex-wrap:wrap;\n",
              "      gap: 12px;\n",
              "    }\n",
              "\n",
              "    .colab-df-convert {\n",
              "      background-color: #E8F0FE;\n",
              "      border: none;\n",
              "      border-radius: 50%;\n",
              "      cursor: pointer;\n",
              "      display: none;\n",
              "      fill: #1967D2;\n",
              "      height: 32px;\n",
              "      padding: 0 0 0 0;\n",
              "      width: 32px;\n",
              "    }\n",
              "\n",
              "    .colab-df-convert:hover {\n",
              "      background-color: #E2EBFA;\n",
              "      box-shadow: 0px 1px 2px rgba(60, 64, 67, 0.3), 0px 1px 3px 1px rgba(60, 64, 67, 0.15);\n",
              "      fill: #174EA6;\n",
              "    }\n",
              "\n",
              "    [theme=dark] .colab-df-convert {\n",
              "      background-color: #3B4455;\n",
              "      fill: #D2E3FC;\n",
              "    }\n",
              "\n",
              "    [theme=dark] .colab-df-convert:hover {\n",
              "      background-color: #434B5C;\n",
              "      box-shadow: 0px 1px 3px 1px rgba(0, 0, 0, 0.15);\n",
              "      filter: drop-shadow(0px 1px 2px rgba(0, 0, 0, 0.3));\n",
              "      fill: #FFFFFF;\n",
              "    }\n",
              "  </style>\n",
              "\n",
              "      <script>\n",
              "        const buttonEl =\n",
              "          document.querySelector('#df-44485757-6b04-44ef-95ed-87e40499aa31 button.colab-df-convert');\n",
              "        buttonEl.style.display =\n",
              "          google.colab.kernel.accessAllowed ? 'block' : 'none';\n",
              "\n",
              "        async function convertToInteractive(key) {\n",
              "          const element = document.querySelector('#df-44485757-6b04-44ef-95ed-87e40499aa31');\n",
              "          const dataTable =\n",
              "            await google.colab.kernel.invokeFunction('convertToInteractive',\n",
              "                                                     [key], {});\n",
              "          if (!dataTable) return;\n",
              "\n",
              "          const docLinkHtml = 'Like what you see? Visit the ' +\n",
              "            '<a target=\"_blank\" href=https://colab.research.google.com/notebooks/data_table.ipynb>data table notebook</a>'\n",
              "            + ' to learn more about interactive tables.';\n",
              "          element.innerHTML = '';\n",
              "          dataTable['output_type'] = 'display_data';\n",
              "          await google.colab.output.renderOutput(dataTable, element);\n",
              "          const docLink = document.createElement('div');\n",
              "          docLink.innerHTML = docLinkHtml;\n",
              "          element.appendChild(docLink);\n",
              "        }\n",
              "      </script>\n",
              "    </div>\n",
              "  </div>\n",
              "  "
            ]
          },
          "metadata": {},
          "execution_count": 15
        }
      ]
    },
    {
      "cell_type": "code",
      "source": [
        "train = df[['hs_class', 'text']]\n",
        "base_train = train\n",
        "train.to_csv('train_preprocessed.csv', index = False)\n",
        "train.sample(5)"
      ],
      "metadata": {
        "colab": {
          "base_uri": "https://localhost:8080/",
          "height": 206
        },
        "id": "uNTuHPvglvhA",
        "outputId": "ab882268-5c9c-4809-9935-c1a17bc426a0"
      },
      "execution_count": null,
      "outputs": [
        {
          "output_type": "execute_result",
          "data": {
            "text/plain": [
              "       hs_class                                               text\n",
              "5461   negative  9. impian bersama, impian indonesia kekuatan b...\n",
              "237    negative                                                bro\n",
              "12972  negative  era jokowi tim mawar? era jokowi culik aktivis...\n",
              "9995   negative  ganti presiden 2019? via uniform resource locator\n",
              "8084   negative  gue chat grup biar dimarahi cocot wkwkwk ninid..."
            ],
            "text/html": [
              "\n",
              "  <div id=\"df-0e267ffd-1b5c-48f6-8620-b497d4868f2d\">\n",
              "    <div class=\"colab-df-container\">\n",
              "      <div>\n",
              "<style scoped>\n",
              "    .dataframe tbody tr th:only-of-type {\n",
              "        vertical-align: middle;\n",
              "    }\n",
              "\n",
              "    .dataframe tbody tr th {\n",
              "        vertical-align: top;\n",
              "    }\n",
              "\n",
              "    .dataframe thead th {\n",
              "        text-align: right;\n",
              "    }\n",
              "</style>\n",
              "<table border=\"1\" class=\"dataframe\">\n",
              "  <thead>\n",
              "    <tr style=\"text-align: right;\">\n",
              "      <th></th>\n",
              "      <th>hs_class</th>\n",
              "      <th>text</th>\n",
              "    </tr>\n",
              "  </thead>\n",
              "  <tbody>\n",
              "    <tr>\n",
              "      <th>5461</th>\n",
              "      <td>negative</td>\n",
              "      <td>9. impian bersama, impian indonesia kekuatan b...</td>\n",
              "    </tr>\n",
              "    <tr>\n",
              "      <th>237</th>\n",
              "      <td>negative</td>\n",
              "      <td>bro</td>\n",
              "    </tr>\n",
              "    <tr>\n",
              "      <th>12972</th>\n",
              "      <td>negative</td>\n",
              "      <td>era jokowi tim mawar? era jokowi culik aktivis...</td>\n",
              "    </tr>\n",
              "    <tr>\n",
              "      <th>9995</th>\n",
              "      <td>negative</td>\n",
              "      <td>ganti presiden 2019? via uniform resource locator</td>\n",
              "    </tr>\n",
              "    <tr>\n",
              "      <th>8084</th>\n",
              "      <td>negative</td>\n",
              "      <td>gue chat grup biar dimarahi cocot wkwkwk ninid...</td>\n",
              "    </tr>\n",
              "  </tbody>\n",
              "</table>\n",
              "</div>\n",
              "      <button class=\"colab-df-convert\" onclick=\"convertToInteractive('df-0e267ffd-1b5c-48f6-8620-b497d4868f2d')\"\n",
              "              title=\"Convert this dataframe to an interactive table.\"\n",
              "              style=\"display:none;\">\n",
              "        \n",
              "  <svg xmlns=\"http://www.w3.org/2000/svg\" height=\"24px\"viewBox=\"0 0 24 24\"\n",
              "       width=\"24px\">\n",
              "    <path d=\"M0 0h24v24H0V0z\" fill=\"none\"/>\n",
              "    <path d=\"M18.56 5.44l.94 2.06.94-2.06 2.06-.94-2.06-.94-.94-2.06-.94 2.06-2.06.94zm-11 1L8.5 8.5l.94-2.06 2.06-.94-2.06-.94L8.5 2.5l-.94 2.06-2.06.94zm10 10l.94 2.06.94-2.06 2.06-.94-2.06-.94-.94-2.06-.94 2.06-2.06.94z\"/><path d=\"M17.41 7.96l-1.37-1.37c-.4-.4-.92-.59-1.43-.59-.52 0-1.04.2-1.43.59L10.3 9.45l-7.72 7.72c-.78.78-.78 2.05 0 2.83L4 21.41c.39.39.9.59 1.41.59.51 0 1.02-.2 1.41-.59l7.78-7.78 2.81-2.81c.8-.78.8-2.07 0-2.86zM5.41 20L4 18.59l7.72-7.72 1.47 1.35L5.41 20z\"/>\n",
              "  </svg>\n",
              "      </button>\n",
              "      \n",
              "  <style>\n",
              "    .colab-df-container {\n",
              "      display:flex;\n",
              "      flex-wrap:wrap;\n",
              "      gap: 12px;\n",
              "    }\n",
              "\n",
              "    .colab-df-convert {\n",
              "      background-color: #E8F0FE;\n",
              "      border: none;\n",
              "      border-radius: 50%;\n",
              "      cursor: pointer;\n",
              "      display: none;\n",
              "      fill: #1967D2;\n",
              "      height: 32px;\n",
              "      padding: 0 0 0 0;\n",
              "      width: 32px;\n",
              "    }\n",
              "\n",
              "    .colab-df-convert:hover {\n",
              "      background-color: #E2EBFA;\n",
              "      box-shadow: 0px 1px 2px rgba(60, 64, 67, 0.3), 0px 1px 3px 1px rgba(60, 64, 67, 0.15);\n",
              "      fill: #174EA6;\n",
              "    }\n",
              "\n",
              "    [theme=dark] .colab-df-convert {\n",
              "      background-color: #3B4455;\n",
              "      fill: #D2E3FC;\n",
              "    }\n",
              "\n",
              "    [theme=dark] .colab-df-convert:hover {\n",
              "      background-color: #434B5C;\n",
              "      box-shadow: 0px 1px 3px 1px rgba(0, 0, 0, 0.15);\n",
              "      filter: drop-shadow(0px 1px 2px rgba(0, 0, 0, 0.3));\n",
              "      fill: #FFFFFF;\n",
              "    }\n",
              "  </style>\n",
              "\n",
              "      <script>\n",
              "        const buttonEl =\n",
              "          document.querySelector('#df-0e267ffd-1b5c-48f6-8620-b497d4868f2d button.colab-df-convert');\n",
              "        buttonEl.style.display =\n",
              "          google.colab.kernel.accessAllowed ? 'block' : 'none';\n",
              "\n",
              "        async function convertToInteractive(key) {\n",
              "          const element = document.querySelector('#df-0e267ffd-1b5c-48f6-8620-b497d4868f2d');\n",
              "          const dataTable =\n",
              "            await google.colab.kernel.invokeFunction('convertToInteractive',\n",
              "                                                     [key], {});\n",
              "          if (!dataTable) return;\n",
              "\n",
              "          const docLinkHtml = 'Like what you see? Visit the ' +\n",
              "            '<a target=\"_blank\" href=https://colab.research.google.com/notebooks/data_table.ipynb>data table notebook</a>'\n",
              "            + ' to learn more about interactive tables.';\n",
              "          element.innerHTML = '';\n",
              "          dataTable['output_type'] = 'display_data';\n",
              "          await google.colab.output.renderOutput(dataTable, element);\n",
              "          const docLink = document.createElement('div');\n",
              "          docLink.innerHTML = docLinkHtml;\n",
              "          element.appendChild(docLink);\n",
              "        }\n",
              "      </script>\n",
              "    </div>\n",
              "  </div>\n",
              "  "
            ]
          },
          "metadata": {},
          "execution_count": 16
        }
      ]
    },
    {
      "cell_type": "markdown",
      "source": [
        "## **Analyze**"
      ],
      "metadata": {
        "id": "3qz7M0SCioxu"
      }
    },
    {
      "cell_type": "markdown",
      "source": [
        "### **Univariate Analysis**"
      ],
      "metadata": {
        "id": "nG6tRJUUib4t"
      }
    },
    {
      "cell_type": "markdown",
      "source": [
        "**Mean**\n",
        "\n",
        "Mencari rata-rata dari variabel(kolom) tang tipenya numerical"
      ],
      "metadata": {
        "id": "dUxnGApij506"
      }
    },
    {
      "cell_type": "code",
      "source": [
        "df.mean()"
      ],
      "metadata": {
        "colab": {
          "base_uri": "https://localhost:8080/"
        },
        "id": "lBJVaEtZMsIG",
        "outputId": "3da29e67-f1c9-4e2e-c6b3-79d862215eeb"
      },
      "execution_count": null,
      "outputs": [
        {
          "output_type": "stream",
          "name": "stderr",
          "text": [
            "<ipython-input-17-c61f0c8f89b5>:1: FutureWarning: Dropping of nuisance columns in DataFrame reductions (with 'numeric_only=None') is deprecated; in a future version this will raise TypeError.  Select only valid columns before calling the reduction.\n",
            "  df.mean()\n"
          ]
        },
        {
          "output_type": "execute_result",
          "data": {
            "text/plain": [
              "HS                 0.423030\n",
              "Abusive            0.383701\n",
              "HS_Individual      0.271389\n",
              "HS_Group           0.151641\n",
              "HS_Religion        0.060488\n",
              "HS_Race            0.043162\n",
              "HS_Physical        0.024686\n",
              "HS_Gender          0.023306\n",
              "HS_Other           0.284115\n",
              "HS_Weak            0.256670\n",
              "HS_Moderate        0.130175\n",
              "HS_Strong          0.036185\n",
              "total_char       114.124348\n",
              "total_word        17.264259\n",
              "dtype: float64"
            ]
          },
          "metadata": {},
          "execution_count": 17
        }
      ]
    },
    {
      "cell_type": "markdown",
      "source": [
        "**Median**\n",
        "\n",
        "Mencari nilai tengah dari data numerical yang diurutkan"
      ],
      "metadata": {
        "id": "_BsV7Pf6kJnA"
      }
    },
    {
      "cell_type": "code",
      "source": [
        "df.median()"
      ],
      "metadata": {
        "colab": {
          "base_uri": "https://localhost:8080/"
        },
        "id": "wGlFDneSM8xb",
        "outputId": "0f0a6e3b-7330-4ffa-a977-c12284d18a72"
      },
      "execution_count": null,
      "outputs": [
        {
          "output_type": "stream",
          "name": "stderr",
          "text": [
            "<ipython-input-18-6d467abf240d>:1: FutureWarning: Dropping of nuisance columns in DataFrame reductions (with 'numeric_only=None') is deprecated; in a future version this will raise TypeError.  Select only valid columns before calling the reduction.\n",
            "  df.median()\n"
          ]
        },
        {
          "output_type": "execute_result",
          "data": {
            "text/plain": [
              "HS                 0.0\n",
              "Abusive            0.0\n",
              "HS_Individual      0.0\n",
              "HS_Group           0.0\n",
              "HS_Religion        0.0\n",
              "HS_Race            0.0\n",
              "HS_Physical        0.0\n",
              "HS_Gender          0.0\n",
              "HS_Other           0.0\n",
              "HS_Weak            0.0\n",
              "HS_Moderate        0.0\n",
              "HS_Strong          0.0\n",
              "total_char       100.0\n",
              "total_word        15.0\n",
              "dtype: float64"
            ]
          },
          "metadata": {},
          "execution_count": 18
        }
      ]
    },
    {
      "cell_type": "markdown",
      "source": [
        "**Mode**\n",
        "\n",
        "Mencari frekuensi data yang paling sering muncul"
      ],
      "metadata": {
        "id": "yRPeIsJ2kSA-"
      }
    },
    {
      "cell_type": "code",
      "source": [
        "df['total_char'].mode()"
      ],
      "metadata": {
        "colab": {
          "base_uri": "https://localhost:8080/"
        },
        "id": "bdxpnXG1NBdI",
        "outputId": "ee54185a-1688-48dc-ef98-6ceae751c9e0"
      },
      "execution_count": null,
      "outputs": [
        {
          "output_type": "execute_result",
          "data": {
            "text/plain": [
              "0    254\n",
              "dtype: int64"
            ]
          },
          "metadata": {},
          "execution_count": 19
        }
      ]
    },
    {
      "cell_type": "code",
      "source": [
        "df['total_word'].mode()"
      ],
      "metadata": {
        "colab": {
          "base_uri": "https://localhost:8080/"
        },
        "id": "QxDKSlWBNHBk",
        "outputId": "065e56c8-e99c-49a5-bc03-8d2018806fab"
      },
      "execution_count": null,
      "outputs": [
        {
          "output_type": "execute_result",
          "data": {
            "text/plain": [
              "0    11\n",
              "dtype: int64"
            ]
          },
          "metadata": {},
          "execution_count": 20
        }
      ]
    },
    {
      "cell_type": "markdown",
      "source": [
        "**Range**"
      ],
      "metadata": {
        "id": "jmecSZhrNNyr"
      }
    },
    {
      "cell_type": "markdown",
      "source": [
        "Mencari perbedaan antara nilai terbesar dengan nilai terkecil pada data"
      ],
      "metadata": {
        "id": "DSkWPkeKNa7D"
      }
    },
    {
      "cell_type": "code",
      "source": [
        "range_total_word = df.total_word.max() - df.total_word.min()\n",
        "range_total_word"
      ],
      "metadata": {
        "colab": {
          "base_uri": "https://localhost:8080/"
        },
        "id": "pmQ_fxegNMcO",
        "outputId": "aa6181e7-b57a-4082-ba8f-275caf10401c"
      },
      "execution_count": null,
      "outputs": [
        {
          "output_type": "execute_result",
          "data": {
            "text/plain": [
              "51"
            ]
          },
          "metadata": {},
          "execution_count": 21
        }
      ]
    },
    {
      "cell_type": "code",
      "source": [
        "range_total_char = df.total_char.max() - df.total_char.min()\n",
        "range_total_char"
      ],
      "metadata": {
        "colab": {
          "base_uri": "https://localhost:8080/"
        },
        "id": "1whuoSKjNl7w",
        "outputId": "582e1443-c08c-47ce-a065-88e1d3639672"
      },
      "execution_count": null,
      "outputs": [
        {
          "output_type": "execute_result",
          "data": {
            "text/plain": [
              "557"
            ]
          },
          "metadata": {},
          "execution_count": 22
        }
      ]
    },
    {
      "cell_type": "markdown",
      "source": [
        "**Quartile dan Interquartile Range**"
      ],
      "metadata": {
        "id": "PHcdw_DkNzpv"
      }
    },
    {
      "cell_type": "code",
      "source": [
        "#mencari nilai minimum\n",
        "p0 = df.total_char.min()\n",
        "\n",
        "#mencari nilai maximum\n",
        "p100 = df.total_char.max()\n",
        "\n",
        "# cari Q1\n",
        "q1 = df.total_char.quantile(0.25)\n",
        "\n",
        "#cari Q2\n",
        "q2 = df.total_char.quantile(0.5)\n",
        "\n",
        "#cari Q3\n",
        "q3 = df.total_char.quantile(0.75)\n",
        "\n",
        "#cari IQR\n",
        "iqr = q3-q1\n",
        "\n",
        "#cari batas bawah\n",
        "lower_limit = q1-1.5*iqr\n",
        "\n",
        "#cari batas atas\n",
        "upper_limit = q3+1.5*iqr\n",
        "\n",
        "print(\"Batas Bawah 'total_char' :\", lower_limit)\n",
        "print(\"Nilai minimum\",p0)\n",
        "if lower_limit < p0:\n",
        "  print(\"Tidak ada outlier dari sisi batas bawah\")\n",
        "else:\n",
        "  print(\"Ada outlier dari sisi batas bawah\")\n",
        "\n",
        "print()\n",
        "print(\"Batas Atas 'total_char' :\", upper_limit)\n",
        "print(\"Nilai maksimum\", p100)\n",
        "if upper_limit > p100:\n",
        "  print(\"Tidak ada outlier dari sisi batas atas\")\n",
        "else:\n",
        "  print(\"Ada outlier dari sisi batas atas\")"
      ],
      "metadata": {
        "colab": {
          "base_uri": "https://localhost:8080/"
        },
        "id": "me8yakUANvI4",
        "outputId": "aa0e222a-e2d1-4346-c030-c69b6c0f470b"
      },
      "execution_count": null,
      "outputs": [
        {
          "output_type": "stream",
          "name": "stdout",
          "text": [
            "Batas Bawah 'total_char' : -80.5\n",
            "Nilai minimum 4\n",
            "Tidak ada outlier dari sisi batas bawah\n",
            "\n",
            "Batas Atas 'total_char' : 291.5\n",
            "Nilai maksimum 561\n",
            "Ada outlier dari sisi batas atas\n"
          ]
        }
      ]
    },
    {
      "cell_type": "markdown",
      "source": [
        "**Variance**"
      ],
      "metadata": {
        "id": "lVllU54pP5CV"
      }
    },
    {
      "cell_type": "markdown",
      "source": [
        "Mengukur seberapa jauh jarak data tersebar dari mean-nya. Kalau nilai variance suatu variabel/kolom lebih besar atau lebih kecil dari mean, maka nilai dari variabel/kolom itu menjauhi mean"
      ],
      "metadata": {
        "id": "_IxbpuWEQf78"
      }
    },
    {
      "cell_type": "code",
      "source": [
        "df.var()"
      ],
      "metadata": {
        "colab": {
          "base_uri": "https://localhost:8080/"
        },
        "id": "-a0wYcYYQUxk",
        "outputId": "084af97a-ce15-4aa6-edb1-fa3bb8c8e66c"
      },
      "execution_count": null,
      "outputs": [
        {
          "output_type": "stream",
          "name": "stderr",
          "text": [
            "<ipython-input-24-28ded241fd7c>:1: FutureWarning: Dropping of nuisance columns in DataFrame reductions (with 'numeric_only=None') is deprecated; in a future version this will raise TypeError.  Select only valid columns before calling the reduction.\n",
            "  df.var()\n"
          ]
        },
        {
          "output_type": "execute_result",
          "data": {
            "text/plain": [
              "HS                  0.244094\n",
              "Abusive             0.236493\n",
              "HS_Individual       0.197752\n",
              "HS_Group            0.128656\n",
              "HS_Religion         0.056833\n",
              "HS_Race             0.041302\n",
              "HS_Physical         0.024078\n",
              "HS_Gender           0.022764\n",
              "HS_Other            0.203409\n",
              "HS_Weak             0.190805\n",
              "HS_Moderate         0.113238\n",
              "HS_Strong           0.034879\n",
              "total_char       4775.035061\n",
              "total_word        104.910534\n",
              "dtype: float64"
            ]
          },
          "metadata": {},
          "execution_count": 24
        }
      ]
    },
    {
      "cell_type": "markdown",
      "source": [
        "\n",
        "\n",
        "*   Nilai variance dari total_char sebesar 4775.035, sedangkan nilai mean total_char yaitu 114.124, maka nilai variance lebih dari nilai mean.\n",
        "*   Nilai variance dari total_word sebesar 104.91, sedangkan nilai mean total_word yaitu 17.26, maka nilai variance lebih dari nilai mean.\n",
        "\n"
      ],
      "metadata": {
        "id": "yP3AjzUaRVRK"
      }
    },
    {
      "cell_type": "markdown",
      "source": [
        "**Standard Deviation**"
      ],
      "metadata": {
        "id": "TLMf-PdmRkPs"
      }
    },
    {
      "cell_type": "markdown",
      "source": [
        "Mengukur penyebaran observasi dalam kumpulan data relatif terhadap rata-ratanya"
      ],
      "metadata": {
        "id": "gT8RDxHPRrmN"
      }
    },
    {
      "cell_type": "code",
      "source": [
        "df.std()"
      ],
      "metadata": {
        "colab": {
          "base_uri": "https://localhost:8080/"
        },
        "id": "R5URPiI2RjpT",
        "outputId": "2d87536a-5c99-4885-8b7c-7a8b5d9718b4"
      },
      "execution_count": null,
      "outputs": [
        {
          "output_type": "stream",
          "name": "stderr",
          "text": [
            "<ipython-input-25-ce97bb7eaef8>:1: FutureWarning: Dropping of nuisance columns in DataFrame reductions (with 'numeric_only=None') is deprecated; in a future version this will raise TypeError.  Select only valid columns before calling the reduction.\n",
            "  df.std()\n"
          ]
        },
        {
          "output_type": "execute_result",
          "data": {
            "text/plain": [
              "HS                0.494059\n",
              "Abusive           0.486305\n",
              "HS_Individual     0.444693\n",
              "HS_Group          0.358686\n",
              "HS_Religion       0.238397\n",
              "HS_Race           0.203229\n",
              "HS_Physical       0.155171\n",
              "HS_Gender         0.150879\n",
              "HS_Other          0.451009\n",
              "HS_Weak           0.436812\n",
              "HS_Moderate       0.336509\n",
              "HS_Strong         0.186758\n",
              "total_char       69.101629\n",
              "total_word       10.242584\n",
              "dtype: float64"
            ]
          },
          "metadata": {},
          "execution_count": 25
        }
      ]
    },
    {
      "cell_type": "markdown",
      "source": [
        "\n",
        "\n",
        "*   Nilai standard deviation dari total_char sebesar 69.10, dan nilai mean total_char sebesar 114.12\n",
        "*   Nilai standard deviation dari total_word sebesar 10.24, dan nilai mean total_word sebesar 17.26\n",
        "\n"
      ],
      "metadata": {
        "id": "Mrp8KmtvR9FN"
      }
    },
    {
      "cell_type": "markdown",
      "source": [
        "**Skewness**"
      ],
      "metadata": {
        "id": "ydlkqttmTHOH"
      }
    },
    {
      "cell_type": "code",
      "source": [
        "df.skew()"
      ],
      "metadata": {
        "colab": {
          "base_uri": "https://localhost:8080/"
        },
        "id": "ErFdMlpgSvim",
        "outputId": "d1eb5de6-3cce-42eb-8acf-93dbbcb6dc12"
      },
      "execution_count": null,
      "outputs": [
        {
          "output_type": "stream",
          "name": "stderr",
          "text": [
            "<ipython-input-26-9e0b1e29546f>:1: FutureWarning: Dropping of nuisance columns in DataFrame reductions (with 'numeric_only=None') is deprecated; in a future version this will raise TypeError.  Select only valid columns before calling the reduction.\n",
            "  df.skew()\n"
          ]
        },
        {
          "output_type": "execute_result",
          "data": {
            "text/plain": [
              "HS               0.311631\n",
              "Abusive          0.478368\n",
              "HS_Individual    1.028331\n",
              "HS_Group         1.942718\n",
              "HS_Religion      3.687795\n",
              "HS_Race          4.496498\n",
              "HS_Physical      6.127256\n",
              "HS_Gender        6.319885\n",
              "HS_Other         0.957487\n",
              "HS_Weak          1.114289\n",
              "HS_Moderate      2.198351\n",
              "HS_Strong        4.967777\n",
              "total_char       0.693647\n",
              "total_word       0.789820\n",
              "dtype: float64"
            ]
          },
          "metadata": {},
          "execution_count": 26
        }
      ]
    },
    {
      "cell_type": "markdown",
      "source": [
        "Nilai skewness di total_char yaitu 0.69 dan total_word yaitu 0.78, yang berarti nilai skewness kedua variabel/kolom lebih dari 0, sehingga bernilai positif"
      ],
      "metadata": {
        "id": "YJiTmaf5TJkH"
      }
    },
    {
      "cell_type": "markdown",
      "source": [
        "**Kurtosis**"
      ],
      "metadata": {
        "id": "GwAWdrg2Tm44"
      }
    },
    {
      "cell_type": "code",
      "source": [
        "df.kurtosis()"
      ],
      "metadata": {
        "colab": {
          "base_uri": "https://localhost:8080/"
        },
        "id": "gLh5z47cS5wx",
        "outputId": "323bee0a-209a-41ac-bb68-f812cf2a0240"
      },
      "execution_count": null,
      "outputs": [
        {
          "output_type": "stream",
          "name": "stderr",
          "text": [
            "<ipython-input-27-c7edf97eb14c>:1: FutureWarning: Dropping of nuisance columns in DataFrame reductions (with 'numeric_only=None') is deprecated; in a future version this will raise TypeError.  Select only valid columns before calling the reduction.\n",
            "  df.kurtosis()\n"
          ]
        },
        {
          "output_type": "execute_result",
          "data": {
            "text/plain": [
              "HS               -1.903178\n",
              "Abusive          -1.771435\n",
              "HS_Individual    -0.942681\n",
              "HS_Group          1.774426\n",
              "HS_Religion      11.601608\n",
              "HS_Race          18.221291\n",
              "HS_Physical      35.548712\n",
              "HS_Gender        37.946761\n",
              "HS_Other         -1.083385\n",
              "HS_Weak          -0.758476\n",
              "HS_Moderate       2.833181\n",
              "HS_Strong        22.682291\n",
              "total_char       -0.402291\n",
              "total_word       -0.151707\n",
              "dtype: float64"
            ]
          },
          "metadata": {},
          "execution_count": 27
        }
      ]
    },
    {
      "cell_type": "markdown",
      "source": [
        "Nilai kurtosis total_char yaitu -0.4 dan total_word yaitu -0.15 yang bernilai kurang dari 3. Sehingga bersifat playkurtik yaitu cenderung menghasilkan lebih sedikit nilai outlier"
      ],
      "metadata": {
        "id": "uoyIN7dhTqZK"
      }
    },
    {
      "cell_type": "markdown",
      "source": [
        "**Pie Chart**"
      ],
      "metadata": {
        "id": "RO14BNg2oD5V"
      }
    },
    {
      "cell_type": "code",
      "source": [
        "df.groupby('hs_class').hs_class.count().plot(kind='pie',autopct='%1.0f%%')"
      ],
      "metadata": {
        "colab": {
          "base_uri": "https://localhost:8080/",
          "height": 265
        },
        "id": "7aAMEgaClvrB",
        "outputId": "91c0f543-248a-4a5a-96f3-93f50b43ca6c"
      },
      "execution_count": null,
      "outputs": [
        {
          "output_type": "execute_result",
          "data": {
            "text/plain": [
              "<matplotlib.axes._subplots.AxesSubplot at 0x7f3f91c2f8e0>"
            ]
          },
          "metadata": {},
          "execution_count": 28
        },
        {
          "output_type": "display_data",
          "data": {
            "text/plain": [
              "<Figure size 432x288 with 1 Axes>"
            ],
            "image/png": "[encoded data removed]"
          },
          "metadata": {}
        }
      ]
    },
    {
      "cell_type": "code",
      "source": [
        "from google.colab import drive\n",
        "drive.mount('/content/drive')"
      ],
      "metadata": {
        "id": "m-AckcZEHBVF"
      },
      "execution_count": null,
      "outputs": []
    },
    {
      "cell_type": "markdown",
      "source": [
        "Dari pie chart bisa disimpulkan lebih banyak sentimen negatif"
      ],
      "metadata": {
        "id": "hycuxll_n5z-"
      }
    },
    {
      "cell_type": "markdown",
      "source": [
        "**Histogram**"
      ],
      "metadata": {
        "id": "Gmd-t5_4oHTG"
      }
    },
    {
      "cell_type": "code",
      "source": [
        "df.total_char.hist()"
      ],
      "metadata": {
        "colab": {
          "base_uri": "https://localhost:8080/",
          "height": 282
        },
        "id": "RQrmU6gAV4wF",
        "outputId": "25b6daec-4469-4294-94e8-56b6608f8ff4"
      },
      "execution_count": null,
      "outputs": [
        {
          "output_type": "execute_result",
          "data": {
            "text/plain": [
              "<matplotlib.axes._subplots.AxesSubplot at 0x7f37807c1760>"
            ]
          },
          "metadata": {},
          "execution_count": 32
        },
        {
          "output_type": "display_data",
          "data": {
            "text/plain": [
              "<Figure size 432x288 with 1 Axes>"
            ],
            "image/png": "[encoded data removed]"
          },
          "metadata": {
            "needs_background": "light"
          }
        }
      ]
    },
    {
      "cell_type": "markdown",
      "source": [
        "Rata-rata panjang karakter dari text adalah sekitar 60-110 karakter"
      ],
      "metadata": {
        "id": "-_RmtNaEoNLX"
      }
    },
    {
      "cell_type": "code",
      "source": [
        "df.total_word.hist()"
      ],
      "metadata": {
        "colab": {
          "base_uri": "https://localhost:8080/",
          "height": 282
        },
        "id": "3kIcTUzKV9IK",
        "outputId": "9fff660e-4c8a-4722-bae3-8f8d546584b7"
      },
      "execution_count": null,
      "outputs": [
        {
          "output_type": "execute_result",
          "data": {
            "text/plain": [
              "<matplotlib.axes._subplots.AxesSubplot at 0x7f37807186d0>"
            ]
          },
          "metadata": {},
          "execution_count": 33
        },
        {
          "output_type": "display_data",
          "data": {
            "text/plain": [
              "<Figure size 432x288 with 1 Axes>"
            ],
            "image/png": "[encoded data removed]"
          },
          "metadata": {
            "needs_background": "light"
          }
        }
      ]
    },
    {
      "cell_type": "markdown",
      "source": [
        "Rata-rata panjang kata dari text adalah sekitar 8-17 kata"
      ],
      "metadata": {
        "id": "B9x_lvmtov92"
      }
    },
    {
      "cell_type": "code",
      "source": [
        "df_negative = df.loc[df['hs_class'] == 'negative']\n",
        "df_negative.total_char.hist()"
      ],
      "metadata": {
        "colab": {
          "base_uri": "https://localhost:8080/",
          "height": 282
        },
        "id": "ZINzlz7Ko9m1",
        "outputId": "c88dfadf-17d8-42be-a0dc-1889ec38db18"
      },
      "execution_count": null,
      "outputs": [
        {
          "output_type": "execute_result",
          "data": {
            "text/plain": [
              "<matplotlib.axes._subplots.AxesSubplot at 0x7fa6fb6a8e50>"
            ]
          },
          "metadata": {},
          "execution_count": 39
        },
        {
          "output_type": "display_data",
          "data": {
            "text/plain": [
              "<Figure size 432x288 with 1 Axes>"
            ],
            "image/png": "[encoded data removed]"
          },
          "metadata": {
            "needs_background": "light"
          }
        }
      ]
    },
    {
      "cell_type": "markdown",
      "source": [
        "Pada sentimen negatif, panjang karakternya sekitar 10-110 karakter"
      ],
      "metadata": {
        "id": "A2tj17A-pY5a"
      }
    },
    {
      "cell_type": "code",
      "source": [
        "df_negative = df.loc[df['hs_class'] == 'negative']\n",
        "df_negative.total_word.hist()"
      ],
      "metadata": {
        "colab": {
          "base_uri": "https://localhost:8080/",
          "height": 282
        },
        "id": "DSPkbUcbpZgi",
        "outputId": "05c97c9d-fb88-4ffe-f4a7-a72f431a09e2"
      },
      "execution_count": null,
      "outputs": [
        {
          "output_type": "execute_result",
          "data": {
            "text/plain": [
              "<matplotlib.axes._subplots.AxesSubplot at 0x7fa6fb5d1ac0>"
            ]
          },
          "metadata": {},
          "execution_count": 40
        },
        {
          "output_type": "display_data",
          "data": {
            "text/plain": [
              "<Figure size 432x288 with 1 Axes>"
            ],
            "image/png": "[encoded data removed]"
          },
          "metadata": {
            "needs_background": "light"
          }
        }
      ]
    },
    {
      "cell_type": "markdown",
      "source": [
        "Pada sentimen negatif, panjang katanya sekitar 6-20 kata"
      ],
      "metadata": {
        "id": "qFx00TA-phb6"
      }
    },
    {
      "cell_type": "code",
      "source": [
        "df_positive = df.loc[df['hs_class'] == 'positive']\n",
        "df_positive.total_char.hist()"
      ],
      "metadata": {
        "colab": {
          "base_uri": "https://localhost:8080/",
          "height": 282
        },
        "id": "qK-ksiHcphtu",
        "outputId": "b85f2f5c-dac0-4084-8965-7269c08a4eb8"
      },
      "execution_count": null,
      "outputs": [
        {
          "output_type": "execute_result",
          "data": {
            "text/plain": [
              "<matplotlib.axes._subplots.AxesSubplot at 0x7fa6fb1e6190>"
            ]
          },
          "metadata": {},
          "execution_count": 44
        },
        {
          "output_type": "display_data",
          "data": {
            "text/plain": [
              "<Figure size 432x288 with 1 Axes>"
            ],
            "image/png": "[encoded data removed]"
          },
          "metadata": {
            "needs_background": "light"
          }
        }
      ]
    },
    {
      "cell_type": "markdown",
      "source": [
        "Panjang karakter pada sentimen positif sekitar 30-120 karakter"
      ],
      "metadata": {
        "id": "VdxqYcdWpmdU"
      }
    },
    {
      "cell_type": "code",
      "source": [
        "df_positive = df.loc[df['hs_class'] == 'positive']\n",
        "df_positive.total_word.hist()"
      ],
      "metadata": {
        "colab": {
          "base_uri": "https://localhost:8080/",
          "height": 282
        },
        "id": "gUlkWYeZpmp5",
        "outputId": "1088bc1c-6bcb-483b-97e8-6e57ce408298"
      },
      "execution_count": null,
      "outputs": [
        {
          "output_type": "execute_result",
          "data": {
            "text/plain": [
              "<matplotlib.axes._subplots.AxesSubplot at 0x7fa6fb156460>"
            ]
          },
          "metadata": {},
          "execution_count": 45
        },
        {
          "output_type": "display_data",
          "data": {
            "text/plain": [
              "<Figure size 432x288 with 1 Axes>"
            ],
            "image/png": "[encoded data removed]"
          },
          "metadata": {
            "needs_background": "light"
          }
        }
      ]
    },
    {
      "cell_type": "markdown",
      "source": [
        "Panjang kata pada sentimen positif sekitar 6-21 kata"
      ],
      "metadata": {
        "id": "2nZ0GLgxquls"
      }
    },
    {
      "cell_type": "markdown",
      "source": [
        "**Wordcloud**"
      ],
      "metadata": {
        "id": "23_tLZQXq4Sx"
      }
    },
    {
      "cell_type": "code",
      "source": [
        "text = ' '.join(df['text'])\n",
        "wordcloud = WordCloud().generate(text)\n",
        "\n",
        "#Generate plot\n",
        "plt.imshow(wordcloud)\n",
        "plt.axis(\"off\")\n",
        "plt.show"
      ],
      "metadata": {
        "colab": {
          "base_uri": "https://localhost:8080/",
          "height": 215
        },
        "id": "TqmgzC07YRg1",
        "outputId": "3071ddd2-4255-439a-db48-eb699f7d9143"
      },
      "execution_count": null,
      "outputs": [
        {
          "output_type": "execute_result",
          "data": {
            "text/plain": [
              "<function matplotlib.pyplot.show(*args, **kw)>"
            ]
          },
          "metadata": {},
          "execution_count": 40
        },
        {
          "output_type": "display_data",
          "data": {
            "text/plain": [
              "<Figure size 432x288 with 1 Axes>"
            ],
            "image/png": "[encoded data removed]"
          },
          "metadata": {
            "needs_background": "light"
          }
        }
      ]
    },
    {
      "cell_type": "markdown",
      "source": [
        "### **Bivariate Analysis**"
      ],
      "metadata": {
        "id": "8Dv1XVinrB9d"
      }
    },
    {
      "cell_type": "markdown",
      "source": [
        "**Pearson Correlation**"
      ],
      "metadata": {
        "id": "1OqtmIThaln9"
      }
    },
    {
      "cell_type": "code",
      "source": [
        "df.corr()"
      ],
      "metadata": {
        "colab": {
          "base_uri": "https://localhost:8080/",
          "height": 552
        },
        "id": "R5371cL7Z6j4",
        "outputId": "a765a21e-d4da-472f-a938-8c7491e25be0"
      },
      "execution_count": null,
      "outputs": [
        {
          "output_type": "execute_result",
          "data": {
            "text/plain": [
              "                     HS   Abusive  HS_Individual  HS_Group  HS_Religion  \\\n",
              "HS             1.000000  0.365292       0.712754  0.493752     0.296328   \n",
              "Abusive        0.365292  1.000000       0.286353  0.148142     0.069610   \n",
              "HS_Individual  0.712754  0.286353       1.000000 -0.258028     0.033899   \n",
              "HS_Group       0.493752  0.148142      -0.258028  1.000000     0.366139   \n",
              "HS_Religion    0.296328  0.069610       0.033899  0.366139     1.000000   \n",
              "HS_Race        0.248039 -0.028722      -0.000672  0.342486     0.094862   \n",
              "HS_Physical    0.185798  0.196547       0.214011 -0.009406    -0.003061   \n",
              "HS_Gender      0.180403  0.187413       0.183402  0.021111     0.024751   \n",
              "HS_Other       0.735728  0.261476       0.636195  0.224657    -0.159848   \n",
              "HS_Weak        0.686258  0.310169       0.962826 -0.248436     0.033490   \n",
              "HS_Moderate    0.451792  0.188095      -0.236100  0.915018     0.345290   \n",
              "HS_Strong      0.226287 -0.098015       0.058995  0.238550     0.083432   \n",
              "total_char    -0.148112 -0.211936      -0.140442 -0.029893    -0.004901   \n",
              "total_word    -0.128527 -0.193352      -0.119116 -0.029356     0.004380   \n",
              "\n",
              "                HS_Race  HS_Physical  HS_Gender  HS_Other   HS_Weak  \\\n",
              "HS             0.248039     0.185798   0.180403  0.735728  0.686258   \n",
              "Abusive       -0.028722     0.196547   0.187413  0.261476  0.310169   \n",
              "HS_Individual -0.000672     0.214011   0.183402  0.636195  0.962826   \n",
              "HS_Group       0.342486    -0.009406   0.021111  0.224657 -0.248436   \n",
              "HS_Religion    0.094862    -0.003061   0.024751 -0.159848  0.033490   \n",
              "HS_Race        1.000000    -0.028927  -0.020306 -0.133800 -0.007345   \n",
              "HS_Physical   -0.028927     1.000000   0.054019 -0.100225  0.220971   \n",
              "HS_Gender     -0.020306     0.054019   1.000000 -0.097315  0.190753   \n",
              "HS_Other      -0.133800    -0.100225  -0.097315  1.000000  0.605078   \n",
              "HS_Weak       -0.007345     0.220971   0.190753  0.605078  1.000000   \n",
              "HS_Moderate    0.238469     0.000123   0.027826  0.225597 -0.227323   \n",
              "HS_Strong      0.243672    -0.025535  -0.019047  0.124610 -0.113858   \n",
              "total_char    -0.056811    -0.043631  -0.025737 -0.109286 -0.131338   \n",
              "total_word    -0.048205    -0.035267  -0.018621 -0.101147 -0.108383   \n",
              "\n",
              "               HS_Moderate  HS_Strong  total_char  total_word  \n",
              "HS                0.451792   0.226287   -0.148112   -0.128527  \n",
              "Abusive           0.188095  -0.098015   -0.211936   -0.193352  \n",
              "HS_Individual    -0.236100   0.058995   -0.140442   -0.119116  \n",
              "HS_Group          0.915018   0.238550   -0.029893   -0.029356  \n",
              "HS_Religion       0.345290   0.083432   -0.004901    0.004380  \n",
              "HS_Race           0.238469   0.243672   -0.056811   -0.048205  \n",
              "HS_Physical       0.000123  -0.025535   -0.043631   -0.035267  \n",
              "HS_Gender         0.027826  -0.019047   -0.025737   -0.018621  \n",
              "HS_Other          0.225597   0.124610   -0.109286   -0.101147  \n",
              "HS_Weak          -0.227323  -0.113858   -0.131338   -0.108383  \n",
              "HS_Moderate       1.000000  -0.074958   -0.004277   -0.006556  \n",
              "HS_Strong        -0.074958   1.000000   -0.076927   -0.074699  \n",
              "total_char       -0.004277  -0.076927    1.000000    0.955358  \n",
              "total_word       -0.006556  -0.074699    0.955358    1.000000  "
            ],
            "text/html": [
              "\n",
              "  <div id=\"df-65a01282-9488-4442-a5e5-80a0d2e2d188\">\n",
              "    <div class=\"colab-df-container\">\n",
              "      <div>\n",
              "<style scoped>\n",
              "    .dataframe tbody tr th:only-of-type {\n",
              "        vertical-align: middle;\n",
              "    }\n",
              "\n",
              "    .dataframe tbody tr th {\n",
              "        vertical-align: top;\n",
              "    }\n",
              "\n",
              "    .dataframe thead th {\n",
              "        text-align: right;\n",
              "    }\n",
              "</style>\n",
              "<table border=\"1\" class=\"dataframe\">\n",
              "  <thead>\n",
              "    <tr style=\"text-align: right;\">\n",
              "      <th></th>\n",
              "      <th>HS</th>\n",
              "      <th>Abusive</th>\n",
              "      <th>HS_Individual</th>\n",
              "      <th>HS_Group</th>\n",
              "      <th>HS_Religion</th>\n",
              "      <th>HS_Race</th>\n",
              "      <th>HS_Physical</th>\n",
              "      <th>HS_Gender</th>\n",
              "      <th>HS_Other</th>\n",
              "      <th>HS_Weak</th>\n",
              "      <th>HS_Moderate</th>\n",
              "      <th>HS_Strong</th>\n",
              "      <th>total_char</th>\n",
              "      <th>total_word</th>\n",
              "    </tr>\n",
              "  </thead>\n",
              "  <tbody>\n",
              "    <tr>\n",
              "      <th>HS</th>\n",
              "      <td>1.000000</td>\n",
              "      <td>0.365292</td>\n",
              "      <td>0.712754</td>\n",
              "      <td>0.493752</td>\n",
              "      <td>0.296328</td>\n",
              "      <td>0.248039</td>\n",
              "      <td>0.185798</td>\n",
              "      <td>0.180403</td>\n",
              "      <td>0.735728</td>\n",
              "      <td>0.686258</td>\n",
              "      <td>0.451792</td>\n",
              "      <td>0.226287</td>\n",
              "      <td>-0.148112</td>\n",
              "      <td>-0.128527</td>\n",
              "    </tr>\n",
              "    <tr>\n",
              "      <th>Abusive</th>\n",
              "      <td>0.365292</td>\n",
              "      <td>1.000000</td>\n",
              "      <td>0.286353</td>\n",
              "      <td>0.148142</td>\n",
              "      <td>0.069610</td>\n",
              "      <td>-0.028722</td>\n",
              "      <td>0.196547</td>\n",
              "      <td>0.187413</td>\n",
              "      <td>0.261476</td>\n",
              "      <td>0.310169</td>\n",
              "      <td>0.188095</td>\n",
              "      <td>-0.098015</td>\n",
              "      <td>-0.211936</td>\n",
              "      <td>-0.193352</td>\n",
              "    </tr>\n",
              "    <tr>\n",
              "      <th>HS_Individual</th>\n",
              "      <td>0.712754</td>\n",
              "      <td>0.286353</td>\n",
              "      <td>1.000000</td>\n",
              "      <td>-0.258028</td>\n",
              "      <td>0.033899</td>\n",
              "      <td>-0.000672</td>\n",
              "      <td>0.214011</td>\n",
              "      <td>0.183402</td>\n",
              "      <td>0.636195</td>\n",
              "      <td>0.962826</td>\n",
              "      <td>-0.236100</td>\n",
              "      <td>0.058995</td>\n",
              "      <td>-0.140442</td>\n",
              "      <td>-0.119116</td>\n",
              "    </tr>\n",
              "    <tr>\n",
              "      <th>HS_Group</th>\n",
              "      <td>0.493752</td>\n",
              "      <td>0.148142</td>\n",
              "      <td>-0.258028</td>\n",
              "      <td>1.000000</td>\n",
              "      <td>0.366139</td>\n",
              "      <td>0.342486</td>\n",
              "      <td>-0.009406</td>\n",
              "      <td>0.021111</td>\n",
              "      <td>0.224657</td>\n",
              "      <td>-0.248436</td>\n",
              "      <td>0.915018</td>\n",
              "      <td>0.238550</td>\n",
              "      <td>-0.029893</td>\n",
              "      <td>-0.029356</td>\n",
              "    </tr>\n",
              "    <tr>\n",
              "      <th>HS_Religion</th>\n",
              "      <td>0.296328</td>\n",
              "      <td>0.069610</td>\n",
              "      <td>0.033899</td>\n",
              "      <td>0.366139</td>\n",
              "      <td>1.000000</td>\n",
              "      <td>0.094862</td>\n",
              "      <td>-0.003061</td>\n",
              "      <td>0.024751</td>\n",
              "      <td>-0.159848</td>\n",
              "      <td>0.033490</td>\n",
              "      <td>0.345290</td>\n",
              "      <td>0.083432</td>\n",
              "      <td>-0.004901</td>\n",
              "      <td>0.004380</td>\n",
              "    </tr>\n",
              "    <tr>\n",
              "      <th>HS_Race</th>\n",
              "      <td>0.248039</td>\n",
              "      <td>-0.028722</td>\n",
              "      <td>-0.000672</td>\n",
              "      <td>0.342486</td>\n",
              "      <td>0.094862</td>\n",
              "      <td>1.000000</td>\n",
              "      <td>-0.028927</td>\n",
              "      <td>-0.020306</td>\n",
              "      <td>-0.133800</td>\n",
              "      <td>-0.007345</td>\n",
              "      <td>0.238469</td>\n",
              "      <td>0.243672</td>\n",
              "      <td>-0.056811</td>\n",
              "      <td>-0.048205</td>\n",
              "    </tr>\n",
              "    <tr>\n",
              "      <th>HS_Physical</th>\n",
              "      <td>0.185798</td>\n",
              "      <td>0.196547</td>\n",
              "      <td>0.214011</td>\n",
              "      <td>-0.009406</td>\n",
              "      <td>-0.003061</td>\n",
              "      <td>-0.028927</td>\n",
              "      <td>1.000000</td>\n",
              "      <td>0.054019</td>\n",
              "      <td>-0.100225</td>\n",
              "      <td>0.220971</td>\n",
              "      <td>0.000123</td>\n",
              "      <td>-0.025535</td>\n",
              "      <td>-0.043631</td>\n",
              "      <td>-0.035267</td>\n",
              "    </tr>\n",
              "    <tr>\n",
              "      <th>HS_Gender</th>\n",
              "      <td>0.180403</td>\n",
              "      <td>0.187413</td>\n",
              "      <td>0.183402</td>\n",
              "      <td>0.021111</td>\n",
              "      <td>0.024751</td>\n",
              "      <td>-0.020306</td>\n",
              "      <td>0.054019</td>\n",
              "      <td>1.000000</td>\n",
              "      <td>-0.097315</td>\n",
              "      <td>0.190753</td>\n",
              "      <td>0.027826</td>\n",
              "      <td>-0.019047</td>\n",
              "      <td>-0.025737</td>\n",
              "      <td>-0.018621</td>\n",
              "    </tr>\n",
              "    <tr>\n",
              "      <th>HS_Other</th>\n",
              "      <td>0.735728</td>\n",
              "      <td>0.261476</td>\n",
              "      <td>0.636195</td>\n",
              "      <td>0.224657</td>\n",
              "      <td>-0.159848</td>\n",
              "      <td>-0.133800</td>\n",
              "      <td>-0.100225</td>\n",
              "      <td>-0.097315</td>\n",
              "      <td>1.000000</td>\n",
              "      <td>0.605078</td>\n",
              "      <td>0.225597</td>\n",
              "      <td>0.124610</td>\n",
              "      <td>-0.109286</td>\n",
              "      <td>-0.101147</td>\n",
              "    </tr>\n",
              "    <tr>\n",
              "      <th>HS_Weak</th>\n",
              "      <td>0.686258</td>\n",
              "      <td>0.310169</td>\n",
              "      <td>0.962826</td>\n",
              "      <td>-0.248436</td>\n",
              "      <td>0.033490</td>\n",
              "      <td>-0.007345</td>\n",
              "      <td>0.220971</td>\n",
              "      <td>0.190753</td>\n",
              "      <td>0.605078</td>\n",
              "      <td>1.000000</td>\n",
              "      <td>-0.227323</td>\n",
              "      <td>-0.113858</td>\n",
              "      <td>-0.131338</td>\n",
              "      <td>-0.108383</td>\n",
              "    </tr>\n",
              "    <tr>\n",
              "      <th>HS_Moderate</th>\n",
              "      <td>0.451792</td>\n",
              "      <td>0.188095</td>\n",
              "      <td>-0.236100</td>\n",
              "      <td>0.915018</td>\n",
              "      <td>0.345290</td>\n",
              "      <td>0.238469</td>\n",
              "      <td>0.000123</td>\n",
              "      <td>0.027826</td>\n",
              "      <td>0.225597</td>\n",
              "      <td>-0.227323</td>\n",
              "      <td>1.000000</td>\n",
              "      <td>-0.074958</td>\n",
              "      <td>-0.004277</td>\n",
              "      <td>-0.006556</td>\n",
              "    </tr>\n",
              "    <tr>\n",
              "      <th>HS_Strong</th>\n",
              "      <td>0.226287</td>\n",
              "      <td>-0.098015</td>\n",
              "      <td>0.058995</td>\n",
              "      <td>0.238550</td>\n",
              "      <td>0.083432</td>\n",
              "      <td>0.243672</td>\n",
              "      <td>-0.025535</td>\n",
              "      <td>-0.019047</td>\n",
              "      <td>0.124610</td>\n",
              "      <td>-0.113858</td>\n",
              "      <td>-0.074958</td>\n",
              "      <td>1.000000</td>\n",
              "      <td>-0.076927</td>\n",
              "      <td>-0.074699</td>\n",
              "    </tr>\n",
              "    <tr>\n",
              "      <th>total_char</th>\n",
              "      <td>-0.148112</td>\n",
              "      <td>-0.211936</td>\n",
              "      <td>-0.140442</td>\n",
              "      <td>-0.029893</td>\n",
              "      <td>-0.004901</td>\n",
              "      <td>-0.056811</td>\n",
              "      <td>-0.043631</td>\n",
              "      <td>-0.025737</td>\n",
              "      <td>-0.109286</td>\n",
              "      <td>-0.131338</td>\n",
              "      <td>-0.004277</td>\n",
              "      <td>-0.076927</td>\n",
              "      <td>1.000000</td>\n",
              "      <td>0.955358</td>\n",
              "    </tr>\n",
              "    <tr>\n",
              "      <th>total_word</th>\n",
              "      <td>-0.128527</td>\n",
              "      <td>-0.193352</td>\n",
              "      <td>-0.119116</td>\n",
              "      <td>-0.029356</td>\n",
              "      <td>0.004380</td>\n",
              "      <td>-0.048205</td>\n",
              "      <td>-0.035267</td>\n",
              "      <td>-0.018621</td>\n",
              "      <td>-0.101147</td>\n",
              "      <td>-0.108383</td>\n",
              "      <td>-0.006556</td>\n",
              "      <td>-0.074699</td>\n",
              "      <td>0.955358</td>\n",
              "      <td>1.000000</td>\n",
              "    </tr>\n",
              "  </tbody>\n",
              "</table>\n",
              "</div>\n",
              "      <button class=\"colab-df-convert\" onclick=\"convertToInteractive('df-65a01282-9488-4442-a5e5-80a0d2e2d188')\"\n",
              "              title=\"Convert this dataframe to an interactive table.\"\n",
              "              style=\"display:none;\">\n",
              "        \n",
              "  <svg xmlns=\"http://www.w3.org/2000/svg\" height=\"24px\"viewBox=\"0 0 24 24\"\n",
              "       width=\"24px\">\n",
              "    <path d=\"M0 0h24v24H0V0z\" fill=\"none\"/>\n",
              "    <path d=\"M18.56 5.44l.94 2.06.94-2.06 2.06-.94-2.06-.94-.94-2.06-.94 2.06-2.06.94zm-11 1L8.5 8.5l.94-2.06 2.06-.94-2.06-.94L8.5 2.5l-.94 2.06-2.06.94zm10 10l.94 2.06.94-2.06 2.06-.94-2.06-.94-.94-2.06-.94 2.06-2.06.94z\"/><path d=\"M17.41 7.96l-1.37-1.37c-.4-.4-.92-.59-1.43-.59-.52 0-1.04.2-1.43.59L10.3 9.45l-7.72 7.72c-.78.78-.78 2.05 0 2.83L4 21.41c.39.39.9.59 1.41.59.51 0 1.02-.2 1.41-.59l7.78-7.78 2.81-2.81c.8-.78.8-2.07 0-2.86zM5.41 20L4 18.59l7.72-7.72 1.47 1.35L5.41 20z\"/>\n",
              "  </svg>\n",
              "      </button>\n",
              "      \n",
              "  <style>\n",
              "    .colab-df-container {\n",
              "      display:flex;\n",
              "      flex-wrap:wrap;\n",
              "      gap: 12px;\n",
              "    }\n",
              "\n",
              "    .colab-df-convert {\n",
              "      background-color: #E8F0FE;\n",
              "      border: none;\n",
              "      border-radius: 50%;\n",
              "      cursor: pointer;\n",
              "      display: none;\n",
              "      fill: #1967D2;\n",
              "      height: 32px;\n",
              "      padding: 0 0 0 0;\n",
              "      width: 32px;\n",
              "    }\n",
              "\n",
              "    .colab-df-convert:hover {\n",
              "      background-color: #E2EBFA;\n",
              "      box-shadow: 0px 1px 2px rgba(60, 64, 67, 0.3), 0px 1px 3px 1px rgba(60, 64, 67, 0.15);\n",
              "      fill: #174EA6;\n",
              "    }\n",
              "\n",
              "    [theme=dark] .colab-df-convert {\n",
              "      background-color: #3B4455;\n",
              "      fill: #D2E3FC;\n",
              "    }\n",
              "\n",
              "    [theme=dark] .colab-df-convert:hover {\n",
              "      background-color: #434B5C;\n",
              "      box-shadow: 0px 1px 3px 1px rgba(0, 0, 0, 0.15);\n",
              "      filter: drop-shadow(0px 1px 2px rgba(0, 0, 0, 0.3));\n",
              "      fill: #FFFFFF;\n",
              "    }\n",
              "  </style>\n",
              "\n",
              "      <script>\n",
              "        const buttonEl =\n",
              "          document.querySelector('#df-65a01282-9488-4442-a5e5-80a0d2e2d188 button.colab-df-convert');\n",
              "        buttonEl.style.display =\n",
              "          google.colab.kernel.accessAllowed ? 'block' : 'none';\n",
              "\n",
              "        async function convertToInteractive(key) {\n",
              "          const element = document.querySelector('#df-65a01282-9488-4442-a5e5-80a0d2e2d188');\n",
              "          const dataTable =\n",
              "            await google.colab.kernel.invokeFunction('convertToInteractive',\n",
              "                                                     [key], {});\n",
              "          if (!dataTable) return;\n",
              "\n",
              "          const docLinkHtml = 'Like what you see? Visit the ' +\n",
              "            '<a target=\"_blank\" href=https://colab.research.google.com/notebooks/data_table.ipynb>data table notebook</a>'\n",
              "            + ' to learn more about interactive tables.';\n",
              "          element.innerHTML = '';\n",
              "          dataTable['output_type'] = 'display_data';\n",
              "          await google.colab.output.renderOutput(dataTable, element);\n",
              "          const docLink = document.createElement('div');\n",
              "          docLink.innerHTML = docLinkHtml;\n",
              "          element.appendChild(docLink);\n",
              "        }\n",
              "      </script>\n",
              "    </div>\n",
              "  </div>\n",
              "  "
            ]
          },
          "metadata": {},
          "execution_count": 44
        }
      ]
    },
    {
      "cell_type": "markdown",
      "source": [
        "total_char memiliki nilai 1 dan total_word yaitu 0.95, yang berarti memiliki korelasi positif karena mendekati nilai 1"
      ],
      "metadata": {
        "id": "fgK4P_SfaUhN"
      }
    },
    {
      "cell_type": "markdown",
      "source": [
        "**Scatter**"
      ],
      "metadata": {
        "id": "REz1K6ooa_Nj"
      }
    },
    {
      "cell_type": "code",
      "source": [
        "df.plot(x='total_word', y='total_char', kind='scatter')"
      ],
      "metadata": {
        "colab": {
          "base_uri": "https://localhost:8080/",
          "height": 297
        },
        "id": "KYiGLVTvaj7Q",
        "outputId": "5dfb8e5c-5270-495d-9846-899abd5c726f"
      },
      "execution_count": null,
      "outputs": [
        {
          "output_type": "execute_result",
          "data": {
            "text/plain": [
              "<matplotlib.axes._subplots.AxesSubplot at 0x7f377f5099d0>"
            ]
          },
          "metadata": {},
          "execution_count": 45
        },
        {
          "output_type": "display_data",
          "data": {
            "text/plain": [
              "<Figure size 432x288 with 1 Axes>"
            ],
            "image/png": "[encoded data removed]"
          },
          "metadata": {
            "needs_background": "light"
          }
        }
      ]
    },
    {
      "cell_type": "markdown",
      "source": [
        "**Bar**"
      ],
      "metadata": {
        "id": "dSZbhhLSbCSr"
      }
    },
    {
      "cell_type": "code",
      "source": [
        "df.groupby('hs_class').total_word.sum().plot(kind='bar')"
      ],
      "metadata": {
        "colab": {
          "base_uri": "https://localhost:8080/",
          "height": 331
        },
        "id": "GFtpfR-QbEb6",
        "outputId": "73883157-f9fe-4cd8-9420-c8c1e4be7c7b"
      },
      "execution_count": null,
      "outputs": [
        {
          "output_type": "execute_result",
          "data": {
            "text/plain": [
              "<matplotlib.axes._subplots.AxesSubplot at 0x7f377dc0f5e0>"
            ]
          },
          "metadata": {},
          "execution_count": 46
        },
        {
          "output_type": "display_data",
          "data": {
            "text/plain": [
              "<Figure size 432x288 with 1 Axes>"
            ],
            "image/png": "[encoded data removed]"
          },
          "metadata": {
            "needs_background": "light"
          }
        }
      ]
    },
    {
      "cell_type": "code",
      "source": [
        "df.groupby('hs_class').total_char.sum().plot(kind='bar')"
      ],
      "metadata": {
        "colab": {
          "base_uri": "https://localhost:8080/",
          "height": 331
        },
        "id": "UozurfVz1nVy",
        "outputId": "206bcf61-53b2-4a01-fd79-38fc56fc47a6"
      },
      "execution_count": null,
      "outputs": [
        {
          "output_type": "execute_result",
          "data": {
            "text/plain": [
              "<matplotlib.axes._subplots.AxesSubplot at 0x7f377dc219a0>"
            ]
          },
          "metadata": {},
          "execution_count": 50
        },
        {
          "output_type": "display_data",
          "data": {
            "text/plain": [
              "<Figure size 432x288 with 1 Axes>"
            ],
            "image/png": "[encoded data removed]"
          },
          "metadata": {
            "needs_background": "light"
          }
        }
      ]
    }
  ]
}
